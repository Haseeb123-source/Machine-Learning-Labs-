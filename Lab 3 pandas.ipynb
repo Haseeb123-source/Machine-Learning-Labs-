{
 "cells": [
  {
   "cell_type": "markdown",
   "id": "56668603",
   "metadata": {},
   "source": [
    "### Introduction To Pandas Module\n",
    "Here, we are learning data analysis. Pandas is a software library written for the Python programming language that helps with data manipulation and analysis. It offers various data structures which help in the manipulation of data. <br>\n",
    "One of the data structures used is DataFrame.<br>\n",
    "DataFrame is used as a way to store data in a rectangular grid.<br>\n",
    "Similar to how data is stored in Microsoft Excel.\n",
    "### Installation\n",
    "We can easily install this library using the terminal. Follow the steps given below to install Pandas:<br>\n",
    "Step 1: Go to the Windows PowerShell.<br>\n",
    "Step 2: We can install pandas with the help of pip easily. Head over to the directory where you want to install the pandas and fire the below command:<br>\n",
    "__pip install pandas__<br>\n",
    "This is very simple to install. "
   ]
  },
  {
   "cell_type": "code",
   "execution_count": 1,
   "id": "9d7597cd",
   "metadata": {},
   "outputs": [],
   "source": [
    "# !pip install pandas"
   ]
  },
  {
   "cell_type": "markdown",
   "id": "c0604699",
   "metadata": {},
   "source": [
    "### Other way to install\n",
    "If the above steps do not work for you, here is another way to install:<br>\n",
    "Step 1: Go to your browser. Search for __python unofficial binaries__, or click <br>\n",
    "https://www.lfd.uci.edu/~gohlke/pythonlibs/<br> \n",
    "and you will be redirected to the binary page.<br>\n",
    "Step 2: To download the library, search for pandas – Ctrl + F will help you. Download pandas library based on your python version. <br>\n",
    "Step 3: After the installation, head over to the directory where you've downloaded the pandas. <br>\n",
    "Step 4: Right-click to open Windows PowerShell. Pip can help us with the installation. Just go to that location in your terminal and run the following command: <br>\n",
    "__pip install pandas__ <br>\n",
    "Complete this command by the TAB button so that the location of your folder is mentioned."
   ]
  },
  {
   "cell_type": "markdown",
   "id": "800f769b",
   "metadata": {},
   "source": [
    "### import pandas\n",
    "Once Pandas is installed, import it in your applications by adding the import keyword:<br>\n",
    "__import pandas as pd__<br>\n",
    "Now Pandas is imported and ready to use."
   ]
  },
  {
   "cell_type": "code",
   "execution_count": 2,
   "id": "74e4e20e",
   "metadata": {},
   "outputs": [],
   "source": [
    "import pandas"
   ]
  },
  {
   "cell_type": "code",
   "execution_count": 6,
   "id": "14107062",
   "metadata": {},
   "outputs": [
    {
     "name": "stdout",
     "output_type": "stream",
     "text": [
      "           Name  Marks     Class  GPA\n",
      "0  Abdul Haseeb     80  4st Year  3.7\n",
      "1   Haseeb khan     72  2nd Year  3.2\n",
      "2  Muhammad jan     77  1st Year  3.5\n",
      "3        Haseeb     65  3rd Year  2.8\n",
      "4      Ali Khan     15  2nd Year  1.0\n"
     ]
    }
   ],
   "source": [
    "import pandas as pd\n",
    "\n",
    "# Your updated data with GPA\n",
    "data = {\n",
    "    'Name': [\"Abdul Haseeb\", \"Haseeb khan\", \"Muhammad jan\", \"Haseeb\", \"Ali Khan\"],\n",
    "    'Marks': [80, 72, 77, 65, 15],\n",
    "    'Class': [\"4st Year\", \"2nd Year\", \"1st Year\", \"3rd Year\", \"2nd Year\"],\n",
    "    'GPA': [3.7, 3.2, 3.5, 2.8, 1.0]\n",
    "}\n",
    "\n",
    "# Create and save dataset.csv\n",
    "df = pd.DataFrame(data)\n",
    "df.to_csv('dataset.csv', index=False)\n",
    "\n",
    "# Read the dataset\n",
    "classData = pd.read_csv('dataset.csv')\n",
    "print(classData)\n"
   ]
  },
  {
   "cell_type": "code",
   "execution_count": 9,
   "id": "0785aeae",
   "metadata": {},
   "outputs": [],
   "source": [
    "dict1 = {\n",
    "    'Name': [\"Abdul Haseeb\", \"Haseeb khan\", \"Muhammad jan\", \"Haseeb\",\"Ali Khan\"],\n",
    "    'Marks': [80, 72, 77, 65, 15],\n",
    "    'Class':[\"4st Year\", \"2nd Year\", \"1st Year\", \"3rd Year\", \"2nd Year\"]\n",
    "}"
   ]
  },
  {
   "cell_type": "code",
   "execution_count": 11,
   "id": "c4957475",
   "metadata": {},
   "outputs": [],
   "source": [
    "import pandas as pd\n",
    "\n",
    "# Now use pd to create the DataFrame\n",
    "df = pd.DataFrame(dict1)\n"
   ]
  },
  {
   "cell_type": "code",
   "execution_count": 15,
   "id": "87f1d77a",
   "metadata": {},
   "outputs": [
    {
     "name": "stdout",
     "output_type": "stream",
     "text": [
      "      Name  Age\n",
      "0    Alice   25\n",
      "1      Bob   30\n",
      "2  Charlie   35\n"
     ]
    }
   ],
   "source": [
    "dict1 = {\n",
    "    'Name': ['Alice', 'Bob', 'Charlie'],\n",
    "    'Age': [25, 30, 35]\n",
    "}\n",
    "df = pd.DataFrame(dict1)\n",
    "print(df)\n"
   ]
  },
  {
   "cell_type": "code",
   "execution_count": null,
   "id": "62ab3cef",
   "metadata": {},
   "outputs": [],
   "source": []
  },
  {
   "cell_type": "code",
   "execution_count": 16,
   "id": "418d12ca",
   "metadata": {},
   "outputs": [
    {
     "data": {
      "text/html": [
       "<div>\n",
       "<style scoped>\n",
       "    .dataframe tbody tr th:only-of-type {\n",
       "        vertical-align: middle;\n",
       "    }\n",
       "\n",
       "    .dataframe tbody tr th {\n",
       "        vertical-align: top;\n",
       "    }\n",
       "\n",
       "    .dataframe thead th {\n",
       "        text-align: right;\n",
       "    }\n",
       "</style>\n",
       "<table border=\"1\" class=\"dataframe\">\n",
       "  <thead>\n",
       "    <tr style=\"text-align: right;\">\n",
       "      <th></th>\n",
       "      <th>Name</th>\n",
       "      <th>Age</th>\n",
       "    </tr>\n",
       "  </thead>\n",
       "  <tbody>\n",
       "    <tr>\n",
       "      <th>0</th>\n",
       "      <td>Alice</td>\n",
       "      <td>25</td>\n",
       "    </tr>\n",
       "    <tr>\n",
       "      <th>1</th>\n",
       "      <td>Bob</td>\n",
       "      <td>30</td>\n",
       "    </tr>\n",
       "    <tr>\n",
       "      <th>2</th>\n",
       "      <td>Charlie</td>\n",
       "      <td>35</td>\n",
       "    </tr>\n",
       "  </tbody>\n",
       "</table>\n",
       "</div>"
      ],
      "text/plain": [
       "      Name  Age\n",
       "0    Alice   25\n",
       "1      Bob   30\n",
       "2  Charlie   35"
      ]
     },
     "execution_count": 16,
     "metadata": {},
     "output_type": "execute_result"
    }
   ],
   "source": [
    "df"
   ]
  },
  {
   "cell_type": "markdown",
   "id": "cf6a5e3b",
   "metadata": {},
   "source": [
    "### Pandas as pd\n",
    "Pandas is usually imported under the pd alias.\n",
    "#### alias: \n",
    "In Python alias are an alternate name for referring to the same thing.<br>\n",
    "Create an alias with the as keyword while importing:<br>\n",
    "__import pandas as pd__<br>\n",
    "Now the Pandas package can be referred to as pd instead of pandas."
   ]
  },
  {
   "cell_type": "code",
   "execution_count": 17,
   "id": "8d2d715b",
   "metadata": {},
   "outputs": [],
   "source": [
    "import pandas as pd"
   ]
  },
  {
   "cell_type": "code",
   "execution_count": 18,
   "id": "6efcbfa5",
   "metadata": {},
   "outputs": [],
   "source": [
    "df = pd.DataFrame(dict1)"
   ]
  },
  {
   "cell_type": "code",
   "execution_count": 19,
   "id": "3d64ad00",
   "metadata": {},
   "outputs": [
    {
     "data": {
      "text/html": [
       "<div>\n",
       "<style scoped>\n",
       "    .dataframe tbody tr th:only-of-type {\n",
       "        vertical-align: middle;\n",
       "    }\n",
       "\n",
       "    .dataframe tbody tr th {\n",
       "        vertical-align: top;\n",
       "    }\n",
       "\n",
       "    .dataframe thead th {\n",
       "        text-align: right;\n",
       "    }\n",
       "</style>\n",
       "<table border=\"1\" class=\"dataframe\">\n",
       "  <thead>\n",
       "    <tr style=\"text-align: right;\">\n",
       "      <th></th>\n",
       "      <th>Name</th>\n",
       "      <th>Age</th>\n",
       "    </tr>\n",
       "  </thead>\n",
       "  <tbody>\n",
       "    <tr>\n",
       "      <th>0</th>\n",
       "      <td>Alice</td>\n",
       "      <td>25</td>\n",
       "    </tr>\n",
       "    <tr>\n",
       "      <th>1</th>\n",
       "      <td>Bob</td>\n",
       "      <td>30</td>\n",
       "    </tr>\n",
       "    <tr>\n",
       "      <th>2</th>\n",
       "      <td>Charlie</td>\n",
       "      <td>35</td>\n",
       "    </tr>\n",
       "  </tbody>\n",
       "</table>\n",
       "</div>"
      ],
      "text/plain": [
       "      Name  Age\n",
       "0    Alice   25\n",
       "1      Bob   30\n",
       "2  Charlie   35"
      ]
     },
     "execution_count": 19,
     "metadata": {},
     "output_type": "execute_result"
    }
   ],
   "source": [
    "df"
   ]
  },
  {
   "cell_type": "markdown",
   "id": "bbd5858a",
   "metadata": {},
   "source": [
    "### Checking Pandas Version\n",
    "The version string is stored under __version__ attribute."
   ]
  },
  {
   "cell_type": "code",
   "execution_count": 20,
   "id": "1b1f0bc2",
   "metadata": {},
   "outputs": [
    {
     "data": {
      "text/plain": [
       "'1.1.5'"
      ]
     },
     "execution_count": 20,
     "metadata": {},
     "output_type": "execute_result"
    }
   ],
   "source": [
    "pd.__version__"
   ]
  },
  {
   "cell_type": "markdown",
   "id": "be883ee5",
   "metadata": {},
   "source": [
    "## Import to CSV"
   ]
  },
  {
   "cell_type": "code",
   "execution_count": 21,
   "id": "f91b48d9",
   "metadata": {},
   "outputs": [],
   "source": [
    "df.to_csv('pythonMonday.csv')"
   ]
  },
  {
   "cell_type": "markdown",
   "id": "97375b17",
   "metadata": {},
   "source": [
    "## Remove Index"
   ]
  },
  {
   "cell_type": "code",
   "execution_count": 22,
   "id": "97ba78c5",
   "metadata": {},
   "outputs": [],
   "source": [
    "df.to_csv('pythonMondayRemoveIndex.csv', index=False)"
   ]
  },
  {
   "cell_type": "markdown",
   "id": "be14b569",
   "metadata": {},
   "source": [
    "## Show some rows from the Start"
   ]
  },
  {
   "cell_type": "code",
   "execution_count": 23,
   "id": "01615a53",
   "metadata": {
    "scrolled": true
   },
   "outputs": [
    {
     "data": {
      "text/html": [
       "<div>\n",
       "<style scoped>\n",
       "    .dataframe tbody tr th:only-of-type {\n",
       "        vertical-align: middle;\n",
       "    }\n",
       "\n",
       "    .dataframe tbody tr th {\n",
       "        vertical-align: top;\n",
       "    }\n",
       "\n",
       "    .dataframe thead th {\n",
       "        text-align: right;\n",
       "    }\n",
       "</style>\n",
       "<table border=\"1\" class=\"dataframe\">\n",
       "  <thead>\n",
       "    <tr style=\"text-align: right;\">\n",
       "      <th></th>\n",
       "      <th>Name</th>\n",
       "      <th>Age</th>\n",
       "    </tr>\n",
       "  </thead>\n",
       "  <tbody>\n",
       "    <tr>\n",
       "      <th>0</th>\n",
       "      <td>Alice</td>\n",
       "      <td>25</td>\n",
       "    </tr>\n",
       "    <tr>\n",
       "      <th>1</th>\n",
       "      <td>Bob</td>\n",
       "      <td>30</td>\n",
       "    </tr>\n",
       "    <tr>\n",
       "      <th>2</th>\n",
       "      <td>Charlie</td>\n",
       "      <td>35</td>\n",
       "    </tr>\n",
       "  </tbody>\n",
       "</table>\n",
       "</div>"
      ],
      "text/plain": [
       "      Name  Age\n",
       "0    Alice   25\n",
       "1      Bob   30\n",
       "2  Charlie   35"
      ]
     },
     "execution_count": 23,
     "metadata": {},
     "output_type": "execute_result"
    }
   ],
   "source": [
    "df.head()"
   ]
  },
  {
   "cell_type": "code",
   "execution_count": 24,
   "id": "22951ef2",
   "metadata": {},
   "outputs": [
    {
     "data": {
      "text/html": [
       "<div>\n",
       "<style scoped>\n",
       "    .dataframe tbody tr th:only-of-type {\n",
       "        vertical-align: middle;\n",
       "    }\n",
       "\n",
       "    .dataframe tbody tr th {\n",
       "        vertical-align: top;\n",
       "    }\n",
       "\n",
       "    .dataframe thead th {\n",
       "        text-align: right;\n",
       "    }\n",
       "</style>\n",
       "<table border=\"1\" class=\"dataframe\">\n",
       "  <thead>\n",
       "    <tr style=\"text-align: right;\">\n",
       "      <th></th>\n",
       "      <th>Name</th>\n",
       "      <th>Age</th>\n",
       "    </tr>\n",
       "  </thead>\n",
       "  <tbody>\n",
       "    <tr>\n",
       "      <th>0</th>\n",
       "      <td>Alice</td>\n",
       "      <td>25</td>\n",
       "    </tr>\n",
       "    <tr>\n",
       "      <th>1</th>\n",
       "      <td>Bob</td>\n",
       "      <td>30</td>\n",
       "    </tr>\n",
       "    <tr>\n",
       "      <th>2</th>\n",
       "      <td>Charlie</td>\n",
       "      <td>35</td>\n",
       "    </tr>\n",
       "  </tbody>\n",
       "</table>\n",
       "</div>"
      ],
      "text/plain": [
       "      Name  Age\n",
       "0    Alice   25\n",
       "1      Bob   30\n",
       "2  Charlie   35"
      ]
     },
     "execution_count": 24,
     "metadata": {},
     "output_type": "execute_result"
    }
   ],
   "source": [
    "df.head()"
   ]
  },
  {
   "cell_type": "code",
   "execution_count": 25,
   "id": "36e7a4a2",
   "metadata": {},
   "outputs": [
    {
     "data": {
      "text/html": [
       "<div>\n",
       "<style scoped>\n",
       "    .dataframe tbody tr th:only-of-type {\n",
       "        vertical-align: middle;\n",
       "    }\n",
       "\n",
       "    .dataframe tbody tr th {\n",
       "        vertical-align: top;\n",
       "    }\n",
       "\n",
       "    .dataframe thead th {\n",
       "        text-align: right;\n",
       "    }\n",
       "</style>\n",
       "<table border=\"1\" class=\"dataframe\">\n",
       "  <thead>\n",
       "    <tr style=\"text-align: right;\">\n",
       "      <th></th>\n",
       "      <th>Name</th>\n",
       "      <th>Age</th>\n",
       "    </tr>\n",
       "  </thead>\n",
       "  <tbody>\n",
       "    <tr>\n",
       "      <th>0</th>\n",
       "      <td>Alice</td>\n",
       "      <td>25</td>\n",
       "    </tr>\n",
       "    <tr>\n",
       "      <th>1</th>\n",
       "      <td>Bob</td>\n",
       "      <td>30</td>\n",
       "    </tr>\n",
       "    <tr>\n",
       "      <th>2</th>\n",
       "      <td>Charlie</td>\n",
       "      <td>35</td>\n",
       "    </tr>\n",
       "  </tbody>\n",
       "</table>\n",
       "</div>"
      ],
      "text/plain": [
       "      Name  Age\n",
       "0    Alice   25\n",
       "1      Bob   30\n",
       "2  Charlie   35"
      ]
     },
     "execution_count": 25,
     "metadata": {},
     "output_type": "execute_result"
    }
   ],
   "source": [
    "df.tail(3)"
   ]
  },
  {
   "cell_type": "code",
   "execution_count": 26,
   "id": "59b61b63",
   "metadata": {},
   "outputs": [
    {
     "data": {
      "text/html": [
       "<div>\n",
       "<style scoped>\n",
       "    .dataframe tbody tr th:only-of-type {\n",
       "        vertical-align: middle;\n",
       "    }\n",
       "\n",
       "    .dataframe tbody tr th {\n",
       "        vertical-align: top;\n",
       "    }\n",
       "\n",
       "    .dataframe thead th {\n",
       "        text-align: right;\n",
       "    }\n",
       "</style>\n",
       "<table border=\"1\" class=\"dataframe\">\n",
       "  <thead>\n",
       "    <tr style=\"text-align: right;\">\n",
       "      <th></th>\n",
       "      <th>Name</th>\n",
       "      <th>Age</th>\n",
       "    </tr>\n",
       "  </thead>\n",
       "  <tbody>\n",
       "    <tr>\n",
       "      <th>0</th>\n",
       "      <td>Alice</td>\n",
       "      <td>25</td>\n",
       "    </tr>\n",
       "    <tr>\n",
       "      <th>1</th>\n",
       "      <td>Bob</td>\n",
       "      <td>30</td>\n",
       "    </tr>\n",
       "    <tr>\n",
       "      <th>2</th>\n",
       "      <td>Charlie</td>\n",
       "      <td>35</td>\n",
       "    </tr>\n",
       "  </tbody>\n",
       "</table>\n",
       "</div>"
      ],
      "text/plain": [
       "      Name  Age\n",
       "0    Alice   25\n",
       "1      Bob   30\n",
       "2  Charlie   35"
      ]
     },
     "execution_count": 26,
     "metadata": {},
     "output_type": "execute_result"
    }
   ],
   "source": [
    "df.tail()"
   ]
  },
  {
   "cell_type": "code",
   "execution_count": 27,
   "id": "d4e52c58",
   "metadata": {},
   "outputs": [
    {
     "data": {
      "text/html": [
       "<div>\n",
       "<style scoped>\n",
       "    .dataframe tbody tr th:only-of-type {\n",
       "        vertical-align: middle;\n",
       "    }\n",
       "\n",
       "    .dataframe tbody tr th {\n",
       "        vertical-align: top;\n",
       "    }\n",
       "\n",
       "    .dataframe thead th {\n",
       "        text-align: right;\n",
       "    }\n",
       "</style>\n",
       "<table border=\"1\" class=\"dataframe\">\n",
       "  <thead>\n",
       "    <tr style=\"text-align: right;\">\n",
       "      <th></th>\n",
       "      <th>Age</th>\n",
       "    </tr>\n",
       "  </thead>\n",
       "  <tbody>\n",
       "    <tr>\n",
       "      <th>count</th>\n",
       "      <td>3.0</td>\n",
       "    </tr>\n",
       "    <tr>\n",
       "      <th>mean</th>\n",
       "      <td>30.0</td>\n",
       "    </tr>\n",
       "    <tr>\n",
       "      <th>std</th>\n",
       "      <td>5.0</td>\n",
       "    </tr>\n",
       "    <tr>\n",
       "      <th>min</th>\n",
       "      <td>25.0</td>\n",
       "    </tr>\n",
       "    <tr>\n",
       "      <th>25%</th>\n",
       "      <td>27.5</td>\n",
       "    </tr>\n",
       "    <tr>\n",
       "      <th>50%</th>\n",
       "      <td>30.0</td>\n",
       "    </tr>\n",
       "    <tr>\n",
       "      <th>75%</th>\n",
       "      <td>32.5</td>\n",
       "    </tr>\n",
       "    <tr>\n",
       "      <th>max</th>\n",
       "      <td>35.0</td>\n",
       "    </tr>\n",
       "  </tbody>\n",
       "</table>\n",
       "</div>"
      ],
      "text/plain": [
       "        Age\n",
       "count   3.0\n",
       "mean   30.0\n",
       "std     5.0\n",
       "min    25.0\n",
       "25%    27.5\n",
       "50%    30.0\n",
       "75%    32.5\n",
       "max    35.0"
      ]
     },
     "execution_count": 27,
     "metadata": {},
     "output_type": "execute_result"
    }
   ],
   "source": [
    "df.describe()"
   ]
  },
  {
   "cell_type": "code",
   "execution_count": 28,
   "id": "cef41eeb",
   "metadata": {},
   "outputs": [],
   "source": [
    "classData= pd.read_csv(\"dataset.csv\")"
   ]
  },
  {
   "cell_type": "code",
   "execution_count": 29,
   "id": "68ab1c5b",
   "metadata": {
    "scrolled": true
   },
   "outputs": [
    {
     "data": {
      "text/html": [
       "<div>\n",
       "<style scoped>\n",
       "    .dataframe tbody tr th:only-of-type {\n",
       "        vertical-align: middle;\n",
       "    }\n",
       "\n",
       "    .dataframe tbody tr th {\n",
       "        vertical-align: top;\n",
       "    }\n",
       "\n",
       "    .dataframe thead th {\n",
       "        text-align: right;\n",
       "    }\n",
       "</style>\n",
       "<table border=\"1\" class=\"dataframe\">\n",
       "  <thead>\n",
       "    <tr style=\"text-align: right;\">\n",
       "      <th></th>\n",
       "      <th>Name</th>\n",
       "      <th>Marks</th>\n",
       "      <th>Class</th>\n",
       "      <th>GPA</th>\n",
       "    </tr>\n",
       "  </thead>\n",
       "  <tbody>\n",
       "    <tr>\n",
       "      <th>0</th>\n",
       "      <td>Abdul Haseeb</td>\n",
       "      <td>80</td>\n",
       "      <td>4st Year</td>\n",
       "      <td>3.7</td>\n",
       "    </tr>\n",
       "    <tr>\n",
       "      <th>1</th>\n",
       "      <td>Haseeb khan</td>\n",
       "      <td>72</td>\n",
       "      <td>2nd Year</td>\n",
       "      <td>3.2</td>\n",
       "    </tr>\n",
       "    <tr>\n",
       "      <th>2</th>\n",
       "      <td>Muhammad jan</td>\n",
       "      <td>77</td>\n",
       "      <td>1st Year</td>\n",
       "      <td>3.5</td>\n",
       "    </tr>\n",
       "    <tr>\n",
       "      <th>3</th>\n",
       "      <td>Haseeb</td>\n",
       "      <td>65</td>\n",
       "      <td>3rd Year</td>\n",
       "      <td>2.8</td>\n",
       "    </tr>\n",
       "    <tr>\n",
       "      <th>4</th>\n",
       "      <td>Ali Khan</td>\n",
       "      <td>15</td>\n",
       "      <td>2nd Year</td>\n",
       "      <td>1.0</td>\n",
       "    </tr>\n",
       "  </tbody>\n",
       "</table>\n",
       "</div>"
      ],
      "text/plain": [
       "           Name  Marks     Class  GPA\n",
       "0  Abdul Haseeb     80  4st Year  3.7\n",
       "1   Haseeb khan     72  2nd Year  3.2\n",
       "2  Muhammad jan     77  1st Year  3.5\n",
       "3        Haseeb     65  3rd Year  2.8\n",
       "4      Ali Khan     15  2nd Year  1.0"
      ]
     },
     "execution_count": 29,
     "metadata": {},
     "output_type": "execute_result"
    }
   ],
   "source": [
    "classData"
   ]
  },
  {
   "cell_type": "code",
   "execution_count": 30,
   "id": "830bb23b",
   "metadata": {},
   "outputs": [
    {
     "data": {
      "text/html": [
       "<div>\n",
       "<style scoped>\n",
       "    .dataframe tbody tr th:only-of-type {\n",
       "        vertical-align: middle;\n",
       "    }\n",
       "\n",
       "    .dataframe tbody tr th {\n",
       "        vertical-align: top;\n",
       "    }\n",
       "\n",
       "    .dataframe thead th {\n",
       "        text-align: right;\n",
       "    }\n",
       "</style>\n",
       "<table border=\"1\" class=\"dataframe\">\n",
       "  <thead>\n",
       "    <tr style=\"text-align: right;\">\n",
       "      <th></th>\n",
       "      <th>Name</th>\n",
       "      <th>Marks</th>\n",
       "      <th>Class</th>\n",
       "      <th>GPA</th>\n",
       "    </tr>\n",
       "  </thead>\n",
       "  <tbody>\n",
       "    <tr>\n",
       "      <th>1</th>\n",
       "      <td>Haseeb khan</td>\n",
       "      <td>72</td>\n",
       "      <td>2nd Year</td>\n",
       "      <td>3.2</td>\n",
       "    </tr>\n",
       "    <tr>\n",
       "      <th>2</th>\n",
       "      <td>Muhammad jan</td>\n",
       "      <td>77</td>\n",
       "      <td>1st Year</td>\n",
       "      <td>3.5</td>\n",
       "    </tr>\n",
       "    <tr>\n",
       "      <th>3</th>\n",
       "      <td>Haseeb</td>\n",
       "      <td>65</td>\n",
       "      <td>3rd Year</td>\n",
       "      <td>2.8</td>\n",
       "    </tr>\n",
       "    <tr>\n",
       "      <th>4</th>\n",
       "      <td>Ali Khan</td>\n",
       "      <td>15</td>\n",
       "      <td>2nd Year</td>\n",
       "      <td>1.0</td>\n",
       "    </tr>\n",
       "  </tbody>\n",
       "</table>\n",
       "</div>"
      ],
      "text/plain": [
       "           Name  Marks     Class  GPA\n",
       "1   Haseeb khan     72  2nd Year  3.2\n",
       "2  Muhammad jan     77  1st Year  3.5\n",
       "3        Haseeb     65  3rd Year  2.8\n",
       "4      Ali Khan     15  2nd Year  1.0"
      ]
     },
     "execution_count": 30,
     "metadata": {},
     "output_type": "execute_result"
    }
   ],
   "source": [
    "classData.drop(0, axis=0)"
   ]
  },
  {
   "cell_type": "code",
   "execution_count": 31,
   "id": "2a995fd3",
   "metadata": {},
   "outputs": [
    {
     "data": {
      "text/html": [
       "<div>\n",
       "<style scoped>\n",
       "    .dataframe tbody tr th:only-of-type {\n",
       "        vertical-align: middle;\n",
       "    }\n",
       "\n",
       "    .dataframe tbody tr th {\n",
       "        vertical-align: top;\n",
       "    }\n",
       "\n",
       "    .dataframe thead th {\n",
       "        text-align: right;\n",
       "    }\n",
       "</style>\n",
       "<table border=\"1\" class=\"dataframe\">\n",
       "  <thead>\n",
       "    <tr style=\"text-align: right;\">\n",
       "      <th></th>\n",
       "      <th>Name</th>\n",
       "      <th>Marks</th>\n",
       "      <th>Class</th>\n",
       "      <th>GPA</th>\n",
       "    </tr>\n",
       "  </thead>\n",
       "  <tbody>\n",
       "    <tr>\n",
       "      <th>0</th>\n",
       "      <td>Abdul Haseeb</td>\n",
       "      <td>80</td>\n",
       "      <td>4st Year</td>\n",
       "      <td>3.7</td>\n",
       "    </tr>\n",
       "    <tr>\n",
       "      <th>1</th>\n",
       "      <td>Haseeb khan</td>\n",
       "      <td>72</td>\n",
       "      <td>2nd Year</td>\n",
       "      <td>3.2</td>\n",
       "    </tr>\n",
       "    <tr>\n",
       "      <th>2</th>\n",
       "      <td>Muhammad jan</td>\n",
       "      <td>77</td>\n",
       "      <td>1st Year</td>\n",
       "      <td>3.5</td>\n",
       "    </tr>\n",
       "    <tr>\n",
       "      <th>3</th>\n",
       "      <td>Haseeb</td>\n",
       "      <td>65</td>\n",
       "      <td>3rd Year</td>\n",
       "      <td>2.8</td>\n",
       "    </tr>\n",
       "    <tr>\n",
       "      <th>4</th>\n",
       "      <td>Ali Khan</td>\n",
       "      <td>15</td>\n",
       "      <td>2nd Year</td>\n",
       "      <td>1.0</td>\n",
       "    </tr>\n",
       "  </tbody>\n",
       "</table>\n",
       "</div>"
      ],
      "text/plain": [
       "           Name  Marks     Class  GPA\n",
       "0  Abdul Haseeb     80  4st Year  3.7\n",
       "1   Haseeb khan     72  2nd Year  3.2\n",
       "2  Muhammad jan     77  1st Year  3.5\n",
       "3        Haseeb     65  3rd Year  2.8\n",
       "4      Ali Khan     15  2nd Year  1.0"
      ]
     },
     "execution_count": 31,
     "metadata": {},
     "output_type": "execute_result"
    }
   ],
   "source": [
    "classData"
   ]
  },
  {
   "cell_type": "code",
   "execution_count": 32,
   "id": "2c7214e7",
   "metadata": {},
   "outputs": [
    {
     "data": {
      "text/plain": [
       "0    3.7\n",
       "1    3.2\n",
       "2    3.5\n",
       "3    2.8\n",
       "4    1.0\n",
       "Name: GPA, dtype: float64"
      ]
     },
     "execution_count": 32,
     "metadata": {},
     "output_type": "execute_result"
    }
   ],
   "source": [
    "classData['GPA']"
   ]
  },
  {
   "cell_type": "code",
   "execution_count": 33,
   "id": "a8ed245d",
   "metadata": {},
   "outputs": [
    {
     "data": {
      "text/plain": [
       "0    4st Year\n",
       "1    2nd Year\n",
       "2    1st Year\n",
       "3    3rd Year\n",
       "4    2nd Year\n",
       "Name: Class, dtype: object"
      ]
     },
     "execution_count": 33,
     "metadata": {},
     "output_type": "execute_result"
    }
   ],
   "source": [
    "classData['Class']"
   ]
  },
  {
   "cell_type": "code",
   "execution_count": null,
   "id": "59bf8806",
   "metadata": {},
   "outputs": [],
   "source": []
  },
  {
   "cell_type": "code",
   "execution_count": 34,
   "id": "99c76ae8",
   "metadata": {},
   "outputs": [
    {
     "data": {
      "text/plain": [
       "0    Abdul Haseeb\n",
       "1     Haseeb khan\n",
       "2    Muhammad jan\n",
       "3          Haseeb\n",
       "4        Ali Khan\n",
       "Name: Name, dtype: object"
      ]
     },
     "execution_count": 34,
     "metadata": {},
     "output_type": "execute_result"
    }
   ],
   "source": [
    "classData['Name']"
   ]
  },
  {
   "cell_type": "code",
   "execution_count": 35,
   "id": "5b926cfa",
   "metadata": {},
   "outputs": [
    {
     "data": {
      "text/plain": [
       "0    Abdul Haseeb\n",
       "1     Haseeb khan\n",
       "2    Muhammad jan\n",
       "3          Haseeb\n",
       "4        Ali Khan\n",
       "Name: Name, dtype: object"
      ]
     },
     "execution_count": 35,
     "metadata": {},
     "output_type": "execute_result"
    }
   ],
   "source": [
    "classData['Name']"
   ]
  },
  {
   "cell_type": "code",
   "execution_count": 36,
   "id": "377b2115",
   "metadata": {},
   "outputs": [
    {
     "data": {
      "text/plain": [
       "pandas.core.series.Series"
      ]
     },
     "execution_count": 36,
     "metadata": {},
     "output_type": "execute_result"
    }
   ],
   "source": [
    "type(classData['Name'])"
   ]
  },
  {
   "cell_type": "code",
   "execution_count": 37,
   "id": "c87b914f",
   "metadata": {},
   "outputs": [
    {
     "data": {
      "text/plain": [
       "0    3.7\n",
       "1    3.2\n",
       "2    3.5\n",
       "3    2.8\n",
       "4    1.0\n",
       "Name: GPA, dtype: float64"
      ]
     },
     "execution_count": 37,
     "metadata": {},
     "output_type": "execute_result"
    }
   ],
   "source": [
    "classData['GPA']"
   ]
  },
  {
   "cell_type": "code",
   "execution_count": 38,
   "id": "c40e2744",
   "metadata": {},
   "outputs": [
    {
     "data": {
      "text/plain": [
       "3.7"
      ]
     },
     "execution_count": 38,
     "metadata": {},
     "output_type": "execute_result"
    }
   ],
   "source": [
    "classData['GPA'][0]"
   ]
  },
  {
   "cell_type": "code",
   "execution_count": 39,
   "id": "4b39e3e9",
   "metadata": {},
   "outputs": [
    {
     "name": "stderr",
     "output_type": "stream",
     "text": [
      "C:\\Users\\Amazon Hub\\anaconda3\\envs\\haseeb\\lib\\site-packages\\ipykernel_launcher.py:1: SettingWithCopyWarning: \n",
      "A value is trying to be set on a copy of a slice from a DataFrame\n",
      "\n",
      "See the caveats in the documentation: https://pandas.pydata.org/pandas-docs/stable/user_guide/indexing.html#returning-a-view-versus-a-copy\n",
      "  \"\"\"Entry point for launching an IPython kernel.\n"
     ]
    }
   ],
   "source": [
    "classData['GPA'][0]=90"
   ]
  },
  {
   "cell_type": "code",
   "execution_count": 40,
   "id": "4f1aaee2",
   "metadata": {},
   "outputs": [
    {
     "data": {
      "text/html": [
       "<div>\n",
       "<style scoped>\n",
       "    .dataframe tbody tr th:only-of-type {\n",
       "        vertical-align: middle;\n",
       "    }\n",
       "\n",
       "    .dataframe tbody tr th {\n",
       "        vertical-align: top;\n",
       "    }\n",
       "\n",
       "    .dataframe thead th {\n",
       "        text-align: right;\n",
       "    }\n",
       "</style>\n",
       "<table border=\"1\" class=\"dataframe\">\n",
       "  <thead>\n",
       "    <tr style=\"text-align: right;\">\n",
       "      <th></th>\n",
       "      <th>Name</th>\n",
       "      <th>Marks</th>\n",
       "      <th>Class</th>\n",
       "      <th>GPA</th>\n",
       "    </tr>\n",
       "  </thead>\n",
       "  <tbody>\n",
       "    <tr>\n",
       "      <th>0</th>\n",
       "      <td>Abdul Haseeb</td>\n",
       "      <td>80</td>\n",
       "      <td>4st Year</td>\n",
       "      <td>90.0</td>\n",
       "    </tr>\n",
       "    <tr>\n",
       "      <th>1</th>\n",
       "      <td>Haseeb khan</td>\n",
       "      <td>72</td>\n",
       "      <td>2nd Year</td>\n",
       "      <td>3.2</td>\n",
       "    </tr>\n",
       "    <tr>\n",
       "      <th>2</th>\n",
       "      <td>Muhammad jan</td>\n",
       "      <td>77</td>\n",
       "      <td>1st Year</td>\n",
       "      <td>3.5</td>\n",
       "    </tr>\n",
       "    <tr>\n",
       "      <th>3</th>\n",
       "      <td>Haseeb</td>\n",
       "      <td>65</td>\n",
       "      <td>3rd Year</td>\n",
       "      <td>2.8</td>\n",
       "    </tr>\n",
       "    <tr>\n",
       "      <th>4</th>\n",
       "      <td>Ali Khan</td>\n",
       "      <td>15</td>\n",
       "      <td>2nd Year</td>\n",
       "      <td>1.0</td>\n",
       "    </tr>\n",
       "  </tbody>\n",
       "</table>\n",
       "</div>"
      ],
      "text/plain": [
       "           Name  Marks     Class   GPA\n",
       "0  Abdul Haseeb     80  4st Year  90.0\n",
       "1   Haseeb khan     72  2nd Year   3.2\n",
       "2  Muhammad jan     77  1st Year   3.5\n",
       "3        Haseeb     65  3rd Year   2.8\n",
       "4      Ali Khan     15  2nd Year   1.0"
      ]
     },
     "execution_count": 40,
     "metadata": {},
     "output_type": "execute_result"
    }
   ],
   "source": [
    "classData"
   ]
  },
  {
   "cell_type": "code",
   "execution_count": 41,
   "id": "564f6ae3",
   "metadata": {},
   "outputs": [
    {
     "data": {
      "text/plain": [
       "1.0"
      ]
     },
     "execution_count": 41,
     "metadata": {},
     "output_type": "execute_result"
    }
   ],
   "source": [
    "classData['GPA'][4]"
   ]
  },
  {
   "cell_type": "code",
   "execution_count": 42,
   "id": "b8ce8235",
   "metadata": {},
   "outputs": [
    {
     "name": "stderr",
     "output_type": "stream",
     "text": [
      "C:\\Users\\Amazon Hub\\anaconda3\\envs\\haseeb\\lib\\site-packages\\ipykernel_launcher.py:1: SettingWithCopyWarning: \n",
      "A value is trying to be set on a copy of a slice from a DataFrame\n",
      "\n",
      "See the caveats in the documentation: https://pandas.pydata.org/pandas-docs/stable/user_guide/indexing.html#returning-a-view-versus-a-copy\n",
      "  \"\"\"Entry point for launching an IPython kernel.\n"
     ]
    }
   ],
   "source": [
    "classData['GPA'][4]=5"
   ]
  },
  {
   "cell_type": "code",
   "execution_count": 43,
   "id": "6be8fba8",
   "metadata": {},
   "outputs": [
    {
     "name": "stderr",
     "output_type": "stream",
     "text": [
      "C:\\Users\\Amazon Hub\\anaconda3\\envs\\haseeb\\lib\\site-packages\\ipykernel_launcher.py:1: SettingWithCopyWarning: \n",
      "A value is trying to be set on a copy of a slice from a DataFrame\n",
      "\n",
      "See the caveats in the documentation: https://pandas.pydata.org/pandas-docs/stable/user_guide/indexing.html#returning-a-view-versus-a-copy\n",
      "  \"\"\"Entry point for launching an IPython kernel.\n"
     ]
    }
   ],
   "source": [
    "classData[\"Class\"][4]=\"2nd Year\""
   ]
  },
  {
   "cell_type": "code",
   "execution_count": 44,
   "id": "da1ae981",
   "metadata": {},
   "outputs": [
    {
     "data": {
      "text/html": [
       "<div>\n",
       "<style scoped>\n",
       "    .dataframe tbody tr th:only-of-type {\n",
       "        vertical-align: middle;\n",
       "    }\n",
       "\n",
       "    .dataframe tbody tr th {\n",
       "        vertical-align: top;\n",
       "    }\n",
       "\n",
       "    .dataframe thead th {\n",
       "        text-align: right;\n",
       "    }\n",
       "</style>\n",
       "<table border=\"1\" class=\"dataframe\">\n",
       "  <thead>\n",
       "    <tr style=\"text-align: right;\">\n",
       "      <th></th>\n",
       "      <th>Name</th>\n",
       "      <th>Marks</th>\n",
       "      <th>Class</th>\n",
       "      <th>GPA</th>\n",
       "    </tr>\n",
       "  </thead>\n",
       "  <tbody>\n",
       "    <tr>\n",
       "      <th>0</th>\n",
       "      <td>Abdul Haseeb</td>\n",
       "      <td>80</td>\n",
       "      <td>4st Year</td>\n",
       "      <td>90.0</td>\n",
       "    </tr>\n",
       "    <tr>\n",
       "      <th>1</th>\n",
       "      <td>Haseeb khan</td>\n",
       "      <td>72</td>\n",
       "      <td>2nd Year</td>\n",
       "      <td>3.2</td>\n",
       "    </tr>\n",
       "    <tr>\n",
       "      <th>2</th>\n",
       "      <td>Muhammad jan</td>\n",
       "      <td>77</td>\n",
       "      <td>1st Year</td>\n",
       "      <td>3.5</td>\n",
       "    </tr>\n",
       "    <tr>\n",
       "      <th>3</th>\n",
       "      <td>Haseeb</td>\n",
       "      <td>65</td>\n",
       "      <td>3rd Year</td>\n",
       "      <td>2.8</td>\n",
       "    </tr>\n",
       "    <tr>\n",
       "      <th>4</th>\n",
       "      <td>Ali Khan</td>\n",
       "      <td>15</td>\n",
       "      <td>2nd Year</td>\n",
       "      <td>5.0</td>\n",
       "    </tr>\n",
       "  </tbody>\n",
       "</table>\n",
       "</div>"
      ],
      "text/plain": [
       "           Name  Marks     Class   GPA\n",
       "0  Abdul Haseeb     80  4st Year  90.0\n",
       "1   Haseeb khan     72  2nd Year   3.2\n",
       "2  Muhammad jan     77  1st Year   3.5\n",
       "3        Haseeb     65  3rd Year   2.8\n",
       "4      Ali Khan     15  2nd Year   5.0"
      ]
     },
     "execution_count": 44,
     "metadata": {},
     "output_type": "execute_result"
    }
   ],
   "source": [
    "classData"
   ]
  },
  {
   "cell_type": "code",
   "execution_count": 45,
   "id": "ac6a64b7",
   "metadata": {},
   "outputs": [
    {
     "data": {
      "text/plain": [
       "'Ali Khan'"
      ]
     },
     "execution_count": 45,
     "metadata": {},
     "output_type": "execute_result"
    }
   ],
   "source": [
    "classData[\"Name\"][4]"
   ]
  },
  {
   "cell_type": "code",
   "execution_count": 46,
   "id": "5f4a0ec1",
   "metadata": {},
   "outputs": [
    {
     "data": {
      "text/html": [
       "<div>\n",
       "<style scoped>\n",
       "    .dataframe tbody tr th:only-of-type {\n",
       "        vertical-align: middle;\n",
       "    }\n",
       "\n",
       "    .dataframe tbody tr th {\n",
       "        vertical-align: top;\n",
       "    }\n",
       "\n",
       "    .dataframe thead th {\n",
       "        text-align: right;\n",
       "    }\n",
       "</style>\n",
       "<table border=\"1\" class=\"dataframe\">\n",
       "  <thead>\n",
       "    <tr style=\"text-align: right;\">\n",
       "      <th></th>\n",
       "      <th>Name</th>\n",
       "      <th>Marks</th>\n",
       "      <th>Class</th>\n",
       "      <th>GPA</th>\n",
       "    </tr>\n",
       "  </thead>\n",
       "  <tbody>\n",
       "    <tr>\n",
       "      <th>0</th>\n",
       "      <td>Abdul Haseeb</td>\n",
       "      <td>80</td>\n",
       "      <td>4st Year</td>\n",
       "      <td>90.0</td>\n",
       "    </tr>\n",
       "    <tr>\n",
       "      <th>1</th>\n",
       "      <td>Haseeb khan</td>\n",
       "      <td>72</td>\n",
       "      <td>2nd Year</td>\n",
       "      <td>3.2</td>\n",
       "    </tr>\n",
       "    <tr>\n",
       "      <th>2</th>\n",
       "      <td>Muhammad jan</td>\n",
       "      <td>77</td>\n",
       "      <td>1st Year</td>\n",
       "      <td>3.5</td>\n",
       "    </tr>\n",
       "    <tr>\n",
       "      <th>3</th>\n",
       "      <td>Haseeb</td>\n",
       "      <td>65</td>\n",
       "      <td>3rd Year</td>\n",
       "      <td>2.8</td>\n",
       "    </tr>\n",
       "    <tr>\n",
       "      <th>4</th>\n",
       "      <td>Ali Khan</td>\n",
       "      <td>15</td>\n",
       "      <td>2nd Year</td>\n",
       "      <td>5.0</td>\n",
       "    </tr>\n",
       "  </tbody>\n",
       "</table>\n",
       "</div>"
      ],
      "text/plain": [
       "           Name  Marks     Class   GPA\n",
       "0  Abdul Haseeb     80  4st Year  90.0\n",
       "1   Haseeb khan     72  2nd Year   3.2\n",
       "2  Muhammad jan     77  1st Year   3.5\n",
       "3        Haseeb     65  3rd Year   2.8\n",
       "4      Ali Khan     15  2nd Year   5.0"
      ]
     },
     "execution_count": 46,
     "metadata": {},
     "output_type": "execute_result"
    }
   ],
   "source": [
    "classData"
   ]
  },
  {
   "cell_type": "code",
   "execution_count": 47,
   "id": "76de56ae",
   "metadata": {},
   "outputs": [],
   "source": [
    "classData.to_csv('pythonMondayNew.csv')"
   ]
  },
  {
   "cell_type": "code",
   "execution_count": 48,
   "id": "5c113b0a",
   "metadata": {},
   "outputs": [],
   "source": [
    "classData.to_csv('pythonMondayNewRemoveIndex.csv', index=False)"
   ]
  },
  {
   "cell_type": "markdown",
   "id": "8598ddd4",
   "metadata": {},
   "source": [
    "## Create Labels\n",
    "With the index argument, you can name your own labels."
   ]
  },
  {
   "cell_type": "code",
   "execution_count": 49,
   "id": "6068ca8d",
   "metadata": {},
   "outputs": [],
   "source": [
    "classData.index = [\"First\",\"Second\", \"Third\", \"Fourth\", \"Fifth\"]"
   ]
  },
  {
   "cell_type": "code",
   "execution_count": 50,
   "id": "11941c16",
   "metadata": {},
   "outputs": [
    {
     "data": {
      "text/html": [
       "<div>\n",
       "<style scoped>\n",
       "    .dataframe tbody tr th:only-of-type {\n",
       "        vertical-align: middle;\n",
       "    }\n",
       "\n",
       "    .dataframe tbody tr th {\n",
       "        vertical-align: top;\n",
       "    }\n",
       "\n",
       "    .dataframe thead th {\n",
       "        text-align: right;\n",
       "    }\n",
       "</style>\n",
       "<table border=\"1\" class=\"dataframe\">\n",
       "  <thead>\n",
       "    <tr style=\"text-align: right;\">\n",
       "      <th></th>\n",
       "      <th>Name</th>\n",
       "      <th>Marks</th>\n",
       "      <th>Class</th>\n",
       "      <th>GPA</th>\n",
       "    </tr>\n",
       "  </thead>\n",
       "  <tbody>\n",
       "    <tr>\n",
       "      <th>First</th>\n",
       "      <td>Abdul Haseeb</td>\n",
       "      <td>80</td>\n",
       "      <td>4st Year</td>\n",
       "      <td>90.0</td>\n",
       "    </tr>\n",
       "    <tr>\n",
       "      <th>Second</th>\n",
       "      <td>Haseeb khan</td>\n",
       "      <td>72</td>\n",
       "      <td>2nd Year</td>\n",
       "      <td>3.2</td>\n",
       "    </tr>\n",
       "    <tr>\n",
       "      <th>Third</th>\n",
       "      <td>Muhammad jan</td>\n",
       "      <td>77</td>\n",
       "      <td>1st Year</td>\n",
       "      <td>3.5</td>\n",
       "    </tr>\n",
       "    <tr>\n",
       "      <th>Fourth</th>\n",
       "      <td>Haseeb</td>\n",
       "      <td>65</td>\n",
       "      <td>3rd Year</td>\n",
       "      <td>2.8</td>\n",
       "    </tr>\n",
       "    <tr>\n",
       "      <th>Fifth</th>\n",
       "      <td>Ali Khan</td>\n",
       "      <td>15</td>\n",
       "      <td>2nd Year</td>\n",
       "      <td>5.0</td>\n",
       "    </tr>\n",
       "  </tbody>\n",
       "</table>\n",
       "</div>"
      ],
      "text/plain": [
       "                Name  Marks     Class   GPA\n",
       "First   Abdul Haseeb     80  4st Year  90.0\n",
       "Second   Haseeb khan     72  2nd Year   3.2\n",
       "Third   Muhammad jan     77  1st Year   3.5\n",
       "Fourth        Haseeb     65  3rd Year   2.8\n",
       "Fifth       Ali Khan     15  2nd Year   5.0"
      ]
     },
     "execution_count": 50,
     "metadata": {},
     "output_type": "execute_result"
    }
   ],
   "source": [
    "classData"
   ]
  },
  {
   "cell_type": "code",
   "execution_count": 51,
   "id": "8c7dc4ab",
   "metadata": {},
   "outputs": [
    {
     "data": {
      "text/plain": [
       "'Ali Khan'"
      ]
     },
     "execution_count": 51,
     "metadata": {},
     "output_type": "execute_result"
    }
   ],
   "source": [
    "classData[\"Name\"][\"Fifth\"]"
   ]
  },
  {
   "cell_type": "markdown",
   "id": "ef732464",
   "metadata": {},
   "source": [
    "## Pandas \n",
    "Pandas is an open source data analysis library written in Python.<br>\n",
    "It uses the power and speed of numpy to make data analysis and preprocessing easy for data scientists.<br>\n",
    "__Pandas__ is used to analyze data.<br>\n",
    "Python data analysis using pandas is a great start to Exploratory Data Analysis (EDA) for a data scientist."
   ]
  },
  {
   "cell_type": "markdown",
   "id": "67c0937b",
   "metadata": {},
   "source": [
    "## Pandas Data Structure\n",
    "Panda has two types of Data Structure:<br> \n",
    "    a) Series<br>\n",
    "    b) Dataframe\n",
    "### Series\n",
    "It is a one dimentional array with indexes. It stores a single column or row of data in a Dataframe.<br>\n",
    "It is a one dimensional array capable of holding any type of data.\n",
    "### Dataframe\n",
    "It is a tabular spreadsheet like structure representing rows each of which contains one or more columns.<br>\n",
    "It is a multi dimensional array capable of holding any type of data.<br>\n",
    "__Series__ is like a column, a __DataFrame__ is the whole table."
   ]
  },
  {
   "cell_type": "code",
   "execution_count": 52,
   "id": "036c76bb",
   "metadata": {},
   "outputs": [
    {
     "data": {
      "text/plain": [
       "First     90.0\n",
       "Second     3.2\n",
       "Third      3.5\n",
       "Fourth     2.8\n",
       "Fifth      5.0\n",
       "Name: GPA, dtype: float64"
      ]
     },
     "execution_count": 52,
     "metadata": {},
     "output_type": "execute_result"
    }
   ],
   "source": [
    "classData['GPA']"
   ]
  },
  {
   "cell_type": "code",
   "execution_count": 53,
   "id": "2513c566",
   "metadata": {},
   "outputs": [
    {
     "data": {
      "text/plain": [
       "pandas.core.series.Series"
      ]
     },
     "execution_count": 53,
     "metadata": {},
     "output_type": "execute_result"
    }
   ],
   "source": [
    " type(classData['GPA'])"
   ]
  },
  {
   "cell_type": "code",
   "execution_count": 54,
   "id": "322c0ff8",
   "metadata": {},
   "outputs": [
    {
     "data": {
      "text/html": [
       "<div>\n",
       "<style scoped>\n",
       "    .dataframe tbody tr th:only-of-type {\n",
       "        vertical-align: middle;\n",
       "    }\n",
       "\n",
       "    .dataframe tbody tr th {\n",
       "        vertical-align: top;\n",
       "    }\n",
       "\n",
       "    .dataframe thead th {\n",
       "        text-align: right;\n",
       "    }\n",
       "</style>\n",
       "<table border=\"1\" class=\"dataframe\">\n",
       "  <thead>\n",
       "    <tr style=\"text-align: right;\">\n",
       "      <th></th>\n",
       "      <th>Name</th>\n",
       "      <th>Marks</th>\n",
       "      <th>Class</th>\n",
       "      <th>GPA</th>\n",
       "    </tr>\n",
       "  </thead>\n",
       "  <tbody>\n",
       "    <tr>\n",
       "      <th>First</th>\n",
       "      <td>Abdul Haseeb</td>\n",
       "      <td>80</td>\n",
       "      <td>4st Year</td>\n",
       "      <td>90.0</td>\n",
       "    </tr>\n",
       "    <tr>\n",
       "      <th>Second</th>\n",
       "      <td>Haseeb khan</td>\n",
       "      <td>72</td>\n",
       "      <td>2nd Year</td>\n",
       "      <td>3.2</td>\n",
       "    </tr>\n",
       "    <tr>\n",
       "      <th>Third</th>\n",
       "      <td>Muhammad jan</td>\n",
       "      <td>77</td>\n",
       "      <td>1st Year</td>\n",
       "      <td>3.5</td>\n",
       "    </tr>\n",
       "    <tr>\n",
       "      <th>Fourth</th>\n",
       "      <td>Haseeb</td>\n",
       "      <td>65</td>\n",
       "      <td>3rd Year</td>\n",
       "      <td>2.8</td>\n",
       "    </tr>\n",
       "    <tr>\n",
       "      <th>Fifth</th>\n",
       "      <td>Ali Khan</td>\n",
       "      <td>15</td>\n",
       "      <td>2nd Year</td>\n",
       "      <td>5.0</td>\n",
       "    </tr>\n",
       "  </tbody>\n",
       "</table>\n",
       "</div>"
      ],
      "text/plain": [
       "                Name  Marks     Class   GPA\n",
       "First   Abdul Haseeb     80  4st Year  90.0\n",
       "Second   Haseeb khan     72  2nd Year   3.2\n",
       "Third   Muhammad jan     77  1st Year   3.5\n",
       "Fourth        Haseeb     65  3rd Year   2.8\n",
       "Fifth       Ali Khan     15  2nd Year   5.0"
      ]
     },
     "execution_count": 54,
     "metadata": {},
     "output_type": "execute_result"
    }
   ],
   "source": [
    "classData"
   ]
  },
  {
   "cell_type": "code",
   "execution_count": 55,
   "id": "5a3ab22e",
   "metadata": {},
   "outputs": [
    {
     "data": {
      "text/plain": [
       "pandas.core.frame.DataFrame"
      ]
     },
     "execution_count": 55,
     "metadata": {},
     "output_type": "execute_result"
    }
   ],
   "source": [
    "type(classData)"
   ]
  },
  {
   "cell_type": "code",
   "execution_count": 56,
   "id": "5268b0a9",
   "metadata": {},
   "outputs": [],
   "source": [
    "import numpy as np"
   ]
  },
  {
   "cell_type": "code",
   "execution_count": 57,
   "id": "54345486",
   "metadata": {},
   "outputs": [],
   "source": [
    "series1= pd.Series(np.random.rand())"
   ]
  },
  {
   "cell_type": "code",
   "execution_count": 58,
   "id": "c19c0a18",
   "metadata": {},
   "outputs": [
    {
     "data": {
      "text/plain": [
       "0    0.09015\n",
       "dtype: float64"
      ]
     },
     "execution_count": 58,
     "metadata": {},
     "output_type": "execute_result"
    }
   ],
   "source": [
    "series1"
   ]
  },
  {
   "cell_type": "code",
   "execution_count": 59,
   "id": "3962ba6d",
   "metadata": {},
   "outputs": [],
   "source": [
    "series1= pd.Series(np.random.rand(30))"
   ]
  },
  {
   "cell_type": "code",
   "execution_count": 60,
   "id": "0f576808",
   "metadata": {},
   "outputs": [
    {
     "data": {
      "text/plain": [
       "0     0.258912\n",
       "1     0.535136\n",
       "2     0.141243\n",
       "3     0.997373\n",
       "4     0.832065\n",
       "5     0.151093\n",
       "6     0.920187\n",
       "7     0.550152\n",
       "8     0.404637\n",
       "9     0.421093\n",
       "10    0.260035\n",
       "11    0.650084\n",
       "12    0.844445\n",
       "13    0.195705\n",
       "14    0.313470\n",
       "15    0.556210\n",
       "16    0.353231\n",
       "17    0.161544\n",
       "18    0.731333\n",
       "19    0.383680\n",
       "20    0.050750\n",
       "21    0.163065\n",
       "22    0.170990\n",
       "23    0.825563\n",
       "24    0.943724\n",
       "25    0.582393\n",
       "26    0.857585\n",
       "27    0.979972\n",
       "28    0.369107\n",
       "29    0.964305\n",
       "dtype: float64"
      ]
     },
     "execution_count": 60,
     "metadata": {},
     "output_type": "execute_result"
    }
   ],
   "source": [
    "series1"
   ]
  },
  {
   "cell_type": "code",
   "execution_count": 61,
   "id": "e5e9ce8d",
   "metadata": {},
   "outputs": [
    {
     "data": {
      "text/plain": [
       "pandas.core.series.Series"
      ]
     },
     "execution_count": 61,
     "metadata": {},
     "output_type": "execute_result"
    }
   ],
   "source": [
    "type(series1)"
   ]
  },
  {
   "cell_type": "code",
   "execution_count": 62,
   "id": "79f949f5",
   "metadata": {},
   "outputs": [],
   "source": [
    "newDf = pd.DataFrame(np.random.rand(330,5))\n",
    "# newDf = pd.DataFrame(np.random.rand(330,5), index=np.arange(330))"
   ]
  },
  {
   "cell_type": "code",
   "execution_count": 63,
   "id": "444b2e6a",
   "metadata": {},
   "outputs": [
    {
     "data": {
      "text/plain": [
       "pandas.core.frame.DataFrame"
      ]
     },
     "execution_count": 63,
     "metadata": {},
     "output_type": "execute_result"
    }
   ],
   "source": [
    "type(newDf)"
   ]
  },
  {
   "cell_type": "code",
   "execution_count": 64,
   "id": "55b8ed35",
   "metadata": {},
   "outputs": [
    {
     "data": {
      "text/html": [
       "<div>\n",
       "<style scoped>\n",
       "    .dataframe tbody tr th:only-of-type {\n",
       "        vertical-align: middle;\n",
       "    }\n",
       "\n",
       "    .dataframe tbody tr th {\n",
       "        vertical-align: top;\n",
       "    }\n",
       "\n",
       "    .dataframe thead th {\n",
       "        text-align: right;\n",
       "    }\n",
       "</style>\n",
       "<table border=\"1\" class=\"dataframe\">\n",
       "  <thead>\n",
       "    <tr style=\"text-align: right;\">\n",
       "      <th></th>\n",
       "      <th>0</th>\n",
       "      <th>1</th>\n",
       "      <th>2</th>\n",
       "      <th>3</th>\n",
       "      <th>4</th>\n",
       "    </tr>\n",
       "  </thead>\n",
       "  <tbody>\n",
       "    <tr>\n",
       "      <th>0</th>\n",
       "      <td>0.873197</td>\n",
       "      <td>0.584004</td>\n",
       "      <td>0.641638</td>\n",
       "      <td>0.590761</td>\n",
       "      <td>0.827202</td>\n",
       "    </tr>\n",
       "    <tr>\n",
       "      <th>1</th>\n",
       "      <td>0.219020</td>\n",
       "      <td>0.279671</td>\n",
       "      <td>0.315153</td>\n",
       "      <td>0.537852</td>\n",
       "      <td>0.522993</td>\n",
       "    </tr>\n",
       "    <tr>\n",
       "      <th>2</th>\n",
       "      <td>0.038616</td>\n",
       "      <td>0.600151</td>\n",
       "      <td>0.071985</td>\n",
       "      <td>0.969800</td>\n",
       "      <td>0.648097</td>\n",
       "    </tr>\n",
       "    <tr>\n",
       "      <th>3</th>\n",
       "      <td>0.218335</td>\n",
       "      <td>0.516788</td>\n",
       "      <td>0.341376</td>\n",
       "      <td>0.654191</td>\n",
       "      <td>0.171033</td>\n",
       "    </tr>\n",
       "    <tr>\n",
       "      <th>4</th>\n",
       "      <td>0.077133</td>\n",
       "      <td>0.465228</td>\n",
       "      <td>0.609761</td>\n",
       "      <td>0.777708</td>\n",
       "      <td>0.218406</td>\n",
       "    </tr>\n",
       "    <tr>\n",
       "      <th>...</th>\n",
       "      <td>...</td>\n",
       "      <td>...</td>\n",
       "      <td>...</td>\n",
       "      <td>...</td>\n",
       "      <td>...</td>\n",
       "    </tr>\n",
       "    <tr>\n",
       "      <th>325</th>\n",
       "      <td>0.340830</td>\n",
       "      <td>0.045743</td>\n",
       "      <td>0.601999</td>\n",
       "      <td>0.280884</td>\n",
       "      <td>0.807816</td>\n",
       "    </tr>\n",
       "    <tr>\n",
       "      <th>326</th>\n",
       "      <td>0.988932</td>\n",
       "      <td>0.159610</td>\n",
       "      <td>0.837567</td>\n",
       "      <td>0.396409</td>\n",
       "      <td>0.314547</td>\n",
       "    </tr>\n",
       "    <tr>\n",
       "      <th>327</th>\n",
       "      <td>0.740892</td>\n",
       "      <td>0.988692</td>\n",
       "      <td>0.590287</td>\n",
       "      <td>0.611523</td>\n",
       "      <td>0.524868</td>\n",
       "    </tr>\n",
       "    <tr>\n",
       "      <th>328</th>\n",
       "      <td>0.406848</td>\n",
       "      <td>0.559085</td>\n",
       "      <td>0.173811</td>\n",
       "      <td>0.790897</td>\n",
       "      <td>0.588132</td>\n",
       "    </tr>\n",
       "    <tr>\n",
       "      <th>329</th>\n",
       "      <td>0.977689</td>\n",
       "      <td>0.608806</td>\n",
       "      <td>0.418457</td>\n",
       "      <td>0.641351</td>\n",
       "      <td>0.643052</td>\n",
       "    </tr>\n",
       "  </tbody>\n",
       "</table>\n",
       "<p>330 rows × 5 columns</p>\n",
       "</div>"
      ],
      "text/plain": [
       "            0         1         2         3         4\n",
       "0    0.873197  0.584004  0.641638  0.590761  0.827202\n",
       "1    0.219020  0.279671  0.315153  0.537852  0.522993\n",
       "2    0.038616  0.600151  0.071985  0.969800  0.648097\n",
       "3    0.218335  0.516788  0.341376  0.654191  0.171033\n",
       "4    0.077133  0.465228  0.609761  0.777708  0.218406\n",
       "..        ...       ...       ...       ...       ...\n",
       "325  0.340830  0.045743  0.601999  0.280884  0.807816\n",
       "326  0.988932  0.159610  0.837567  0.396409  0.314547\n",
       "327  0.740892  0.988692  0.590287  0.611523  0.524868\n",
       "328  0.406848  0.559085  0.173811  0.790897  0.588132\n",
       "329  0.977689  0.608806  0.418457  0.641351  0.643052\n",
       "\n",
       "[330 rows x 5 columns]"
      ]
     },
     "execution_count": 64,
     "metadata": {},
     "output_type": "execute_result"
    }
   ],
   "source": [
    "newDf"
   ]
  },
  {
   "cell_type": "code",
   "execution_count": 65,
   "id": "28b371fe",
   "metadata": {},
   "outputs": [
    {
     "data": {
      "text/html": [
       "<div>\n",
       "<style scoped>\n",
       "    .dataframe tbody tr th:only-of-type {\n",
       "        vertical-align: middle;\n",
       "    }\n",
       "\n",
       "    .dataframe tbody tr th {\n",
       "        vertical-align: top;\n",
       "    }\n",
       "\n",
       "    .dataframe thead th {\n",
       "        text-align: right;\n",
       "    }\n",
       "</style>\n",
       "<table border=\"1\" class=\"dataframe\">\n",
       "  <thead>\n",
       "    <tr style=\"text-align: right;\">\n",
       "      <th></th>\n",
       "      <th>0</th>\n",
       "      <th>1</th>\n",
       "      <th>2</th>\n",
       "      <th>3</th>\n",
       "      <th>4</th>\n",
       "    </tr>\n",
       "  </thead>\n",
       "  <tbody>\n",
       "    <tr>\n",
       "      <th>0</th>\n",
       "      <td>0.873197</td>\n",
       "      <td>0.584004</td>\n",
       "      <td>0.641638</td>\n",
       "      <td>0.590761</td>\n",
       "      <td>0.827202</td>\n",
       "    </tr>\n",
       "    <tr>\n",
       "      <th>1</th>\n",
       "      <td>0.219020</td>\n",
       "      <td>0.279671</td>\n",
       "      <td>0.315153</td>\n",
       "      <td>0.537852</td>\n",
       "      <td>0.522993</td>\n",
       "    </tr>\n",
       "  </tbody>\n",
       "</table>\n",
       "</div>"
      ],
      "text/plain": [
       "          0         1         2         3         4\n",
       "0  0.873197  0.584004  0.641638  0.590761  0.827202\n",
       "1  0.219020  0.279671  0.315153  0.537852  0.522993"
      ]
     },
     "execution_count": 65,
     "metadata": {},
     "output_type": "execute_result"
    }
   ],
   "source": [
    "newDf.head(2)"
   ]
  },
  {
   "cell_type": "code",
   "execution_count": 66,
   "id": "50d431a7",
   "metadata": {},
   "outputs": [
    {
     "data": {
      "text/plain": [
       "0    float64\n",
       "1    float64\n",
       "2    float64\n",
       "3    float64\n",
       "4    float64\n",
       "dtype: object"
      ]
     },
     "execution_count": 66,
     "metadata": {},
     "output_type": "execute_result"
    }
   ],
   "source": [
    "newDf.dtypes"
   ]
  },
  {
   "cell_type": "code",
   "execution_count": 67,
   "id": "7eb41a2e",
   "metadata": {},
   "outputs": [
    {
     "data": {
      "text/html": [
       "<div>\n",
       "<style scoped>\n",
       "    .dataframe tbody tr th:only-of-type {\n",
       "        vertical-align: middle;\n",
       "    }\n",
       "\n",
       "    .dataframe tbody tr th {\n",
       "        vertical-align: top;\n",
       "    }\n",
       "\n",
       "    .dataframe thead th {\n",
       "        text-align: right;\n",
       "    }\n",
       "</style>\n",
       "<table border=\"1\" class=\"dataframe\">\n",
       "  <thead>\n",
       "    <tr style=\"text-align: right;\">\n",
       "      <th></th>\n",
       "      <th>0</th>\n",
       "      <th>1</th>\n",
       "      <th>2</th>\n",
       "      <th>3</th>\n",
       "      <th>4</th>\n",
       "    </tr>\n",
       "  </thead>\n",
       "  <tbody>\n",
       "    <tr>\n",
       "      <th>328</th>\n",
       "      <td>0.406848</td>\n",
       "      <td>0.559085</td>\n",
       "      <td>0.173811</td>\n",
       "      <td>0.790897</td>\n",
       "      <td>0.588132</td>\n",
       "    </tr>\n",
       "    <tr>\n",
       "      <th>329</th>\n",
       "      <td>0.977689</td>\n",
       "      <td>0.608806</td>\n",
       "      <td>0.418457</td>\n",
       "      <td>0.641351</td>\n",
       "      <td>0.643052</td>\n",
       "    </tr>\n",
       "  </tbody>\n",
       "</table>\n",
       "</div>"
      ],
      "text/plain": [
       "            0         1         2         3         4\n",
       "328  0.406848  0.559085  0.173811  0.790897  0.588132\n",
       "329  0.977689  0.608806  0.418457  0.641351  0.643052"
      ]
     },
     "execution_count": 67,
     "metadata": {},
     "output_type": "execute_result"
    }
   ],
   "source": [
    "newDf.tail(2)"
   ]
  },
  {
   "cell_type": "code",
   "execution_count": 68,
   "id": "76d60e8e",
   "metadata": {},
   "outputs": [
    {
     "name": "stdout",
     "output_type": "stream",
     "text": [
      "<class 'pandas.core.frame.DataFrame'>\n",
      "RangeIndex: 330 entries, 0 to 329\n",
      "Data columns (total 5 columns):\n",
      " #   Column  Non-Null Count  Dtype  \n",
      "---  ------  --------------  -----  \n",
      " 0   0       330 non-null    float64\n",
      " 1   1       330 non-null    float64\n",
      " 2   2       330 non-null    float64\n",
      " 3   3       330 non-null    float64\n",
      " 4   4       330 non-null    float64\n",
      "dtypes: float64(5)\n",
      "memory usage: 13.0 KB\n"
     ]
    }
   ],
   "source": [
    "newDf.info()"
   ]
  },
  {
   "cell_type": "code",
   "execution_count": 69,
   "id": "223d5cec",
   "metadata": {},
   "outputs": [
    {
     "data": {
      "text/html": [
       "<div>\n",
       "<style scoped>\n",
       "    .dataframe tbody tr th:only-of-type {\n",
       "        vertical-align: middle;\n",
       "    }\n",
       "\n",
       "    .dataframe tbody tr th {\n",
       "        vertical-align: top;\n",
       "    }\n",
       "\n",
       "    .dataframe thead th {\n",
       "        text-align: right;\n",
       "    }\n",
       "</style>\n",
       "<table border=\"1\" class=\"dataframe\">\n",
       "  <thead>\n",
       "    <tr style=\"text-align: right;\">\n",
       "      <th></th>\n",
       "      <th>0</th>\n",
       "      <th>1</th>\n",
       "      <th>2</th>\n",
       "      <th>3</th>\n",
       "      <th>4</th>\n",
       "    </tr>\n",
       "  </thead>\n",
       "  <tbody>\n",
       "    <tr>\n",
       "      <th>count</th>\n",
       "      <td>330.000000</td>\n",
       "      <td>330.000000</td>\n",
       "      <td>330.000000</td>\n",
       "      <td>330.000000</td>\n",
       "      <td>330.000000</td>\n",
       "    </tr>\n",
       "    <tr>\n",
       "      <th>mean</th>\n",
       "      <td>0.505555</td>\n",
       "      <td>0.494835</td>\n",
       "      <td>0.483376</td>\n",
       "      <td>0.528410</td>\n",
       "      <td>0.494099</td>\n",
       "    </tr>\n",
       "    <tr>\n",
       "      <th>std</th>\n",
       "      <td>0.289762</td>\n",
       "      <td>0.287491</td>\n",
       "      <td>0.292573</td>\n",
       "      <td>0.296666</td>\n",
       "      <td>0.293867</td>\n",
       "    </tr>\n",
       "    <tr>\n",
       "      <th>min</th>\n",
       "      <td>0.000432</td>\n",
       "      <td>0.000448</td>\n",
       "      <td>0.002080</td>\n",
       "      <td>0.002101</td>\n",
       "      <td>0.006177</td>\n",
       "    </tr>\n",
       "    <tr>\n",
       "      <th>25%</th>\n",
       "      <td>0.253712</td>\n",
       "      <td>0.257596</td>\n",
       "      <td>0.228701</td>\n",
       "      <td>0.278102</td>\n",
       "      <td>0.241014</td>\n",
       "    </tr>\n",
       "    <tr>\n",
       "      <th>50%</th>\n",
       "      <td>0.492754</td>\n",
       "      <td>0.498183</td>\n",
       "      <td>0.486885</td>\n",
       "      <td>0.538141</td>\n",
       "      <td>0.513977</td>\n",
       "    </tr>\n",
       "    <tr>\n",
       "      <th>75%</th>\n",
       "      <td>0.763013</td>\n",
       "      <td>0.743312</td>\n",
       "      <td>0.717139</td>\n",
       "      <td>0.793903</td>\n",
       "      <td>0.737775</td>\n",
       "    </tr>\n",
       "    <tr>\n",
       "      <th>max</th>\n",
       "      <td>0.997462</td>\n",
       "      <td>0.993780</td>\n",
       "      <td>0.994781</td>\n",
       "      <td>0.996969</td>\n",
       "      <td>0.998643</td>\n",
       "    </tr>\n",
       "  </tbody>\n",
       "</table>\n",
       "</div>"
      ],
      "text/plain": [
       "                0           1           2           3           4\n",
       "count  330.000000  330.000000  330.000000  330.000000  330.000000\n",
       "mean     0.505555    0.494835    0.483376    0.528410    0.494099\n",
       "std      0.289762    0.287491    0.292573    0.296666    0.293867\n",
       "min      0.000432    0.000448    0.002080    0.002101    0.006177\n",
       "25%      0.253712    0.257596    0.228701    0.278102    0.241014\n",
       "50%      0.492754    0.498183    0.486885    0.538141    0.513977\n",
       "75%      0.763013    0.743312    0.717139    0.793903    0.737775\n",
       "max      0.997462    0.993780    0.994781    0.996969    0.998643"
      ]
     },
     "execution_count": 69,
     "metadata": {},
     "output_type": "execute_result"
    }
   ],
   "source": [
    "newDf.describe()"
   ]
  },
  {
   "cell_type": "code",
   "execution_count": 70,
   "id": "e61e795c",
   "metadata": {},
   "outputs": [
    {
     "data": {
      "text/plain": [
       "0    float64\n",
       "1    float64\n",
       "2    float64\n",
       "3    float64\n",
       "4    float64\n",
       "dtype: object"
      ]
     },
     "execution_count": 70,
     "metadata": {},
     "output_type": "execute_result"
    }
   ],
   "source": [
    "newDf.dtypes"
   ]
  },
  {
   "cell_type": "code",
   "execution_count": 71,
   "id": "2e3fd75d",
   "metadata": {},
   "outputs": [],
   "source": [
    "newDf[0][0]= \"Maaz Khan\""
   ]
  },
  {
   "cell_type": "code",
   "execution_count": 72,
   "id": "ed64eec9",
   "metadata": {},
   "outputs": [
    {
     "data": {
      "text/plain": [
       "0     object\n",
       "1    float64\n",
       "2    float64\n",
       "3    float64\n",
       "4    float64\n",
       "dtype: object"
      ]
     },
     "execution_count": 72,
     "metadata": {},
     "output_type": "execute_result"
    }
   ],
   "source": [
    "newDf.dtypes"
   ]
  },
  {
   "cell_type": "code",
   "execution_count": 73,
   "id": "d7d21566",
   "metadata": {},
   "outputs": [
    {
     "data": {
      "text/html": [
       "<div>\n",
       "<style scoped>\n",
       "    .dataframe tbody tr th:only-of-type {\n",
       "        vertical-align: middle;\n",
       "    }\n",
       "\n",
       "    .dataframe tbody tr th {\n",
       "        vertical-align: top;\n",
       "    }\n",
       "\n",
       "    .dataframe thead th {\n",
       "        text-align: right;\n",
       "    }\n",
       "</style>\n",
       "<table border=\"1\" class=\"dataframe\">\n",
       "  <thead>\n",
       "    <tr style=\"text-align: right;\">\n",
       "      <th></th>\n",
       "      <th>0</th>\n",
       "      <th>1</th>\n",
       "      <th>2</th>\n",
       "      <th>3</th>\n",
       "      <th>4</th>\n",
       "    </tr>\n",
       "  </thead>\n",
       "  <tbody>\n",
       "    <tr>\n",
       "      <th>0</th>\n",
       "      <td>Maaz Khan</td>\n",
       "      <td>0.584004</td>\n",
       "      <td>0.641638</td>\n",
       "      <td>0.590761</td>\n",
       "      <td>0.827202</td>\n",
       "    </tr>\n",
       "    <tr>\n",
       "      <th>1</th>\n",
       "      <td>0.21902</td>\n",
       "      <td>0.279671</td>\n",
       "      <td>0.315153</td>\n",
       "      <td>0.537852</td>\n",
       "      <td>0.522993</td>\n",
       "    </tr>\n",
       "    <tr>\n",
       "      <th>2</th>\n",
       "      <td>0.0386159</td>\n",
       "      <td>0.600151</td>\n",
       "      <td>0.071985</td>\n",
       "      <td>0.969800</td>\n",
       "      <td>0.648097</td>\n",
       "    </tr>\n",
       "    <tr>\n",
       "      <th>3</th>\n",
       "      <td>0.218335</td>\n",
       "      <td>0.516788</td>\n",
       "      <td>0.341376</td>\n",
       "      <td>0.654191</td>\n",
       "      <td>0.171033</td>\n",
       "    </tr>\n",
       "    <tr>\n",
       "      <th>4</th>\n",
       "      <td>0.0771333</td>\n",
       "      <td>0.465228</td>\n",
       "      <td>0.609761</td>\n",
       "      <td>0.777708</td>\n",
       "      <td>0.218406</td>\n",
       "    </tr>\n",
       "    <tr>\n",
       "      <th>...</th>\n",
       "      <td>...</td>\n",
       "      <td>...</td>\n",
       "      <td>...</td>\n",
       "      <td>...</td>\n",
       "      <td>...</td>\n",
       "    </tr>\n",
       "    <tr>\n",
       "      <th>325</th>\n",
       "      <td>0.34083</td>\n",
       "      <td>0.045743</td>\n",
       "      <td>0.601999</td>\n",
       "      <td>0.280884</td>\n",
       "      <td>0.807816</td>\n",
       "    </tr>\n",
       "    <tr>\n",
       "      <th>326</th>\n",
       "      <td>0.988932</td>\n",
       "      <td>0.159610</td>\n",
       "      <td>0.837567</td>\n",
       "      <td>0.396409</td>\n",
       "      <td>0.314547</td>\n",
       "    </tr>\n",
       "    <tr>\n",
       "      <th>327</th>\n",
       "      <td>0.740892</td>\n",
       "      <td>0.988692</td>\n",
       "      <td>0.590287</td>\n",
       "      <td>0.611523</td>\n",
       "      <td>0.524868</td>\n",
       "    </tr>\n",
       "    <tr>\n",
       "      <th>328</th>\n",
       "      <td>0.406848</td>\n",
       "      <td>0.559085</td>\n",
       "      <td>0.173811</td>\n",
       "      <td>0.790897</td>\n",
       "      <td>0.588132</td>\n",
       "    </tr>\n",
       "    <tr>\n",
       "      <th>329</th>\n",
       "      <td>0.977689</td>\n",
       "      <td>0.608806</td>\n",
       "      <td>0.418457</td>\n",
       "      <td>0.641351</td>\n",
       "      <td>0.643052</td>\n",
       "    </tr>\n",
       "  </tbody>\n",
       "</table>\n",
       "<p>330 rows × 5 columns</p>\n",
       "</div>"
      ],
      "text/plain": [
       "             0         1         2         3         4\n",
       "0    Maaz Khan  0.584004  0.641638  0.590761  0.827202\n",
       "1      0.21902  0.279671  0.315153  0.537852  0.522993\n",
       "2    0.0386159  0.600151  0.071985  0.969800  0.648097\n",
       "3     0.218335  0.516788  0.341376  0.654191  0.171033\n",
       "4    0.0771333  0.465228  0.609761  0.777708  0.218406\n",
       "..         ...       ...       ...       ...       ...\n",
       "325    0.34083  0.045743  0.601999  0.280884  0.807816\n",
       "326   0.988932  0.159610  0.837567  0.396409  0.314547\n",
       "327   0.740892  0.988692  0.590287  0.611523  0.524868\n",
       "328   0.406848  0.559085  0.173811  0.790897  0.588132\n",
       "329   0.977689  0.608806  0.418457  0.641351  0.643052\n",
       "\n",
       "[330 rows x 5 columns]"
      ]
     },
     "execution_count": 73,
     "metadata": {},
     "output_type": "execute_result"
    }
   ],
   "source": [
    "newDf"
   ]
  },
  {
   "cell_type": "code",
   "execution_count": 74,
   "id": "c1c649c6",
   "metadata": {},
   "outputs": [
    {
     "data": {
      "text/plain": [
       "RangeIndex(start=0, stop=330, step=1)"
      ]
     },
     "execution_count": 74,
     "metadata": {},
     "output_type": "execute_result"
    }
   ],
   "source": [
    "newDf.index"
   ]
  },
  {
   "cell_type": "code",
   "execution_count": 75,
   "id": "2a6a01a0",
   "metadata": {},
   "outputs": [
    {
     "data": {
      "text/plain": [
       "RangeIndex(start=0, stop=5, step=1)"
      ]
     },
     "execution_count": 75,
     "metadata": {},
     "output_type": "execute_result"
    }
   ],
   "source": [
    "newDf.columns"
   ]
  },
  {
   "cell_type": "code",
   "execution_count": 76,
   "id": "0d0bbcdd",
   "metadata": {},
   "outputs": [
    {
     "data": {
      "text/plain": [
       "array([['Maaz Khan', 0.5840042692072244, 0.6416377555064622,\n",
       "        0.5907608964938337, 0.8272023875257263],\n",
       "       [0.21901996818307434, 0.27967068623875346, 0.3151530001802182,\n",
       "        0.5378520798658906, 0.5229926136809258],\n",
       "       [0.03861585735671358, 0.6001511927131974, 0.07198457055721241,\n",
       "        0.9697999492633512, 0.6480972869474569],\n",
       "       ...,\n",
       "       [0.7408917557557282, 0.9886916969389133, 0.5902871082249067,\n",
       "        0.6115231713732175, 0.5248683108056472],\n",
       "       [0.40684821303341534, 0.559084774552147, 0.17381131191174048,\n",
       "        0.7908970622003049, 0.5881320304994729],\n",
       "       [0.9776894835923747, 0.6088056225467844, 0.41845680424787046,\n",
       "        0.6413506767918662, 0.6430523673330257]], dtype=object)"
      ]
     },
     "execution_count": 76,
     "metadata": {},
     "output_type": "execute_result"
    }
   ],
   "source": [
    "newDf.to_numpy()"
   ]
  },
  {
   "cell_type": "code",
   "execution_count": 77,
   "id": "29e43e86",
   "metadata": {},
   "outputs": [
    {
     "name": "stderr",
     "output_type": "stream",
     "text": [
      "C:\\Users\\Amazon Hub\\anaconda3\\envs\\haseeb\\lib\\site-packages\\ipykernel_launcher.py:1: SettingWithCopyWarning: \n",
      "A value is trying to be set on a copy of a slice from a DataFrame\n",
      "\n",
      "See the caveats in the documentation: https://pandas.pydata.org/pandas-docs/stable/user_guide/indexing.html#returning-a-view-versus-a-copy\n",
      "  \"\"\"Entry point for launching an IPython kernel.\n"
     ]
    }
   ],
   "source": [
    "newDf[0][0]=0.30"
   ]
  },
  {
   "cell_type": "code",
   "execution_count": 78,
   "id": "81c060ad",
   "metadata": {},
   "outputs": [
    {
     "data": {
      "text/html": [
       "<div>\n",
       "<style scoped>\n",
       "    .dataframe tbody tr th:only-of-type {\n",
       "        vertical-align: middle;\n",
       "    }\n",
       "\n",
       "    .dataframe tbody tr th {\n",
       "        vertical-align: top;\n",
       "    }\n",
       "\n",
       "    .dataframe thead th {\n",
       "        text-align: right;\n",
       "    }\n",
       "</style>\n",
       "<table border=\"1\" class=\"dataframe\">\n",
       "  <thead>\n",
       "    <tr style=\"text-align: right;\">\n",
       "      <th></th>\n",
       "      <th>0</th>\n",
       "      <th>1</th>\n",
       "      <th>2</th>\n",
       "      <th>3</th>\n",
       "      <th>4</th>\n",
       "    </tr>\n",
       "  </thead>\n",
       "  <tbody>\n",
       "    <tr>\n",
       "      <th>0</th>\n",
       "      <td>0.3</td>\n",
       "      <td>0.584004</td>\n",
       "      <td>0.641638</td>\n",
       "      <td>0.590761</td>\n",
       "      <td>0.827202</td>\n",
       "    </tr>\n",
       "    <tr>\n",
       "      <th>1</th>\n",
       "      <td>0.21902</td>\n",
       "      <td>0.279671</td>\n",
       "      <td>0.315153</td>\n",
       "      <td>0.537852</td>\n",
       "      <td>0.522993</td>\n",
       "    </tr>\n",
       "    <tr>\n",
       "      <th>2</th>\n",
       "      <td>0.0386159</td>\n",
       "      <td>0.600151</td>\n",
       "      <td>0.071985</td>\n",
       "      <td>0.969800</td>\n",
       "      <td>0.648097</td>\n",
       "    </tr>\n",
       "    <tr>\n",
       "      <th>3</th>\n",
       "      <td>0.218335</td>\n",
       "      <td>0.516788</td>\n",
       "      <td>0.341376</td>\n",
       "      <td>0.654191</td>\n",
       "      <td>0.171033</td>\n",
       "    </tr>\n",
       "    <tr>\n",
       "      <th>4</th>\n",
       "      <td>0.0771333</td>\n",
       "      <td>0.465228</td>\n",
       "      <td>0.609761</td>\n",
       "      <td>0.777708</td>\n",
       "      <td>0.218406</td>\n",
       "    </tr>\n",
       "  </tbody>\n",
       "</table>\n",
       "</div>"
      ],
      "text/plain": [
       "           0         1         2         3         4\n",
       "0        0.3  0.584004  0.641638  0.590761  0.827202\n",
       "1    0.21902  0.279671  0.315153  0.537852  0.522993\n",
       "2  0.0386159  0.600151  0.071985  0.969800  0.648097\n",
       "3   0.218335  0.516788  0.341376  0.654191  0.171033\n",
       "4  0.0771333  0.465228  0.609761  0.777708  0.218406"
      ]
     },
     "execution_count": 78,
     "metadata": {},
     "output_type": "execute_result"
    }
   ],
   "source": [
    "newDf.head()"
   ]
  },
  {
   "cell_type": "code",
   "execution_count": 79,
   "id": "c6b68242",
   "metadata": {},
   "outputs": [
    {
     "data": {
      "text/html": [
       "<div>\n",
       "<style scoped>\n",
       "    .dataframe tbody tr th:only-of-type {\n",
       "        vertical-align: middle;\n",
       "    }\n",
       "\n",
       "    .dataframe tbody tr th {\n",
       "        vertical-align: top;\n",
       "    }\n",
       "\n",
       "    .dataframe thead th {\n",
       "        text-align: right;\n",
       "    }\n",
       "</style>\n",
       "<table border=\"1\" class=\"dataframe\">\n",
       "  <thead>\n",
       "    <tr style=\"text-align: right;\">\n",
       "      <th></th>\n",
       "      <th>0</th>\n",
       "      <th>1</th>\n",
       "      <th>2</th>\n",
       "      <th>3</th>\n",
       "      <th>4</th>\n",
       "      <th>5</th>\n",
       "      <th>6</th>\n",
       "      <th>7</th>\n",
       "      <th>8</th>\n",
       "      <th>9</th>\n",
       "      <th>...</th>\n",
       "      <th>320</th>\n",
       "      <th>321</th>\n",
       "      <th>322</th>\n",
       "      <th>323</th>\n",
       "      <th>324</th>\n",
       "      <th>325</th>\n",
       "      <th>326</th>\n",
       "      <th>327</th>\n",
       "      <th>328</th>\n",
       "      <th>329</th>\n",
       "    </tr>\n",
       "  </thead>\n",
       "  <tbody>\n",
       "    <tr>\n",
       "      <th>0</th>\n",
       "      <td>0.3</td>\n",
       "      <td>0.21902</td>\n",
       "      <td>0.0386159</td>\n",
       "      <td>0.218335</td>\n",
       "      <td>0.0771333</td>\n",
       "      <td>0.437717</td>\n",
       "      <td>0.137788</td>\n",
       "      <td>0.511533</td>\n",
       "      <td>0.832719</td>\n",
       "      <td>0.661249</td>\n",
       "      <td>...</td>\n",
       "      <td>0.329082</td>\n",
       "      <td>0.626747</td>\n",
       "      <td>0.679368</td>\n",
       "      <td>0.87579</td>\n",
       "      <td>0.237231</td>\n",
       "      <td>0.34083</td>\n",
       "      <td>0.988932</td>\n",
       "      <td>0.740892</td>\n",
       "      <td>0.406848</td>\n",
       "      <td>0.977689</td>\n",
       "    </tr>\n",
       "    <tr>\n",
       "      <th>1</th>\n",
       "      <td>0.584004</td>\n",
       "      <td>0.279671</td>\n",
       "      <td>0.600151</td>\n",
       "      <td>0.516788</td>\n",
       "      <td>0.465228</td>\n",
       "      <td>0.824672</td>\n",
       "      <td>0.923394</td>\n",
       "      <td>0.561414</td>\n",
       "      <td>0.543111</td>\n",
       "      <td>0.965397</td>\n",
       "      <td>...</td>\n",
       "      <td>0.458059</td>\n",
       "      <td>0.865529</td>\n",
       "      <td>0.431998</td>\n",
       "      <td>0.549338</td>\n",
       "      <td>0.38056</td>\n",
       "      <td>0.0457427</td>\n",
       "      <td>0.15961</td>\n",
       "      <td>0.988692</td>\n",
       "      <td>0.559085</td>\n",
       "      <td>0.608806</td>\n",
       "    </tr>\n",
       "    <tr>\n",
       "      <th>2</th>\n",
       "      <td>0.641638</td>\n",
       "      <td>0.315153</td>\n",
       "      <td>0.0719846</td>\n",
       "      <td>0.341376</td>\n",
       "      <td>0.609761</td>\n",
       "      <td>0.476334</td>\n",
       "      <td>0.888916</td>\n",
       "      <td>0.641198</td>\n",
       "      <td>0.982285</td>\n",
       "      <td>0.592284</td>\n",
       "      <td>...</td>\n",
       "      <td>0.328394</td>\n",
       "      <td>0.607033</td>\n",
       "      <td>0.786861</td>\n",
       "      <td>0.359512</td>\n",
       "      <td>0.110929</td>\n",
       "      <td>0.601999</td>\n",
       "      <td>0.837567</td>\n",
       "      <td>0.590287</td>\n",
       "      <td>0.173811</td>\n",
       "      <td>0.418457</td>\n",
       "    </tr>\n",
       "    <tr>\n",
       "      <th>3</th>\n",
       "      <td>0.590761</td>\n",
       "      <td>0.537852</td>\n",
       "      <td>0.9698</td>\n",
       "      <td>0.654191</td>\n",
       "      <td>0.777708</td>\n",
       "      <td>0.851669</td>\n",
       "      <td>0.182304</td>\n",
       "      <td>0.695542</td>\n",
       "      <td>0.0309699</td>\n",
       "      <td>0.448902</td>\n",
       "      <td>...</td>\n",
       "      <td>0.903636</td>\n",
       "      <td>0.541953</td>\n",
       "      <td>0.0652932</td>\n",
       "      <td>0.472838</td>\n",
       "      <td>0.698138</td>\n",
       "      <td>0.280884</td>\n",
       "      <td>0.396409</td>\n",
       "      <td>0.611523</td>\n",
       "      <td>0.790897</td>\n",
       "      <td>0.641351</td>\n",
       "    </tr>\n",
       "    <tr>\n",
       "      <th>4</th>\n",
       "      <td>0.827202</td>\n",
       "      <td>0.522993</td>\n",
       "      <td>0.648097</td>\n",
       "      <td>0.171033</td>\n",
       "      <td>0.218406</td>\n",
       "      <td>0.474287</td>\n",
       "      <td>0.777872</td>\n",
       "      <td>0.262228</td>\n",
       "      <td>0.660887</td>\n",
       "      <td>0.199469</td>\n",
       "      <td>...</td>\n",
       "      <td>0.123326</td>\n",
       "      <td>0.63955</td>\n",
       "      <td>0.88768</td>\n",
       "      <td>0.745381</td>\n",
       "      <td>0.0844789</td>\n",
       "      <td>0.807816</td>\n",
       "      <td>0.314547</td>\n",
       "      <td>0.524868</td>\n",
       "      <td>0.588132</td>\n",
       "      <td>0.643052</td>\n",
       "    </tr>\n",
       "  </tbody>\n",
       "</table>\n",
       "<p>5 rows × 330 columns</p>\n",
       "</div>"
      ],
      "text/plain": [
       "        0         1          2         3          4         5         6    \\\n",
       "0       0.3   0.21902  0.0386159  0.218335  0.0771333  0.437717  0.137788   \n",
       "1  0.584004  0.279671   0.600151  0.516788   0.465228  0.824672  0.923394   \n",
       "2  0.641638  0.315153  0.0719846  0.341376   0.609761  0.476334  0.888916   \n",
       "3  0.590761  0.537852     0.9698  0.654191   0.777708  0.851669  0.182304   \n",
       "4  0.827202  0.522993   0.648097  0.171033   0.218406  0.474287  0.777872   \n",
       "\n",
       "        7          8         9    ...       320       321        322  \\\n",
       "0  0.511533   0.832719  0.661249  ...  0.329082  0.626747   0.679368   \n",
       "1  0.561414   0.543111  0.965397  ...  0.458059  0.865529   0.431998   \n",
       "2  0.641198   0.982285  0.592284  ...  0.328394  0.607033   0.786861   \n",
       "3  0.695542  0.0309699  0.448902  ...  0.903636  0.541953  0.0652932   \n",
       "4  0.262228   0.660887  0.199469  ...  0.123326   0.63955    0.88768   \n",
       "\n",
       "        323        324        325       326       327       328       329  \n",
       "0   0.87579   0.237231    0.34083  0.988932  0.740892  0.406848  0.977689  \n",
       "1  0.549338    0.38056  0.0457427   0.15961  0.988692  0.559085  0.608806  \n",
       "2  0.359512   0.110929   0.601999  0.837567  0.590287  0.173811  0.418457  \n",
       "3  0.472838   0.698138   0.280884  0.396409  0.611523  0.790897  0.641351  \n",
       "4  0.745381  0.0844789   0.807816  0.314547  0.524868  0.588132  0.643052  \n",
       "\n",
       "[5 rows x 330 columns]"
      ]
     },
     "execution_count": 79,
     "metadata": {},
     "output_type": "execute_result"
    }
   ],
   "source": [
    "newDf.T"
   ]
  },
  {
   "cell_type": "code",
   "execution_count": 80,
   "id": "4dc1d324",
   "metadata": {},
   "outputs": [
    {
     "data": {
      "text/html": [
       "<div>\n",
       "<style scoped>\n",
       "    .dataframe tbody tr th:only-of-type {\n",
       "        vertical-align: middle;\n",
       "    }\n",
       "\n",
       "    .dataframe tbody tr th {\n",
       "        vertical-align: top;\n",
       "    }\n",
       "\n",
       "    .dataframe thead th {\n",
       "        text-align: right;\n",
       "    }\n",
       "</style>\n",
       "<table border=\"1\" class=\"dataframe\">\n",
       "  <thead>\n",
       "    <tr style=\"text-align: right;\">\n",
       "      <th></th>\n",
       "      <th>0</th>\n",
       "      <th>1</th>\n",
       "      <th>2</th>\n",
       "      <th>3</th>\n",
       "      <th>4</th>\n",
       "    </tr>\n",
       "  </thead>\n",
       "  <tbody>\n",
       "    <tr>\n",
       "      <th>0</th>\n",
       "      <td>0.3</td>\n",
       "      <td>0.584004</td>\n",
       "      <td>0.641638</td>\n",
       "      <td>0.590761</td>\n",
       "      <td>0.827202</td>\n",
       "    </tr>\n",
       "    <tr>\n",
       "      <th>1</th>\n",
       "      <td>0.21902</td>\n",
       "      <td>0.279671</td>\n",
       "      <td>0.315153</td>\n",
       "      <td>0.537852</td>\n",
       "      <td>0.522993</td>\n",
       "    </tr>\n",
       "    <tr>\n",
       "      <th>2</th>\n",
       "      <td>0.0386159</td>\n",
       "      <td>0.600151</td>\n",
       "      <td>0.071985</td>\n",
       "      <td>0.969800</td>\n",
       "      <td>0.648097</td>\n",
       "    </tr>\n",
       "    <tr>\n",
       "      <th>3</th>\n",
       "      <td>0.218335</td>\n",
       "      <td>0.516788</td>\n",
       "      <td>0.341376</td>\n",
       "      <td>0.654191</td>\n",
       "      <td>0.171033</td>\n",
       "    </tr>\n",
       "    <tr>\n",
       "      <th>4</th>\n",
       "      <td>0.0771333</td>\n",
       "      <td>0.465228</td>\n",
       "      <td>0.609761</td>\n",
       "      <td>0.777708</td>\n",
       "      <td>0.218406</td>\n",
       "    </tr>\n",
       "    <tr>\n",
       "      <th>...</th>\n",
       "      <td>...</td>\n",
       "      <td>...</td>\n",
       "      <td>...</td>\n",
       "      <td>...</td>\n",
       "      <td>...</td>\n",
       "    </tr>\n",
       "    <tr>\n",
       "      <th>325</th>\n",
       "      <td>0.34083</td>\n",
       "      <td>0.045743</td>\n",
       "      <td>0.601999</td>\n",
       "      <td>0.280884</td>\n",
       "      <td>0.807816</td>\n",
       "    </tr>\n",
       "    <tr>\n",
       "      <th>326</th>\n",
       "      <td>0.988932</td>\n",
       "      <td>0.159610</td>\n",
       "      <td>0.837567</td>\n",
       "      <td>0.396409</td>\n",
       "      <td>0.314547</td>\n",
       "    </tr>\n",
       "    <tr>\n",
       "      <th>327</th>\n",
       "      <td>0.740892</td>\n",
       "      <td>0.988692</td>\n",
       "      <td>0.590287</td>\n",
       "      <td>0.611523</td>\n",
       "      <td>0.524868</td>\n",
       "    </tr>\n",
       "    <tr>\n",
       "      <th>328</th>\n",
       "      <td>0.406848</td>\n",
       "      <td>0.559085</td>\n",
       "      <td>0.173811</td>\n",
       "      <td>0.790897</td>\n",
       "      <td>0.588132</td>\n",
       "    </tr>\n",
       "    <tr>\n",
       "      <th>329</th>\n",
       "      <td>0.977689</td>\n",
       "      <td>0.608806</td>\n",
       "      <td>0.418457</td>\n",
       "      <td>0.641351</td>\n",
       "      <td>0.643052</td>\n",
       "    </tr>\n",
       "  </tbody>\n",
       "</table>\n",
       "<p>330 rows × 5 columns</p>\n",
       "</div>"
      ],
      "text/plain": [
       "             0         1         2         3         4\n",
       "0          0.3  0.584004  0.641638  0.590761  0.827202\n",
       "1      0.21902  0.279671  0.315153  0.537852  0.522993\n",
       "2    0.0386159  0.600151  0.071985  0.969800  0.648097\n",
       "3     0.218335  0.516788  0.341376  0.654191  0.171033\n",
       "4    0.0771333  0.465228  0.609761  0.777708  0.218406\n",
       "..         ...       ...       ...       ...       ...\n",
       "325    0.34083  0.045743  0.601999  0.280884  0.807816\n",
       "326   0.988932  0.159610  0.837567  0.396409  0.314547\n",
       "327   0.740892  0.988692  0.590287  0.611523  0.524868\n",
       "328   0.406848  0.559085  0.173811  0.790897  0.588132\n",
       "329   0.977689  0.608806  0.418457  0.641351  0.643052\n",
       "\n",
       "[330 rows x 5 columns]"
      ]
     },
     "execution_count": 80,
     "metadata": {},
     "output_type": "execute_result"
    }
   ],
   "source": [
    "newDf.sort_index(axis=0)"
   ]
  },
  {
   "cell_type": "code",
   "execution_count": 81,
   "id": "1c9c5df9",
   "metadata": {},
   "outputs": [
    {
     "data": {
      "text/html": [
       "<div>\n",
       "<style scoped>\n",
       "    .dataframe tbody tr th:only-of-type {\n",
       "        vertical-align: middle;\n",
       "    }\n",
       "\n",
       "    .dataframe tbody tr th {\n",
       "        vertical-align: top;\n",
       "    }\n",
       "\n",
       "    .dataframe thead th {\n",
       "        text-align: right;\n",
       "    }\n",
       "</style>\n",
       "<table border=\"1\" class=\"dataframe\">\n",
       "  <thead>\n",
       "    <tr style=\"text-align: right;\">\n",
       "      <th></th>\n",
       "      <th>0</th>\n",
       "      <th>1</th>\n",
       "      <th>2</th>\n",
       "      <th>3</th>\n",
       "      <th>4</th>\n",
       "    </tr>\n",
       "  </thead>\n",
       "  <tbody>\n",
       "    <tr>\n",
       "      <th>329</th>\n",
       "      <td>0.977689</td>\n",
       "      <td>0.608806</td>\n",
       "      <td>0.418457</td>\n",
       "      <td>0.641351</td>\n",
       "      <td>0.643052</td>\n",
       "    </tr>\n",
       "    <tr>\n",
       "      <th>328</th>\n",
       "      <td>0.406848</td>\n",
       "      <td>0.559085</td>\n",
       "      <td>0.173811</td>\n",
       "      <td>0.790897</td>\n",
       "      <td>0.588132</td>\n",
       "    </tr>\n",
       "    <tr>\n",
       "      <th>327</th>\n",
       "      <td>0.740892</td>\n",
       "      <td>0.988692</td>\n",
       "      <td>0.590287</td>\n",
       "      <td>0.611523</td>\n",
       "      <td>0.524868</td>\n",
       "    </tr>\n",
       "    <tr>\n",
       "      <th>326</th>\n",
       "      <td>0.988932</td>\n",
       "      <td>0.159610</td>\n",
       "      <td>0.837567</td>\n",
       "      <td>0.396409</td>\n",
       "      <td>0.314547</td>\n",
       "    </tr>\n",
       "    <tr>\n",
       "      <th>325</th>\n",
       "      <td>0.34083</td>\n",
       "      <td>0.045743</td>\n",
       "      <td>0.601999</td>\n",
       "      <td>0.280884</td>\n",
       "      <td>0.807816</td>\n",
       "    </tr>\n",
       "    <tr>\n",
       "      <th>...</th>\n",
       "      <td>...</td>\n",
       "      <td>...</td>\n",
       "      <td>...</td>\n",
       "      <td>...</td>\n",
       "      <td>...</td>\n",
       "    </tr>\n",
       "    <tr>\n",
       "      <th>4</th>\n",
       "      <td>0.0771333</td>\n",
       "      <td>0.465228</td>\n",
       "      <td>0.609761</td>\n",
       "      <td>0.777708</td>\n",
       "      <td>0.218406</td>\n",
       "    </tr>\n",
       "    <tr>\n",
       "      <th>3</th>\n",
       "      <td>0.218335</td>\n",
       "      <td>0.516788</td>\n",
       "      <td>0.341376</td>\n",
       "      <td>0.654191</td>\n",
       "      <td>0.171033</td>\n",
       "    </tr>\n",
       "    <tr>\n",
       "      <th>2</th>\n",
       "      <td>0.0386159</td>\n",
       "      <td>0.600151</td>\n",
       "      <td>0.071985</td>\n",
       "      <td>0.969800</td>\n",
       "      <td>0.648097</td>\n",
       "    </tr>\n",
       "    <tr>\n",
       "      <th>1</th>\n",
       "      <td>0.21902</td>\n",
       "      <td>0.279671</td>\n",
       "      <td>0.315153</td>\n",
       "      <td>0.537852</td>\n",
       "      <td>0.522993</td>\n",
       "    </tr>\n",
       "    <tr>\n",
       "      <th>0</th>\n",
       "      <td>0.3</td>\n",
       "      <td>0.584004</td>\n",
       "      <td>0.641638</td>\n",
       "      <td>0.590761</td>\n",
       "      <td>0.827202</td>\n",
       "    </tr>\n",
       "  </tbody>\n",
       "</table>\n",
       "<p>330 rows × 5 columns</p>\n",
       "</div>"
      ],
      "text/plain": [
       "             0         1         2         3         4\n",
       "329   0.977689  0.608806  0.418457  0.641351  0.643052\n",
       "328   0.406848  0.559085  0.173811  0.790897  0.588132\n",
       "327   0.740892  0.988692  0.590287  0.611523  0.524868\n",
       "326   0.988932  0.159610  0.837567  0.396409  0.314547\n",
       "325    0.34083  0.045743  0.601999  0.280884  0.807816\n",
       "..         ...       ...       ...       ...       ...\n",
       "4    0.0771333  0.465228  0.609761  0.777708  0.218406\n",
       "3     0.218335  0.516788  0.341376  0.654191  0.171033\n",
       "2    0.0386159  0.600151  0.071985  0.969800  0.648097\n",
       "1      0.21902  0.279671  0.315153  0.537852  0.522993\n",
       "0          0.3  0.584004  0.641638  0.590761  0.827202\n",
       "\n",
       "[330 rows x 5 columns]"
      ]
     },
     "execution_count": 81,
     "metadata": {},
     "output_type": "execute_result"
    }
   ],
   "source": [
    "newDf.sort_index(axis=0, ascending=False)"
   ]
  },
  {
   "cell_type": "code",
   "execution_count": 82,
   "id": "e0d9a5c5",
   "metadata": {},
   "outputs": [
    {
     "data": {
      "text/html": [
       "<div>\n",
       "<style scoped>\n",
       "    .dataframe tbody tr th:only-of-type {\n",
       "        vertical-align: middle;\n",
       "    }\n",
       "\n",
       "    .dataframe tbody tr th {\n",
       "        vertical-align: top;\n",
       "    }\n",
       "\n",
       "    .dataframe thead th {\n",
       "        text-align: right;\n",
       "    }\n",
       "</style>\n",
       "<table border=\"1\" class=\"dataframe\">\n",
       "  <thead>\n",
       "    <tr style=\"text-align: right;\">\n",
       "      <th></th>\n",
       "      <th>0</th>\n",
       "      <th>1</th>\n",
       "      <th>2</th>\n",
       "      <th>3</th>\n",
       "      <th>4</th>\n",
       "    </tr>\n",
       "  </thead>\n",
       "  <tbody>\n",
       "    <tr>\n",
       "      <th>0</th>\n",
       "      <td>0.3</td>\n",
       "      <td>0.584004</td>\n",
       "      <td>0.641638</td>\n",
       "      <td>0.590761</td>\n",
       "      <td>0.827202</td>\n",
       "    </tr>\n",
       "    <tr>\n",
       "      <th>1</th>\n",
       "      <td>0.21902</td>\n",
       "      <td>0.279671</td>\n",
       "      <td>0.315153</td>\n",
       "      <td>0.537852</td>\n",
       "      <td>0.522993</td>\n",
       "    </tr>\n",
       "    <tr>\n",
       "      <th>2</th>\n",
       "      <td>0.0386159</td>\n",
       "      <td>0.600151</td>\n",
       "      <td>0.071985</td>\n",
       "      <td>0.969800</td>\n",
       "      <td>0.648097</td>\n",
       "    </tr>\n",
       "    <tr>\n",
       "      <th>3</th>\n",
       "      <td>0.218335</td>\n",
       "      <td>0.516788</td>\n",
       "      <td>0.341376</td>\n",
       "      <td>0.654191</td>\n",
       "      <td>0.171033</td>\n",
       "    </tr>\n",
       "    <tr>\n",
       "      <th>4</th>\n",
       "      <td>0.0771333</td>\n",
       "      <td>0.465228</td>\n",
       "      <td>0.609761</td>\n",
       "      <td>0.777708</td>\n",
       "      <td>0.218406</td>\n",
       "    </tr>\n",
       "    <tr>\n",
       "      <th>...</th>\n",
       "      <td>...</td>\n",
       "      <td>...</td>\n",
       "      <td>...</td>\n",
       "      <td>...</td>\n",
       "      <td>...</td>\n",
       "    </tr>\n",
       "    <tr>\n",
       "      <th>325</th>\n",
       "      <td>0.34083</td>\n",
       "      <td>0.045743</td>\n",
       "      <td>0.601999</td>\n",
       "      <td>0.280884</td>\n",
       "      <td>0.807816</td>\n",
       "    </tr>\n",
       "    <tr>\n",
       "      <th>326</th>\n",
       "      <td>0.988932</td>\n",
       "      <td>0.159610</td>\n",
       "      <td>0.837567</td>\n",
       "      <td>0.396409</td>\n",
       "      <td>0.314547</td>\n",
       "    </tr>\n",
       "    <tr>\n",
       "      <th>327</th>\n",
       "      <td>0.740892</td>\n",
       "      <td>0.988692</td>\n",
       "      <td>0.590287</td>\n",
       "      <td>0.611523</td>\n",
       "      <td>0.524868</td>\n",
       "    </tr>\n",
       "    <tr>\n",
       "      <th>328</th>\n",
       "      <td>0.406848</td>\n",
       "      <td>0.559085</td>\n",
       "      <td>0.173811</td>\n",
       "      <td>0.790897</td>\n",
       "      <td>0.588132</td>\n",
       "    </tr>\n",
       "    <tr>\n",
       "      <th>329</th>\n",
       "      <td>0.977689</td>\n",
       "      <td>0.608806</td>\n",
       "      <td>0.418457</td>\n",
       "      <td>0.641351</td>\n",
       "      <td>0.643052</td>\n",
       "    </tr>\n",
       "  </tbody>\n",
       "</table>\n",
       "<p>330 rows × 5 columns</p>\n",
       "</div>"
      ],
      "text/plain": [
       "             0         1         2         3         4\n",
       "0          0.3  0.584004  0.641638  0.590761  0.827202\n",
       "1      0.21902  0.279671  0.315153  0.537852  0.522993\n",
       "2    0.0386159  0.600151  0.071985  0.969800  0.648097\n",
       "3     0.218335  0.516788  0.341376  0.654191  0.171033\n",
       "4    0.0771333  0.465228  0.609761  0.777708  0.218406\n",
       "..         ...       ...       ...       ...       ...\n",
       "325    0.34083  0.045743  0.601999  0.280884  0.807816\n",
       "326   0.988932  0.159610  0.837567  0.396409  0.314547\n",
       "327   0.740892  0.988692  0.590287  0.611523  0.524868\n",
       "328   0.406848  0.559085  0.173811  0.790897  0.588132\n",
       "329   0.977689  0.608806  0.418457  0.641351  0.643052\n",
       "\n",
       "[330 rows x 5 columns]"
      ]
     },
     "execution_count": 82,
     "metadata": {},
     "output_type": "execute_result"
    }
   ],
   "source": [
    "newDf.sort_index(axis=1)"
   ]
  },
  {
   "cell_type": "code",
   "execution_count": 83,
   "id": "2b302bb5",
   "metadata": {},
   "outputs": [
    {
     "data": {
      "text/html": [
       "<div>\n",
       "<style scoped>\n",
       "    .dataframe tbody tr th:only-of-type {\n",
       "        vertical-align: middle;\n",
       "    }\n",
       "\n",
       "    .dataframe tbody tr th {\n",
       "        vertical-align: top;\n",
       "    }\n",
       "\n",
       "    .dataframe thead th {\n",
       "        text-align: right;\n",
       "    }\n",
       "</style>\n",
       "<table border=\"1\" class=\"dataframe\">\n",
       "  <thead>\n",
       "    <tr style=\"text-align: right;\">\n",
       "      <th></th>\n",
       "      <th>4</th>\n",
       "      <th>3</th>\n",
       "      <th>2</th>\n",
       "      <th>1</th>\n",
       "      <th>0</th>\n",
       "    </tr>\n",
       "  </thead>\n",
       "  <tbody>\n",
       "    <tr>\n",
       "      <th>0</th>\n",
       "      <td>0.827202</td>\n",
       "      <td>0.590761</td>\n",
       "      <td>0.641638</td>\n",
       "      <td>0.584004</td>\n",
       "      <td>0.3</td>\n",
       "    </tr>\n",
       "    <tr>\n",
       "      <th>1</th>\n",
       "      <td>0.522993</td>\n",
       "      <td>0.537852</td>\n",
       "      <td>0.315153</td>\n",
       "      <td>0.279671</td>\n",
       "      <td>0.21902</td>\n",
       "    </tr>\n",
       "    <tr>\n",
       "      <th>2</th>\n",
       "      <td>0.648097</td>\n",
       "      <td>0.969800</td>\n",
       "      <td>0.071985</td>\n",
       "      <td>0.600151</td>\n",
       "      <td>0.0386159</td>\n",
       "    </tr>\n",
       "    <tr>\n",
       "      <th>3</th>\n",
       "      <td>0.171033</td>\n",
       "      <td>0.654191</td>\n",
       "      <td>0.341376</td>\n",
       "      <td>0.516788</td>\n",
       "      <td>0.218335</td>\n",
       "    </tr>\n",
       "    <tr>\n",
       "      <th>4</th>\n",
       "      <td>0.218406</td>\n",
       "      <td>0.777708</td>\n",
       "      <td>0.609761</td>\n",
       "      <td>0.465228</td>\n",
       "      <td>0.0771333</td>\n",
       "    </tr>\n",
       "    <tr>\n",
       "      <th>...</th>\n",
       "      <td>...</td>\n",
       "      <td>...</td>\n",
       "      <td>...</td>\n",
       "      <td>...</td>\n",
       "      <td>...</td>\n",
       "    </tr>\n",
       "    <tr>\n",
       "      <th>325</th>\n",
       "      <td>0.807816</td>\n",
       "      <td>0.280884</td>\n",
       "      <td>0.601999</td>\n",
       "      <td>0.045743</td>\n",
       "      <td>0.34083</td>\n",
       "    </tr>\n",
       "    <tr>\n",
       "      <th>326</th>\n",
       "      <td>0.314547</td>\n",
       "      <td>0.396409</td>\n",
       "      <td>0.837567</td>\n",
       "      <td>0.159610</td>\n",
       "      <td>0.988932</td>\n",
       "    </tr>\n",
       "    <tr>\n",
       "      <th>327</th>\n",
       "      <td>0.524868</td>\n",
       "      <td>0.611523</td>\n",
       "      <td>0.590287</td>\n",
       "      <td>0.988692</td>\n",
       "      <td>0.740892</td>\n",
       "    </tr>\n",
       "    <tr>\n",
       "      <th>328</th>\n",
       "      <td>0.588132</td>\n",
       "      <td>0.790897</td>\n",
       "      <td>0.173811</td>\n",
       "      <td>0.559085</td>\n",
       "      <td>0.406848</td>\n",
       "    </tr>\n",
       "    <tr>\n",
       "      <th>329</th>\n",
       "      <td>0.643052</td>\n",
       "      <td>0.641351</td>\n",
       "      <td>0.418457</td>\n",
       "      <td>0.608806</td>\n",
       "      <td>0.977689</td>\n",
       "    </tr>\n",
       "  </tbody>\n",
       "</table>\n",
       "<p>330 rows × 5 columns</p>\n",
       "</div>"
      ],
      "text/plain": [
       "            4         3         2         1          0\n",
       "0    0.827202  0.590761  0.641638  0.584004        0.3\n",
       "1    0.522993  0.537852  0.315153  0.279671    0.21902\n",
       "2    0.648097  0.969800  0.071985  0.600151  0.0386159\n",
       "3    0.171033  0.654191  0.341376  0.516788   0.218335\n",
       "4    0.218406  0.777708  0.609761  0.465228  0.0771333\n",
       "..        ...       ...       ...       ...        ...\n",
       "325  0.807816  0.280884  0.601999  0.045743    0.34083\n",
       "326  0.314547  0.396409  0.837567  0.159610   0.988932\n",
       "327  0.524868  0.611523  0.590287  0.988692   0.740892\n",
       "328  0.588132  0.790897  0.173811  0.559085   0.406848\n",
       "329  0.643052  0.641351  0.418457  0.608806   0.977689\n",
       "\n",
       "[330 rows x 5 columns]"
      ]
     },
     "execution_count": 83,
     "metadata": {},
     "output_type": "execute_result"
    }
   ],
   "source": [
    "newDf.sort_index(axis=1, ascending=False)"
   ]
  },
  {
   "cell_type": "code",
   "execution_count": 84,
   "id": "e12a990f",
   "metadata": {},
   "outputs": [
    {
     "data": {
      "text/html": [
       "<div>\n",
       "<style scoped>\n",
       "    .dataframe tbody tr th:only-of-type {\n",
       "        vertical-align: middle;\n",
       "    }\n",
       "\n",
       "    .dataframe tbody tr th {\n",
       "        vertical-align: top;\n",
       "    }\n",
       "\n",
       "    .dataframe thead th {\n",
       "        text-align: right;\n",
       "    }\n",
       "</style>\n",
       "<table border=\"1\" class=\"dataframe\">\n",
       "  <thead>\n",
       "    <tr style=\"text-align: right;\">\n",
       "      <th></th>\n",
       "      <th>0</th>\n",
       "      <th>1</th>\n",
       "      <th>2</th>\n",
       "      <th>3</th>\n",
       "      <th>4</th>\n",
       "    </tr>\n",
       "  </thead>\n",
       "  <tbody>\n",
       "    <tr>\n",
       "      <th>0</th>\n",
       "      <td>0.3</td>\n",
       "      <td>0.584004</td>\n",
       "      <td>0.641638</td>\n",
       "      <td>0.590761</td>\n",
       "      <td>0.827202</td>\n",
       "    </tr>\n",
       "    <tr>\n",
       "      <th>1</th>\n",
       "      <td>0.21902</td>\n",
       "      <td>0.279671</td>\n",
       "      <td>0.315153</td>\n",
       "      <td>0.537852</td>\n",
       "      <td>0.522993</td>\n",
       "    </tr>\n",
       "    <tr>\n",
       "      <th>2</th>\n",
       "      <td>0.0386159</td>\n",
       "      <td>0.600151</td>\n",
       "      <td>0.071985</td>\n",
       "      <td>0.969800</td>\n",
       "      <td>0.648097</td>\n",
       "    </tr>\n",
       "    <tr>\n",
       "      <th>3</th>\n",
       "      <td>0.218335</td>\n",
       "      <td>0.516788</td>\n",
       "      <td>0.341376</td>\n",
       "      <td>0.654191</td>\n",
       "      <td>0.171033</td>\n",
       "    </tr>\n",
       "    <tr>\n",
       "      <th>4</th>\n",
       "      <td>0.0771333</td>\n",
       "      <td>0.465228</td>\n",
       "      <td>0.609761</td>\n",
       "      <td>0.777708</td>\n",
       "      <td>0.218406</td>\n",
       "    </tr>\n",
       "  </tbody>\n",
       "</table>\n",
       "</div>"
      ],
      "text/plain": [
       "           0         1         2         3         4\n",
       "0        0.3  0.584004  0.641638  0.590761  0.827202\n",
       "1    0.21902  0.279671  0.315153  0.537852  0.522993\n",
       "2  0.0386159  0.600151  0.071985  0.969800  0.648097\n",
       "3   0.218335  0.516788  0.341376  0.654191  0.171033\n",
       "4  0.0771333  0.465228  0.609761  0.777708  0.218406"
      ]
     },
     "execution_count": 84,
     "metadata": {},
     "output_type": "execute_result"
    }
   ],
   "source": [
    "newDf.head()"
   ]
  },
  {
   "cell_type": "code",
   "execution_count": 85,
   "id": "95d17814",
   "metadata": {},
   "outputs": [
    {
     "data": {
      "text/plain": [
       "0.21901996818307434"
      ]
     },
     "execution_count": 85,
     "metadata": {},
     "output_type": "execute_result"
    }
   ],
   "source": [
    "newDf[0][1]"
   ]
  },
  {
   "cell_type": "code",
   "execution_count": 86,
   "id": "b212755c",
   "metadata": {},
   "outputs": [
    {
     "data": {
      "text/plain": [
       "pandas.core.series.Series"
      ]
     },
     "execution_count": 86,
     "metadata": {},
     "output_type": "execute_result"
    }
   ],
   "source": [
    "type(newDf[0])"
   ]
  },
  {
   "cell_type": "code",
   "execution_count": 87,
   "id": "d3b1fb50",
   "metadata": {},
   "outputs": [
    {
     "data": {
      "text/html": [
       "<div>\n",
       "<style scoped>\n",
       "    .dataframe tbody tr th:only-of-type {\n",
       "        vertical-align: middle;\n",
       "    }\n",
       "\n",
       "    .dataframe tbody tr th {\n",
       "        vertical-align: top;\n",
       "    }\n",
       "\n",
       "    .dataframe thead th {\n",
       "        text-align: right;\n",
       "    }\n",
       "</style>\n",
       "<table border=\"1\" class=\"dataframe\">\n",
       "  <thead>\n",
       "    <tr style=\"text-align: right;\">\n",
       "      <th></th>\n",
       "      <th>0</th>\n",
       "      <th>1</th>\n",
       "      <th>2</th>\n",
       "      <th>3</th>\n",
       "      <th>4</th>\n",
       "    </tr>\n",
       "  </thead>\n",
       "  <tbody>\n",
       "    <tr>\n",
       "      <th>0</th>\n",
       "      <td>0.3</td>\n",
       "      <td>0.584004</td>\n",
       "      <td>0.641638</td>\n",
       "      <td>0.590761</td>\n",
       "      <td>0.827202</td>\n",
       "    </tr>\n",
       "    <tr>\n",
       "      <th>1</th>\n",
       "      <td>0.21902</td>\n",
       "      <td>0.279671</td>\n",
       "      <td>0.315153</td>\n",
       "      <td>0.537852</td>\n",
       "      <td>0.522993</td>\n",
       "    </tr>\n",
       "    <tr>\n",
       "      <th>2</th>\n",
       "      <td>0.0386159</td>\n",
       "      <td>0.600151</td>\n",
       "      <td>0.071985</td>\n",
       "      <td>0.969800</td>\n",
       "      <td>0.648097</td>\n",
       "    </tr>\n",
       "    <tr>\n",
       "      <th>3</th>\n",
       "      <td>0.218335</td>\n",
       "      <td>0.516788</td>\n",
       "      <td>0.341376</td>\n",
       "      <td>0.654191</td>\n",
       "      <td>0.171033</td>\n",
       "    </tr>\n",
       "    <tr>\n",
       "      <th>4</th>\n",
       "      <td>0.0771333</td>\n",
       "      <td>0.465228</td>\n",
       "      <td>0.609761</td>\n",
       "      <td>0.777708</td>\n",
       "      <td>0.218406</td>\n",
       "    </tr>\n",
       "    <tr>\n",
       "      <th>...</th>\n",
       "      <td>...</td>\n",
       "      <td>...</td>\n",
       "      <td>...</td>\n",
       "      <td>...</td>\n",
       "      <td>...</td>\n",
       "    </tr>\n",
       "    <tr>\n",
       "      <th>325</th>\n",
       "      <td>0.34083</td>\n",
       "      <td>0.045743</td>\n",
       "      <td>0.601999</td>\n",
       "      <td>0.280884</td>\n",
       "      <td>0.807816</td>\n",
       "    </tr>\n",
       "    <tr>\n",
       "      <th>326</th>\n",
       "      <td>0.988932</td>\n",
       "      <td>0.159610</td>\n",
       "      <td>0.837567</td>\n",
       "      <td>0.396409</td>\n",
       "      <td>0.314547</td>\n",
       "    </tr>\n",
       "    <tr>\n",
       "      <th>327</th>\n",
       "      <td>0.740892</td>\n",
       "      <td>0.988692</td>\n",
       "      <td>0.590287</td>\n",
       "      <td>0.611523</td>\n",
       "      <td>0.524868</td>\n",
       "    </tr>\n",
       "    <tr>\n",
       "      <th>328</th>\n",
       "      <td>0.406848</td>\n",
       "      <td>0.559085</td>\n",
       "      <td>0.173811</td>\n",
       "      <td>0.790897</td>\n",
       "      <td>0.588132</td>\n",
       "    </tr>\n",
       "    <tr>\n",
       "      <th>329</th>\n",
       "      <td>0.977689</td>\n",
       "      <td>0.608806</td>\n",
       "      <td>0.418457</td>\n",
       "      <td>0.641351</td>\n",
       "      <td>0.643052</td>\n",
       "    </tr>\n",
       "  </tbody>\n",
       "</table>\n",
       "<p>330 rows × 5 columns</p>\n",
       "</div>"
      ],
      "text/plain": [
       "             0         1         2         3         4\n",
       "0          0.3  0.584004  0.641638  0.590761  0.827202\n",
       "1      0.21902  0.279671  0.315153  0.537852  0.522993\n",
       "2    0.0386159  0.600151  0.071985  0.969800  0.648097\n",
       "3     0.218335  0.516788  0.341376  0.654191  0.171033\n",
       "4    0.0771333  0.465228  0.609761  0.777708  0.218406\n",
       "..         ...       ...       ...       ...       ...\n",
       "325    0.34083  0.045743  0.601999  0.280884  0.807816\n",
       "326   0.988932  0.159610  0.837567  0.396409  0.314547\n",
       "327   0.740892  0.988692  0.590287  0.611523  0.524868\n",
       "328   0.406848  0.559085  0.173811  0.790897  0.588132\n",
       "329   0.977689  0.608806  0.418457  0.641351  0.643052\n",
       "\n",
       "[330 rows x 5 columns]"
      ]
     },
     "execution_count": 87,
     "metadata": {},
     "output_type": "execute_result"
    }
   ],
   "source": [
    "newDf"
   ]
  },
  {
   "cell_type": "markdown",
   "id": "d3f3dc62",
   "metadata": {},
   "source": [
    "## view"
   ]
  },
  {
   "cell_type": "code",
   "execution_count": 88,
   "id": "c8a11492",
   "metadata": {},
   "outputs": [],
   "source": [
    "newDfView=newDf"
   ]
  },
  {
   "cell_type": "code",
   "execution_count": 89,
   "id": "afc8f72f",
   "metadata": {},
   "outputs": [
    {
     "data": {
      "text/html": [
       "<div>\n",
       "<style scoped>\n",
       "    .dataframe tbody tr th:only-of-type {\n",
       "        vertical-align: middle;\n",
       "    }\n",
       "\n",
       "    .dataframe tbody tr th {\n",
       "        vertical-align: top;\n",
       "    }\n",
       "\n",
       "    .dataframe thead th {\n",
       "        text-align: right;\n",
       "    }\n",
       "</style>\n",
       "<table border=\"1\" class=\"dataframe\">\n",
       "  <thead>\n",
       "    <tr style=\"text-align: right;\">\n",
       "      <th></th>\n",
       "      <th>0</th>\n",
       "      <th>1</th>\n",
       "      <th>2</th>\n",
       "      <th>3</th>\n",
       "      <th>4</th>\n",
       "    </tr>\n",
       "  </thead>\n",
       "  <tbody>\n",
       "    <tr>\n",
       "      <th>0</th>\n",
       "      <td>0.3</td>\n",
       "      <td>0.584004</td>\n",
       "      <td>0.641638</td>\n",
       "      <td>0.590761</td>\n",
       "      <td>0.827202</td>\n",
       "    </tr>\n",
       "    <tr>\n",
       "      <th>1</th>\n",
       "      <td>0.21902</td>\n",
       "      <td>0.279671</td>\n",
       "      <td>0.315153</td>\n",
       "      <td>0.537852</td>\n",
       "      <td>0.522993</td>\n",
       "    </tr>\n",
       "    <tr>\n",
       "      <th>2</th>\n",
       "      <td>0.0386159</td>\n",
       "      <td>0.600151</td>\n",
       "      <td>0.071985</td>\n",
       "      <td>0.969800</td>\n",
       "      <td>0.648097</td>\n",
       "    </tr>\n",
       "    <tr>\n",
       "      <th>3</th>\n",
       "      <td>0.218335</td>\n",
       "      <td>0.516788</td>\n",
       "      <td>0.341376</td>\n",
       "      <td>0.654191</td>\n",
       "      <td>0.171033</td>\n",
       "    </tr>\n",
       "    <tr>\n",
       "      <th>4</th>\n",
       "      <td>0.0771333</td>\n",
       "      <td>0.465228</td>\n",
       "      <td>0.609761</td>\n",
       "      <td>0.777708</td>\n",
       "      <td>0.218406</td>\n",
       "    </tr>\n",
       "    <tr>\n",
       "      <th>...</th>\n",
       "      <td>...</td>\n",
       "      <td>...</td>\n",
       "      <td>...</td>\n",
       "      <td>...</td>\n",
       "      <td>...</td>\n",
       "    </tr>\n",
       "    <tr>\n",
       "      <th>325</th>\n",
       "      <td>0.34083</td>\n",
       "      <td>0.045743</td>\n",
       "      <td>0.601999</td>\n",
       "      <td>0.280884</td>\n",
       "      <td>0.807816</td>\n",
       "    </tr>\n",
       "    <tr>\n",
       "      <th>326</th>\n",
       "      <td>0.988932</td>\n",
       "      <td>0.159610</td>\n",
       "      <td>0.837567</td>\n",
       "      <td>0.396409</td>\n",
       "      <td>0.314547</td>\n",
       "    </tr>\n",
       "    <tr>\n",
       "      <th>327</th>\n",
       "      <td>0.740892</td>\n",
       "      <td>0.988692</td>\n",
       "      <td>0.590287</td>\n",
       "      <td>0.611523</td>\n",
       "      <td>0.524868</td>\n",
       "    </tr>\n",
       "    <tr>\n",
       "      <th>328</th>\n",
       "      <td>0.406848</td>\n",
       "      <td>0.559085</td>\n",
       "      <td>0.173811</td>\n",
       "      <td>0.790897</td>\n",
       "      <td>0.588132</td>\n",
       "    </tr>\n",
       "    <tr>\n",
       "      <th>329</th>\n",
       "      <td>0.977689</td>\n",
       "      <td>0.608806</td>\n",
       "      <td>0.418457</td>\n",
       "      <td>0.641351</td>\n",
       "      <td>0.643052</td>\n",
       "    </tr>\n",
       "  </tbody>\n",
       "</table>\n",
       "<p>330 rows × 5 columns</p>\n",
       "</div>"
      ],
      "text/plain": [
       "             0         1         2         3         4\n",
       "0          0.3  0.584004  0.641638  0.590761  0.827202\n",
       "1      0.21902  0.279671  0.315153  0.537852  0.522993\n",
       "2    0.0386159  0.600151  0.071985  0.969800  0.648097\n",
       "3     0.218335  0.516788  0.341376  0.654191  0.171033\n",
       "4    0.0771333  0.465228  0.609761  0.777708  0.218406\n",
       "..         ...       ...       ...       ...       ...\n",
       "325    0.34083  0.045743  0.601999  0.280884  0.807816\n",
       "326   0.988932  0.159610  0.837567  0.396409  0.314547\n",
       "327   0.740892  0.988692  0.590287  0.611523  0.524868\n",
       "328   0.406848  0.559085  0.173811  0.790897  0.588132\n",
       "329   0.977689  0.608806  0.418457  0.641351  0.643052\n",
       "\n",
       "[330 rows x 5 columns]"
      ]
     },
     "execution_count": 89,
     "metadata": {},
     "output_type": "execute_result"
    }
   ],
   "source": [
    "newDfView"
   ]
  },
  {
   "cell_type": "code",
   "execution_count": 90,
   "id": "32a705a6",
   "metadata": {},
   "outputs": [
    {
     "name": "stderr",
     "output_type": "stream",
     "text": [
      "C:\\Users\\Amazon Hub\\anaconda3\\envs\\haseeb\\lib\\site-packages\\ipykernel_launcher.py:1: SettingWithCopyWarning: \n",
      "A value is trying to be set on a copy of a slice from a DataFrame\n",
      "\n",
      "See the caveats in the documentation: https://pandas.pydata.org/pandas-docs/stable/user_guide/indexing.html#returning-a-view-versus-a-copy\n",
      "  \"\"\"Entry point for launching an IPython kernel.\n"
     ]
    }
   ],
   "source": [
    "newDfView[0][0]=765"
   ]
  },
  {
   "cell_type": "code",
   "execution_count": 91,
   "id": "984f3e06",
   "metadata": {},
   "outputs": [
    {
     "data": {
      "text/html": [
       "<div>\n",
       "<style scoped>\n",
       "    .dataframe tbody tr th:only-of-type {\n",
       "        vertical-align: middle;\n",
       "    }\n",
       "\n",
       "    .dataframe tbody tr th {\n",
       "        vertical-align: top;\n",
       "    }\n",
       "\n",
       "    .dataframe thead th {\n",
       "        text-align: right;\n",
       "    }\n",
       "</style>\n",
       "<table border=\"1\" class=\"dataframe\">\n",
       "  <thead>\n",
       "    <tr style=\"text-align: right;\">\n",
       "      <th></th>\n",
       "      <th>0</th>\n",
       "      <th>1</th>\n",
       "      <th>2</th>\n",
       "      <th>3</th>\n",
       "      <th>4</th>\n",
       "    </tr>\n",
       "  </thead>\n",
       "  <tbody>\n",
       "    <tr>\n",
       "      <th>0</th>\n",
       "      <td>765</td>\n",
       "      <td>0.584004</td>\n",
       "      <td>0.641638</td>\n",
       "      <td>0.590761</td>\n",
       "      <td>0.827202</td>\n",
       "    </tr>\n",
       "    <tr>\n",
       "      <th>1</th>\n",
       "      <td>0.21902</td>\n",
       "      <td>0.279671</td>\n",
       "      <td>0.315153</td>\n",
       "      <td>0.537852</td>\n",
       "      <td>0.522993</td>\n",
       "    </tr>\n",
       "    <tr>\n",
       "      <th>2</th>\n",
       "      <td>0.0386159</td>\n",
       "      <td>0.600151</td>\n",
       "      <td>0.071985</td>\n",
       "      <td>0.969800</td>\n",
       "      <td>0.648097</td>\n",
       "    </tr>\n",
       "    <tr>\n",
       "      <th>3</th>\n",
       "      <td>0.218335</td>\n",
       "      <td>0.516788</td>\n",
       "      <td>0.341376</td>\n",
       "      <td>0.654191</td>\n",
       "      <td>0.171033</td>\n",
       "    </tr>\n",
       "    <tr>\n",
       "      <th>4</th>\n",
       "      <td>0.0771333</td>\n",
       "      <td>0.465228</td>\n",
       "      <td>0.609761</td>\n",
       "      <td>0.777708</td>\n",
       "      <td>0.218406</td>\n",
       "    </tr>\n",
       "  </tbody>\n",
       "</table>\n",
       "</div>"
      ],
      "text/plain": [
       "           0         1         2         3         4\n",
       "0        765  0.584004  0.641638  0.590761  0.827202\n",
       "1    0.21902  0.279671  0.315153  0.537852  0.522993\n",
       "2  0.0386159  0.600151  0.071985  0.969800  0.648097\n",
       "3   0.218335  0.516788  0.341376  0.654191  0.171033\n",
       "4  0.0771333  0.465228  0.609761  0.777708  0.218406"
      ]
     },
     "execution_count": 91,
     "metadata": {},
     "output_type": "execute_result"
    }
   ],
   "source": [
    "newDf.head()"
   ]
  },
  {
   "cell_type": "code",
   "execution_count": 92,
   "id": "ed958ba1",
   "metadata": {},
   "outputs": [
    {
     "data": {
      "text/html": [
       "<div>\n",
       "<style scoped>\n",
       "    .dataframe tbody tr th:only-of-type {\n",
       "        vertical-align: middle;\n",
       "    }\n",
       "\n",
       "    .dataframe tbody tr th {\n",
       "        vertical-align: top;\n",
       "    }\n",
       "\n",
       "    .dataframe thead th {\n",
       "        text-align: right;\n",
       "    }\n",
       "</style>\n",
       "<table border=\"1\" class=\"dataframe\">\n",
       "  <thead>\n",
       "    <tr style=\"text-align: right;\">\n",
       "      <th></th>\n",
       "      <th>0</th>\n",
       "      <th>1</th>\n",
       "      <th>2</th>\n",
       "      <th>3</th>\n",
       "      <th>4</th>\n",
       "    </tr>\n",
       "  </thead>\n",
       "  <tbody>\n",
       "    <tr>\n",
       "      <th>0</th>\n",
       "      <td>765</td>\n",
       "      <td>0.584004</td>\n",
       "      <td>0.641638</td>\n",
       "      <td>0.590761</td>\n",
       "      <td>0.827202</td>\n",
       "    </tr>\n",
       "    <tr>\n",
       "      <th>1</th>\n",
       "      <td>0.21902</td>\n",
       "      <td>0.279671</td>\n",
       "      <td>0.315153</td>\n",
       "      <td>0.537852</td>\n",
       "      <td>0.522993</td>\n",
       "    </tr>\n",
       "    <tr>\n",
       "      <th>2</th>\n",
       "      <td>0.0386159</td>\n",
       "      <td>0.600151</td>\n",
       "      <td>0.071985</td>\n",
       "      <td>0.969800</td>\n",
       "      <td>0.648097</td>\n",
       "    </tr>\n",
       "    <tr>\n",
       "      <th>3</th>\n",
       "      <td>0.218335</td>\n",
       "      <td>0.516788</td>\n",
       "      <td>0.341376</td>\n",
       "      <td>0.654191</td>\n",
       "      <td>0.171033</td>\n",
       "    </tr>\n",
       "    <tr>\n",
       "      <th>4</th>\n",
       "      <td>0.0771333</td>\n",
       "      <td>0.465228</td>\n",
       "      <td>0.609761</td>\n",
       "      <td>0.777708</td>\n",
       "      <td>0.218406</td>\n",
       "    </tr>\n",
       "  </tbody>\n",
       "</table>\n",
       "</div>"
      ],
      "text/plain": [
       "           0         1         2         3         4\n",
       "0        765  0.584004  0.641638  0.590761  0.827202\n",
       "1    0.21902  0.279671  0.315153  0.537852  0.522993\n",
       "2  0.0386159  0.600151  0.071985  0.969800  0.648097\n",
       "3   0.218335  0.516788  0.341376  0.654191  0.171033\n",
       "4  0.0771333  0.465228  0.609761  0.777708  0.218406"
      ]
     },
     "execution_count": 92,
     "metadata": {},
     "output_type": "execute_result"
    }
   ],
   "source": [
    "newDfView.head()"
   ]
  },
  {
   "cell_type": "code",
   "execution_count": 93,
   "id": "8a4db7d6",
   "metadata": {},
   "outputs": [],
   "source": [
    "newDfCopy=newDf.copy()"
   ]
  },
  {
   "cell_type": "code",
   "execution_count": 94,
   "id": "3d02023a",
   "metadata": {},
   "outputs": [
    {
     "name": "stderr",
     "output_type": "stream",
     "text": [
      "C:\\Users\\Amazon Hub\\anaconda3\\envs\\haseeb\\lib\\site-packages\\ipykernel_launcher.py:1: SettingWithCopyWarning: \n",
      "A value is trying to be set on a copy of a slice from a DataFrame\n",
      "\n",
      "See the caveats in the documentation: https://pandas.pydata.org/pandas-docs/stable/user_guide/indexing.html#returning-a-view-versus-a-copy\n",
      "  \"\"\"Entry point for launching an IPython kernel.\n"
     ]
    }
   ],
   "source": [
    "newDfCopy[0][0]=656"
   ]
  },
  {
   "cell_type": "code",
   "execution_count": 95,
   "id": "9f7309c6",
   "metadata": {},
   "outputs": [
    {
     "data": {
      "text/html": [
       "<div>\n",
       "<style scoped>\n",
       "    .dataframe tbody tr th:only-of-type {\n",
       "        vertical-align: middle;\n",
       "    }\n",
       "\n",
       "    .dataframe tbody tr th {\n",
       "        vertical-align: top;\n",
       "    }\n",
       "\n",
       "    .dataframe thead th {\n",
       "        text-align: right;\n",
       "    }\n",
       "</style>\n",
       "<table border=\"1\" class=\"dataframe\">\n",
       "  <thead>\n",
       "    <tr style=\"text-align: right;\">\n",
       "      <th></th>\n",
       "      <th>0</th>\n",
       "      <th>1</th>\n",
       "      <th>2</th>\n",
       "      <th>3</th>\n",
       "      <th>4</th>\n",
       "    </tr>\n",
       "  </thead>\n",
       "  <tbody>\n",
       "    <tr>\n",
       "      <th>0</th>\n",
       "      <td>765</td>\n",
       "      <td>0.584004</td>\n",
       "      <td>0.641638</td>\n",
       "      <td>0.590761</td>\n",
       "      <td>0.827202</td>\n",
       "    </tr>\n",
       "    <tr>\n",
       "      <th>1</th>\n",
       "      <td>0.21902</td>\n",
       "      <td>0.279671</td>\n",
       "      <td>0.315153</td>\n",
       "      <td>0.537852</td>\n",
       "      <td>0.522993</td>\n",
       "    </tr>\n",
       "    <tr>\n",
       "      <th>2</th>\n",
       "      <td>0.0386159</td>\n",
       "      <td>0.600151</td>\n",
       "      <td>0.071985</td>\n",
       "      <td>0.969800</td>\n",
       "      <td>0.648097</td>\n",
       "    </tr>\n",
       "    <tr>\n",
       "      <th>3</th>\n",
       "      <td>0.218335</td>\n",
       "      <td>0.516788</td>\n",
       "      <td>0.341376</td>\n",
       "      <td>0.654191</td>\n",
       "      <td>0.171033</td>\n",
       "    </tr>\n",
       "    <tr>\n",
       "      <th>4</th>\n",
       "      <td>0.0771333</td>\n",
       "      <td>0.465228</td>\n",
       "      <td>0.609761</td>\n",
       "      <td>0.777708</td>\n",
       "      <td>0.218406</td>\n",
       "    </tr>\n",
       "  </tbody>\n",
       "</table>\n",
       "</div>"
      ],
      "text/plain": [
       "           0         1         2         3         4\n",
       "0        765  0.584004  0.641638  0.590761  0.827202\n",
       "1    0.21902  0.279671  0.315153  0.537852  0.522993\n",
       "2  0.0386159  0.600151  0.071985  0.969800  0.648097\n",
       "3   0.218335  0.516788  0.341376  0.654191  0.171033\n",
       "4  0.0771333  0.465228  0.609761  0.777708  0.218406"
      ]
     },
     "execution_count": 95,
     "metadata": {},
     "output_type": "execute_result"
    }
   ],
   "source": [
    "newDf.head()"
   ]
  },
  {
   "cell_type": "code",
   "execution_count": 96,
   "id": "847240a3",
   "metadata": {},
   "outputs": [
    {
     "data": {
      "text/html": [
       "<div>\n",
       "<style scoped>\n",
       "    .dataframe tbody tr th:only-of-type {\n",
       "        vertical-align: middle;\n",
       "    }\n",
       "\n",
       "    .dataframe tbody tr th {\n",
       "        vertical-align: top;\n",
       "    }\n",
       "\n",
       "    .dataframe thead th {\n",
       "        text-align: right;\n",
       "    }\n",
       "</style>\n",
       "<table border=\"1\" class=\"dataframe\">\n",
       "  <thead>\n",
       "    <tr style=\"text-align: right;\">\n",
       "      <th></th>\n",
       "      <th>0</th>\n",
       "      <th>1</th>\n",
       "      <th>2</th>\n",
       "      <th>3</th>\n",
       "      <th>4</th>\n",
       "    </tr>\n",
       "  </thead>\n",
       "  <tbody>\n",
       "    <tr>\n",
       "      <th>0</th>\n",
       "      <td>656</td>\n",
       "      <td>0.584004</td>\n",
       "      <td>0.641638</td>\n",
       "      <td>0.590761</td>\n",
       "      <td>0.827202</td>\n",
       "    </tr>\n",
       "    <tr>\n",
       "      <th>1</th>\n",
       "      <td>0.21902</td>\n",
       "      <td>0.279671</td>\n",
       "      <td>0.315153</td>\n",
       "      <td>0.537852</td>\n",
       "      <td>0.522993</td>\n",
       "    </tr>\n",
       "    <tr>\n",
       "      <th>2</th>\n",
       "      <td>0.0386159</td>\n",
       "      <td>0.600151</td>\n",
       "      <td>0.071985</td>\n",
       "      <td>0.969800</td>\n",
       "      <td>0.648097</td>\n",
       "    </tr>\n",
       "    <tr>\n",
       "      <th>3</th>\n",
       "      <td>0.218335</td>\n",
       "      <td>0.516788</td>\n",
       "      <td>0.341376</td>\n",
       "      <td>0.654191</td>\n",
       "      <td>0.171033</td>\n",
       "    </tr>\n",
       "    <tr>\n",
       "      <th>4</th>\n",
       "      <td>0.0771333</td>\n",
       "      <td>0.465228</td>\n",
       "      <td>0.609761</td>\n",
       "      <td>0.777708</td>\n",
       "      <td>0.218406</td>\n",
       "    </tr>\n",
       "  </tbody>\n",
       "</table>\n",
       "</div>"
      ],
      "text/plain": [
       "           0         1         2         3         4\n",
       "0        656  0.584004  0.641638  0.590761  0.827202\n",
       "1    0.21902  0.279671  0.315153  0.537852  0.522993\n",
       "2  0.0386159  0.600151  0.071985  0.969800  0.648097\n",
       "3   0.218335  0.516788  0.341376  0.654191  0.171033\n",
       "4  0.0771333  0.465228  0.609761  0.777708  0.218406"
      ]
     },
     "execution_count": 96,
     "metadata": {},
     "output_type": "execute_result"
    }
   ],
   "source": [
    "newDfCopy.head()"
   ]
  },
  {
   "cell_type": "markdown",
   "id": "c4b27c61",
   "metadata": {},
   "source": [
    "## loc"
   ]
  },
  {
   "cell_type": "code",
   "execution_count": 97,
   "id": "d8e70dfb",
   "metadata": {},
   "outputs": [
    {
     "data": {
      "text/html": [
       "<div>\n",
       "<style scoped>\n",
       "    .dataframe tbody tr th:only-of-type {\n",
       "        vertical-align: middle;\n",
       "    }\n",
       "\n",
       "    .dataframe tbody tr th {\n",
       "        vertical-align: top;\n",
       "    }\n",
       "\n",
       "    .dataframe thead th {\n",
       "        text-align: right;\n",
       "    }\n",
       "</style>\n",
       "<table border=\"1\" class=\"dataframe\">\n",
       "  <thead>\n",
       "    <tr style=\"text-align: right;\">\n",
       "      <th></th>\n",
       "      <th>0</th>\n",
       "      <th>1</th>\n",
       "      <th>2</th>\n",
       "      <th>3</th>\n",
       "      <th>4</th>\n",
       "    </tr>\n",
       "  </thead>\n",
       "  <tbody>\n",
       "    <tr>\n",
       "      <th>0</th>\n",
       "      <td>765</td>\n",
       "      <td>0.584004</td>\n",
       "      <td>0.641638</td>\n",
       "      <td>0.590761</td>\n",
       "      <td>0.827202</td>\n",
       "    </tr>\n",
       "    <tr>\n",
       "      <th>1</th>\n",
       "      <td>0.21902</td>\n",
       "      <td>0.279671</td>\n",
       "      <td>0.315153</td>\n",
       "      <td>0.537852</td>\n",
       "      <td>0.522993</td>\n",
       "    </tr>\n",
       "  </tbody>\n",
       "</table>\n",
       "</div>"
      ],
      "text/plain": [
       "         0         1         2         3         4\n",
       "0      765  0.584004  0.641638  0.590761  0.827202\n",
       "1  0.21902  0.279671  0.315153  0.537852  0.522993"
      ]
     },
     "execution_count": 97,
     "metadata": {},
     "output_type": "execute_result"
    }
   ],
   "source": [
    "newDf.head(2)"
   ]
  },
  {
   "cell_type": "code",
   "execution_count": 98,
   "id": "d68dbaa6",
   "metadata": {},
   "outputs": [
    {
     "data": {
      "text/plain": [
       "765"
      ]
     },
     "execution_count": 98,
     "metadata": {},
     "output_type": "execute_result"
    }
   ],
   "source": [
    "newDf.loc[0,0]"
   ]
  },
  {
   "cell_type": "code",
   "execution_count": 99,
   "id": "ffdddeae",
   "metadata": {},
   "outputs": [],
   "source": [
    "newDf.loc[0,0]=5678"
   ]
  },
  {
   "cell_type": "code",
   "execution_count": 100,
   "id": "79abae20",
   "metadata": {},
   "outputs": [
    {
     "data": {
      "text/html": [
       "<div>\n",
       "<style scoped>\n",
       "    .dataframe tbody tr th:only-of-type {\n",
       "        vertical-align: middle;\n",
       "    }\n",
       "\n",
       "    .dataframe tbody tr th {\n",
       "        vertical-align: top;\n",
       "    }\n",
       "\n",
       "    .dataframe thead th {\n",
       "        text-align: right;\n",
       "    }\n",
       "</style>\n",
       "<table border=\"1\" class=\"dataframe\">\n",
       "  <thead>\n",
       "    <tr style=\"text-align: right;\">\n",
       "      <th></th>\n",
       "      <th>0</th>\n",
       "      <th>1</th>\n",
       "      <th>2</th>\n",
       "      <th>3</th>\n",
       "      <th>4</th>\n",
       "    </tr>\n",
       "  </thead>\n",
       "  <tbody>\n",
       "    <tr>\n",
       "      <th>0</th>\n",
       "      <td>5678</td>\n",
       "      <td>0.584004</td>\n",
       "      <td>0.641638</td>\n",
       "      <td>0.590761</td>\n",
       "      <td>0.827202</td>\n",
       "    </tr>\n",
       "    <tr>\n",
       "      <th>1</th>\n",
       "      <td>0.21902</td>\n",
       "      <td>0.279671</td>\n",
       "      <td>0.315153</td>\n",
       "      <td>0.537852</td>\n",
       "      <td>0.522993</td>\n",
       "    </tr>\n",
       "  </tbody>\n",
       "</table>\n",
       "</div>"
      ],
      "text/plain": [
       "         0         1         2         3         4\n",
       "0     5678  0.584004  0.641638  0.590761  0.827202\n",
       "1  0.21902  0.279671  0.315153  0.537852  0.522993"
      ]
     },
     "execution_count": 100,
     "metadata": {},
     "output_type": "execute_result"
    }
   ],
   "source": [
    "newDf.head(2)"
   ]
  },
  {
   "cell_type": "code",
   "execution_count": 101,
   "id": "365d11dd",
   "metadata": {},
   "outputs": [
    {
     "data": {
      "text/plain": [
       "0.8272023875257263"
      ]
     },
     "execution_count": 101,
     "metadata": {},
     "output_type": "execute_result"
    }
   ],
   "source": [
    "newDf.loc[0,4]"
   ]
  },
  {
   "cell_type": "code",
   "execution_count": 102,
   "id": "691e63fb",
   "metadata": {},
   "outputs": [
    {
     "data": {
      "text/plain": [
       "0.045742738563160135"
      ]
     },
     "execution_count": 102,
     "metadata": {},
     "output_type": "execute_result"
    }
   ],
   "source": [
    "newDf.loc[325,1]"
   ]
  },
  {
   "cell_type": "code",
   "execution_count": 103,
   "id": "59d5b12e",
   "metadata": {},
   "outputs": [],
   "source": [
    "newDf.loc[0,0]=9875"
   ]
  },
  {
   "cell_type": "code",
   "execution_count": 104,
   "id": "38793742",
   "metadata": {},
   "outputs": [
    {
     "data": {
      "text/html": [
       "<div>\n",
       "<style scoped>\n",
       "    .dataframe tbody tr th:only-of-type {\n",
       "        vertical-align: middle;\n",
       "    }\n",
       "\n",
       "    .dataframe tbody tr th {\n",
       "        vertical-align: top;\n",
       "    }\n",
       "\n",
       "    .dataframe thead th {\n",
       "        text-align: right;\n",
       "    }\n",
       "</style>\n",
       "<table border=\"1\" class=\"dataframe\">\n",
       "  <thead>\n",
       "    <tr style=\"text-align: right;\">\n",
       "      <th></th>\n",
       "      <th>0</th>\n",
       "      <th>1</th>\n",
       "      <th>2</th>\n",
       "      <th>3</th>\n",
       "      <th>4</th>\n",
       "    </tr>\n",
       "  </thead>\n",
       "  <tbody>\n",
       "    <tr>\n",
       "      <th>0</th>\n",
       "      <td>9875</td>\n",
       "      <td>0.584004</td>\n",
       "      <td>0.641638</td>\n",
       "      <td>0.590761</td>\n",
       "      <td>0.827202</td>\n",
       "    </tr>\n",
       "    <tr>\n",
       "      <th>1</th>\n",
       "      <td>0.21902</td>\n",
       "      <td>0.279671</td>\n",
       "      <td>0.315153</td>\n",
       "      <td>0.537852</td>\n",
       "      <td>0.522993</td>\n",
       "    </tr>\n",
       "  </tbody>\n",
       "</table>\n",
       "</div>"
      ],
      "text/plain": [
       "         0         1         2         3         4\n",
       "0     9875  0.584004  0.641638  0.590761  0.827202\n",
       "1  0.21902  0.279671  0.315153  0.537852  0.522993"
      ]
     },
     "execution_count": 104,
     "metadata": {},
     "output_type": "execute_result"
    }
   ],
   "source": [
    "newDf.head(2)"
   ]
  },
  {
   "cell_type": "code",
   "execution_count": 105,
   "id": "af9d496c",
   "metadata": {},
   "outputs": [],
   "source": [
    "newDf.columns=list(\"ABCDE\")"
   ]
  },
  {
   "cell_type": "code",
   "execution_count": 106,
   "id": "3108ef47",
   "metadata": {},
   "outputs": [
    {
     "data": {
      "text/html": [
       "<div>\n",
       "<style scoped>\n",
       "    .dataframe tbody tr th:only-of-type {\n",
       "        vertical-align: middle;\n",
       "    }\n",
       "\n",
       "    .dataframe tbody tr th {\n",
       "        vertical-align: top;\n",
       "    }\n",
       "\n",
       "    .dataframe thead th {\n",
       "        text-align: right;\n",
       "    }\n",
       "</style>\n",
       "<table border=\"1\" class=\"dataframe\">\n",
       "  <thead>\n",
       "    <tr style=\"text-align: right;\">\n",
       "      <th></th>\n",
       "      <th>A</th>\n",
       "      <th>B</th>\n",
       "      <th>C</th>\n",
       "      <th>D</th>\n",
       "      <th>E</th>\n",
       "    </tr>\n",
       "  </thead>\n",
       "  <tbody>\n",
       "    <tr>\n",
       "      <th>0</th>\n",
       "      <td>9875</td>\n",
       "      <td>0.584004</td>\n",
       "      <td>0.641638</td>\n",
       "      <td>0.590761</td>\n",
       "      <td>0.827202</td>\n",
       "    </tr>\n",
       "    <tr>\n",
       "      <th>1</th>\n",
       "      <td>0.21902</td>\n",
       "      <td>0.279671</td>\n",
       "      <td>0.315153</td>\n",
       "      <td>0.537852</td>\n",
       "      <td>0.522993</td>\n",
       "    </tr>\n",
       "    <tr>\n",
       "      <th>2</th>\n",
       "      <td>0.0386159</td>\n",
       "      <td>0.600151</td>\n",
       "      <td>0.071985</td>\n",
       "      <td>0.969800</td>\n",
       "      <td>0.648097</td>\n",
       "    </tr>\n",
       "  </tbody>\n",
       "</table>\n",
       "</div>"
      ],
      "text/plain": [
       "           A         B         C         D         E\n",
       "0       9875  0.584004  0.641638  0.590761  0.827202\n",
       "1    0.21902  0.279671  0.315153  0.537852  0.522993\n",
       "2  0.0386159  0.600151  0.071985  0.969800  0.648097"
      ]
     },
     "execution_count": 106,
     "metadata": {},
     "output_type": "execute_result"
    }
   ],
   "source": [
    "newDf.head(3)"
   ]
  },
  {
   "cell_type": "code",
   "execution_count": 107,
   "id": "e88d3c68",
   "metadata": {},
   "outputs": [
    {
     "data": {
      "text/plain": [
       "9875"
      ]
     },
     "execution_count": 107,
     "metadata": {},
     "output_type": "execute_result"
    }
   ],
   "source": [
    "newDf.loc[0, \"A\"]"
   ]
  },
  {
   "cell_type": "code",
   "execution_count": 108,
   "id": "b81116b9",
   "metadata": {},
   "outputs": [],
   "source": [
    "newDf.loc[0,\"A\"]=65"
   ]
  },
  {
   "cell_type": "code",
   "execution_count": 109,
   "id": "55f459c8",
   "metadata": {},
   "outputs": [
    {
     "data": {
      "text/html": [
       "<div>\n",
       "<style scoped>\n",
       "    .dataframe tbody tr th:only-of-type {\n",
       "        vertical-align: middle;\n",
       "    }\n",
       "\n",
       "    .dataframe tbody tr th {\n",
       "        vertical-align: top;\n",
       "    }\n",
       "\n",
       "    .dataframe thead th {\n",
       "        text-align: right;\n",
       "    }\n",
       "</style>\n",
       "<table border=\"1\" class=\"dataframe\">\n",
       "  <thead>\n",
       "    <tr style=\"text-align: right;\">\n",
       "      <th></th>\n",
       "      <th>A</th>\n",
       "      <th>B</th>\n",
       "      <th>C</th>\n",
       "      <th>D</th>\n",
       "      <th>E</th>\n",
       "    </tr>\n",
       "  </thead>\n",
       "  <tbody>\n",
       "    <tr>\n",
       "      <th>0</th>\n",
       "      <td>65</td>\n",
       "      <td>0.584004</td>\n",
       "      <td>0.641638</td>\n",
       "      <td>0.590761</td>\n",
       "      <td>0.827202</td>\n",
       "    </tr>\n",
       "    <tr>\n",
       "      <th>1</th>\n",
       "      <td>0.21902</td>\n",
       "      <td>0.279671</td>\n",
       "      <td>0.315153</td>\n",
       "      <td>0.537852</td>\n",
       "      <td>0.522993</td>\n",
       "    </tr>\n",
       "    <tr>\n",
       "      <th>2</th>\n",
       "      <td>0.0386159</td>\n",
       "      <td>0.600151</td>\n",
       "      <td>0.071985</td>\n",
       "      <td>0.969800</td>\n",
       "      <td>0.648097</td>\n",
       "    </tr>\n",
       "  </tbody>\n",
       "</table>\n",
       "</div>"
      ],
      "text/plain": [
       "           A         B         C         D         E\n",
       "0         65  0.584004  0.641638  0.590761  0.827202\n",
       "1    0.21902  0.279671  0.315153  0.537852  0.522993\n",
       "2  0.0386159  0.600151  0.071985  0.969800  0.648097"
      ]
     },
     "execution_count": 109,
     "metadata": {},
     "output_type": "execute_result"
    }
   ],
   "source": [
    "newDf.head(3)"
   ]
  },
  {
   "cell_type": "code",
   "execution_count": 110,
   "id": "ab8cb077",
   "metadata": {},
   "outputs": [
    {
     "data": {
      "text/plain": [
       "0.442801137983168"
      ]
     },
     "execution_count": 110,
     "metadata": {},
     "output_type": "execute_result"
    }
   ],
   "source": [
    "newDf.loc[35,\"A\"]"
   ]
  },
  {
   "cell_type": "code",
   "execution_count": 111,
   "id": "2f5d394a",
   "metadata": {},
   "outputs": [
    {
     "data": {
      "text/html": [
       "<div>\n",
       "<style scoped>\n",
       "    .dataframe tbody tr th:only-of-type {\n",
       "        vertical-align: middle;\n",
       "    }\n",
       "\n",
       "    .dataframe tbody tr th {\n",
       "        vertical-align: top;\n",
       "    }\n",
       "\n",
       "    .dataframe thead th {\n",
       "        text-align: right;\n",
       "    }\n",
       "</style>\n",
       "<table border=\"1\" class=\"dataframe\">\n",
       "  <thead>\n",
       "    <tr style=\"text-align: right;\">\n",
       "      <th></th>\n",
       "      <th>A</th>\n",
       "      <th>B</th>\n",
       "      <th>C</th>\n",
       "      <th>D</th>\n",
       "      <th>E</th>\n",
       "    </tr>\n",
       "  </thead>\n",
       "  <tbody>\n",
       "    <tr>\n",
       "      <th>1</th>\n",
       "      <td>0.21902</td>\n",
       "      <td>0.279671</td>\n",
       "      <td>0.315153</td>\n",
       "      <td>0.537852</td>\n",
       "      <td>0.522993</td>\n",
       "    </tr>\n",
       "    <tr>\n",
       "      <th>2</th>\n",
       "      <td>0.0386159</td>\n",
       "      <td>0.600151</td>\n",
       "      <td>0.071985</td>\n",
       "      <td>0.969800</td>\n",
       "      <td>0.648097</td>\n",
       "    </tr>\n",
       "    <tr>\n",
       "      <th>3</th>\n",
       "      <td>0.218335</td>\n",
       "      <td>0.516788</td>\n",
       "      <td>0.341376</td>\n",
       "      <td>0.654191</td>\n",
       "      <td>0.171033</td>\n",
       "    </tr>\n",
       "  </tbody>\n",
       "</table>\n",
       "</div>"
      ],
      "text/plain": [
       "           A         B         C         D         E\n",
       "1    0.21902  0.279671  0.315153  0.537852  0.522993\n",
       "2  0.0386159  0.600151  0.071985  0.969800  0.648097\n",
       "3   0.218335  0.516788  0.341376  0.654191  0.171033"
      ]
     },
     "execution_count": 111,
     "metadata": {},
     "output_type": "execute_result"
    }
   ],
   "source": [
    "newDf.drop(0, axis=0).head(3)"
   ]
  },
  {
   "cell_type": "code",
   "execution_count": 112,
   "id": "70aaad33",
   "metadata": {},
   "outputs": [
    {
     "data": {
      "text/html": [
       "<div>\n",
       "<style scoped>\n",
       "    .dataframe tbody tr th:only-of-type {\n",
       "        vertical-align: middle;\n",
       "    }\n",
       "\n",
       "    .dataframe tbody tr th {\n",
       "        vertical-align: top;\n",
       "    }\n",
       "\n",
       "    .dataframe thead th {\n",
       "        text-align: right;\n",
       "    }\n",
       "</style>\n",
       "<table border=\"1\" class=\"dataframe\">\n",
       "  <thead>\n",
       "    <tr style=\"text-align: right;\">\n",
       "      <th></th>\n",
       "      <th>B</th>\n",
       "      <th>C</th>\n",
       "      <th>D</th>\n",
       "      <th>E</th>\n",
       "    </tr>\n",
       "  </thead>\n",
       "  <tbody>\n",
       "    <tr>\n",
       "      <th>0</th>\n",
       "      <td>0.584004</td>\n",
       "      <td>0.641638</td>\n",
       "      <td>0.590761</td>\n",
       "      <td>0.827202</td>\n",
       "    </tr>\n",
       "    <tr>\n",
       "      <th>1</th>\n",
       "      <td>0.279671</td>\n",
       "      <td>0.315153</td>\n",
       "      <td>0.537852</td>\n",
       "      <td>0.522993</td>\n",
       "    </tr>\n",
       "    <tr>\n",
       "      <th>2</th>\n",
       "      <td>0.600151</td>\n",
       "      <td>0.071985</td>\n",
       "      <td>0.969800</td>\n",
       "      <td>0.648097</td>\n",
       "    </tr>\n",
       "  </tbody>\n",
       "</table>\n",
       "</div>"
      ],
      "text/plain": [
       "          B         C         D         E\n",
       "0  0.584004  0.641638  0.590761  0.827202\n",
       "1  0.279671  0.315153  0.537852  0.522993\n",
       "2  0.600151  0.071985  0.969800  0.648097"
      ]
     },
     "execution_count": 112,
     "metadata": {},
     "output_type": "execute_result"
    }
   ],
   "source": [
    "newDf.drop(\"A\", axis=1).head(3)"
   ]
  },
  {
   "cell_type": "code",
   "execution_count": 113,
   "id": "32e550e5",
   "metadata": {},
   "outputs": [
    {
     "data": {
      "text/html": [
       "<div>\n",
       "<style scoped>\n",
       "    .dataframe tbody tr th:only-of-type {\n",
       "        vertical-align: middle;\n",
       "    }\n",
       "\n",
       "    .dataframe tbody tr th {\n",
       "        vertical-align: top;\n",
       "    }\n",
       "\n",
       "    .dataframe thead th {\n",
       "        text-align: right;\n",
       "    }\n",
       "</style>\n",
       "<table border=\"1\" class=\"dataframe\">\n",
       "  <thead>\n",
       "    <tr style=\"text-align: right;\">\n",
       "      <th></th>\n",
       "      <th>A</th>\n",
       "      <th>B</th>\n",
       "      <th>C</th>\n",
       "      <th>D</th>\n",
       "      <th>E</th>\n",
       "    </tr>\n",
       "  </thead>\n",
       "  <tbody>\n",
       "    <tr>\n",
       "      <th>0</th>\n",
       "      <td>65</td>\n",
       "      <td>0.584004</td>\n",
       "      <td>0.641638</td>\n",
       "      <td>0.590761</td>\n",
       "      <td>0.827202</td>\n",
       "    </tr>\n",
       "    <tr>\n",
       "      <th>1</th>\n",
       "      <td>0.21902</td>\n",
       "      <td>0.279671</td>\n",
       "      <td>0.315153</td>\n",
       "      <td>0.537852</td>\n",
       "      <td>0.522993</td>\n",
       "    </tr>\n",
       "    <tr>\n",
       "      <th>2</th>\n",
       "      <td>0.0386159</td>\n",
       "      <td>0.600151</td>\n",
       "      <td>0.071985</td>\n",
       "      <td>0.969800</td>\n",
       "      <td>0.648097</td>\n",
       "    </tr>\n",
       "  </tbody>\n",
       "</table>\n",
       "</div>"
      ],
      "text/plain": [
       "           A         B         C         D         E\n",
       "0         65  0.584004  0.641638  0.590761  0.827202\n",
       "1    0.21902  0.279671  0.315153  0.537852  0.522993\n",
       "2  0.0386159  0.600151  0.071985  0.969800  0.648097"
      ]
     },
     "execution_count": 113,
     "metadata": {},
     "output_type": "execute_result"
    }
   ],
   "source": [
    "newDf.head(3)"
   ]
  },
  {
   "cell_type": "code",
   "execution_count": 114,
   "id": "64c80c34",
   "metadata": {},
   "outputs": [],
   "source": [
    "newDf = newDf.drop(\"A\", axis=1)"
   ]
  },
  {
   "cell_type": "code",
   "execution_count": 115,
   "id": "a6da5d77",
   "metadata": {},
   "outputs": [
    {
     "data": {
      "text/html": [
       "<div>\n",
       "<style scoped>\n",
       "    .dataframe tbody tr th:only-of-type {\n",
       "        vertical-align: middle;\n",
       "    }\n",
       "\n",
       "    .dataframe tbody tr th {\n",
       "        vertical-align: top;\n",
       "    }\n",
       "\n",
       "    .dataframe thead th {\n",
       "        text-align: right;\n",
       "    }\n",
       "</style>\n",
       "<table border=\"1\" class=\"dataframe\">\n",
       "  <thead>\n",
       "    <tr style=\"text-align: right;\">\n",
       "      <th></th>\n",
       "      <th>B</th>\n",
       "      <th>C</th>\n",
       "      <th>D</th>\n",
       "      <th>E</th>\n",
       "    </tr>\n",
       "  </thead>\n",
       "  <tbody>\n",
       "    <tr>\n",
       "      <th>0</th>\n",
       "      <td>0.584004</td>\n",
       "      <td>0.641638</td>\n",
       "      <td>0.590761</td>\n",
       "      <td>0.827202</td>\n",
       "    </tr>\n",
       "    <tr>\n",
       "      <th>1</th>\n",
       "      <td>0.279671</td>\n",
       "      <td>0.315153</td>\n",
       "      <td>0.537852</td>\n",
       "      <td>0.522993</td>\n",
       "    </tr>\n",
       "    <tr>\n",
       "      <th>2</th>\n",
       "      <td>0.600151</td>\n",
       "      <td>0.071985</td>\n",
       "      <td>0.969800</td>\n",
       "      <td>0.648097</td>\n",
       "    </tr>\n",
       "  </tbody>\n",
       "</table>\n",
       "</div>"
      ],
      "text/plain": [
       "          B         C         D         E\n",
       "0  0.584004  0.641638  0.590761  0.827202\n",
       "1  0.279671  0.315153  0.537852  0.522993\n",
       "2  0.600151  0.071985  0.969800  0.648097"
      ]
     },
     "execution_count": 115,
     "metadata": {},
     "output_type": "execute_result"
    }
   ],
   "source": [
    "newDf.head(3)"
   ]
  },
  {
   "cell_type": "code",
   "execution_count": 116,
   "id": "c9e744c9",
   "metadata": {},
   "outputs": [
    {
     "data": {
      "text/html": [
       "<div>\n",
       "<style scoped>\n",
       "    .dataframe tbody tr th:only-of-type {\n",
       "        vertical-align: middle;\n",
       "    }\n",
       "\n",
       "    .dataframe tbody tr th {\n",
       "        vertical-align: top;\n",
       "    }\n",
       "\n",
       "    .dataframe thead th {\n",
       "        text-align: right;\n",
       "    }\n",
       "</style>\n",
       "<table border=\"1\" class=\"dataframe\">\n",
       "  <thead>\n",
       "    <tr style=\"text-align: right;\">\n",
       "      <th></th>\n",
       "      <th>C</th>\n",
       "      <th>D</th>\n",
       "    </tr>\n",
       "  </thead>\n",
       "  <tbody>\n",
       "    <tr>\n",
       "      <th>1</th>\n",
       "      <td>0.315153</td>\n",
       "      <td>0.537852</td>\n",
       "    </tr>\n",
       "    <tr>\n",
       "      <th>2</th>\n",
       "      <td>0.071985</td>\n",
       "      <td>0.969800</td>\n",
       "    </tr>\n",
       "  </tbody>\n",
       "</table>\n",
       "</div>"
      ],
      "text/plain": [
       "          C         D\n",
       "1  0.315153  0.537852\n",
       "2  0.071985  0.969800"
      ]
     },
     "execution_count": 116,
     "metadata": {},
     "output_type": "execute_result"
    }
   ],
   "source": [
    "newDf.loc[[1,2],[\"C\",\"D\"]]"
   ]
  },
  {
   "cell_type": "code",
   "execution_count": 117,
   "id": "271d2c5f",
   "metadata": {},
   "outputs": [
    {
     "data": {
      "text/html": [
       "<div>\n",
       "<style scoped>\n",
       "    .dataframe tbody tr th:only-of-type {\n",
       "        vertical-align: middle;\n",
       "    }\n",
       "\n",
       "    .dataframe tbody tr th {\n",
       "        vertical-align: top;\n",
       "    }\n",
       "\n",
       "    .dataframe thead th {\n",
       "        text-align: right;\n",
       "    }\n",
       "</style>\n",
       "<table border=\"1\" class=\"dataframe\">\n",
       "  <thead>\n",
       "    <tr style=\"text-align: right;\">\n",
       "      <th></th>\n",
       "      <th>B</th>\n",
       "      <th>C</th>\n",
       "      <th>D</th>\n",
       "      <th>E</th>\n",
       "    </tr>\n",
       "  </thead>\n",
       "  <tbody>\n",
       "    <tr>\n",
       "      <th>0</th>\n",
       "      <td>0.584004</td>\n",
       "      <td>0.641638</td>\n",
       "      <td>0.590761</td>\n",
       "      <td>0.827202</td>\n",
       "    </tr>\n",
       "    <tr>\n",
       "      <th>1</th>\n",
       "      <td>0.279671</td>\n",
       "      <td>0.315153</td>\n",
       "      <td>0.537852</td>\n",
       "      <td>0.522993</td>\n",
       "    </tr>\n",
       "    <tr>\n",
       "      <th>2</th>\n",
       "      <td>0.600151</td>\n",
       "      <td>0.071985</td>\n",
       "      <td>0.969800</td>\n",
       "      <td>0.648097</td>\n",
       "    </tr>\n",
       "  </tbody>\n",
       "</table>\n",
       "</div>"
      ],
      "text/plain": [
       "          B         C         D         E\n",
       "0  0.584004  0.641638  0.590761  0.827202\n",
       "1  0.279671  0.315153  0.537852  0.522993\n",
       "2  0.600151  0.071985  0.969800  0.648097"
      ]
     },
     "execution_count": 117,
     "metadata": {},
     "output_type": "execute_result"
    }
   ],
   "source": [
    "newDf.head(3)"
   ]
  },
  {
   "cell_type": "code",
   "execution_count": 118,
   "id": "a79acb5b",
   "metadata": {},
   "outputs": [
    {
     "data": {
      "text/html": [
       "<div>\n",
       "<style scoped>\n",
       "    .dataframe tbody tr th:only-of-type {\n",
       "        vertical-align: middle;\n",
       "    }\n",
       "\n",
       "    .dataframe tbody tr th {\n",
       "        vertical-align: top;\n",
       "    }\n",
       "\n",
       "    .dataframe thead th {\n",
       "        text-align: right;\n",
       "    }\n",
       "</style>\n",
       "<table border=\"1\" class=\"dataframe\">\n",
       "  <thead>\n",
       "    <tr style=\"text-align: right;\">\n",
       "      <th></th>\n",
       "      <th>C</th>\n",
       "      <th>D</th>\n",
       "    </tr>\n",
       "  </thead>\n",
       "  <tbody>\n",
       "    <tr>\n",
       "      <th>0</th>\n",
       "      <td>0.641638</td>\n",
       "      <td>0.590761</td>\n",
       "    </tr>\n",
       "    <tr>\n",
       "      <th>1</th>\n",
       "      <td>0.315153</td>\n",
       "      <td>0.537852</td>\n",
       "    </tr>\n",
       "    <tr>\n",
       "      <th>2</th>\n",
       "      <td>0.071985</td>\n",
       "      <td>0.969800</td>\n",
       "    </tr>\n",
       "    <tr>\n",
       "      <th>3</th>\n",
       "      <td>0.341376</td>\n",
       "      <td>0.654191</td>\n",
       "    </tr>\n",
       "    <tr>\n",
       "      <th>4</th>\n",
       "      <td>0.609761</td>\n",
       "      <td>0.777708</td>\n",
       "    </tr>\n",
       "    <tr>\n",
       "      <th>...</th>\n",
       "      <td>...</td>\n",
       "      <td>...</td>\n",
       "    </tr>\n",
       "    <tr>\n",
       "      <th>325</th>\n",
       "      <td>0.601999</td>\n",
       "      <td>0.280884</td>\n",
       "    </tr>\n",
       "    <tr>\n",
       "      <th>326</th>\n",
       "      <td>0.837567</td>\n",
       "      <td>0.396409</td>\n",
       "    </tr>\n",
       "    <tr>\n",
       "      <th>327</th>\n",
       "      <td>0.590287</td>\n",
       "      <td>0.611523</td>\n",
       "    </tr>\n",
       "    <tr>\n",
       "      <th>328</th>\n",
       "      <td>0.173811</td>\n",
       "      <td>0.790897</td>\n",
       "    </tr>\n",
       "    <tr>\n",
       "      <th>329</th>\n",
       "      <td>0.418457</td>\n",
       "      <td>0.641351</td>\n",
       "    </tr>\n",
       "  </tbody>\n",
       "</table>\n",
       "<p>330 rows × 2 columns</p>\n",
       "</div>"
      ],
      "text/plain": [
       "            C         D\n",
       "0    0.641638  0.590761\n",
       "1    0.315153  0.537852\n",
       "2    0.071985  0.969800\n",
       "3    0.341376  0.654191\n",
       "4    0.609761  0.777708\n",
       "..        ...       ...\n",
       "325  0.601999  0.280884\n",
       "326  0.837567  0.396409\n",
       "327  0.590287  0.611523\n",
       "328  0.173811  0.790897\n",
       "329  0.418457  0.641351\n",
       "\n",
       "[330 rows x 2 columns]"
      ]
     },
     "execution_count": 118,
     "metadata": {},
     "output_type": "execute_result"
    }
   ],
   "source": [
    "newDf.loc[:,[\"C\",\"D\"]]"
   ]
  },
  {
   "cell_type": "code",
   "execution_count": 119,
   "id": "c9ea4f63",
   "metadata": {},
   "outputs": [
    {
     "data": {
      "text/html": [
       "<div>\n",
       "<style scoped>\n",
       "    .dataframe tbody tr th:only-of-type {\n",
       "        vertical-align: middle;\n",
       "    }\n",
       "\n",
       "    .dataframe tbody tr th {\n",
       "        vertical-align: top;\n",
       "    }\n",
       "\n",
       "    .dataframe thead th {\n",
       "        text-align: right;\n",
       "    }\n",
       "</style>\n",
       "<table border=\"1\" class=\"dataframe\">\n",
       "  <thead>\n",
       "    <tr style=\"text-align: right;\">\n",
       "      <th></th>\n",
       "      <th>B</th>\n",
       "      <th>C</th>\n",
       "      <th>D</th>\n",
       "      <th>E</th>\n",
       "    </tr>\n",
       "  </thead>\n",
       "  <tbody>\n",
       "    <tr>\n",
       "      <th>1</th>\n",
       "      <td>0.279671</td>\n",
       "      <td>0.315153</td>\n",
       "      <td>0.537852</td>\n",
       "      <td>0.522993</td>\n",
       "    </tr>\n",
       "    <tr>\n",
       "      <th>2</th>\n",
       "      <td>0.600151</td>\n",
       "      <td>0.071985</td>\n",
       "      <td>0.969800</td>\n",
       "      <td>0.648097</td>\n",
       "    </tr>\n",
       "  </tbody>\n",
       "</table>\n",
       "</div>"
      ],
      "text/plain": [
       "          B         C         D         E\n",
       "1  0.279671  0.315153  0.537852  0.522993\n",
       "2  0.600151  0.071985  0.969800  0.648097"
      ]
     },
     "execution_count": 119,
     "metadata": {},
     "output_type": "execute_result"
    }
   ],
   "source": [
    "newDf.loc[[1,2],:]"
   ]
  },
  {
   "cell_type": "code",
   "execution_count": 120,
   "id": "bb39e71e",
   "metadata": {},
   "outputs": [
    {
     "data": {
      "text/html": [
       "<div>\n",
       "<style scoped>\n",
       "    .dataframe tbody tr th:only-of-type {\n",
       "        vertical-align: middle;\n",
       "    }\n",
       "\n",
       "    .dataframe tbody tr th {\n",
       "        vertical-align: top;\n",
       "    }\n",
       "\n",
       "    .dataframe thead th {\n",
       "        text-align: right;\n",
       "    }\n",
       "</style>\n",
       "<table border=\"1\" class=\"dataframe\">\n",
       "  <thead>\n",
       "    <tr style=\"text-align: right;\">\n",
       "      <th></th>\n",
       "      <th>C</th>\n",
       "      <th>D</th>\n",
       "    </tr>\n",
       "  </thead>\n",
       "  <tbody>\n",
       "    <tr>\n",
       "      <th>0</th>\n",
       "      <td>0.641638</td>\n",
       "      <td>0.590761</td>\n",
       "    </tr>\n",
       "    <tr>\n",
       "      <th>1</th>\n",
       "      <td>0.315153</td>\n",
       "      <td>0.537852</td>\n",
       "    </tr>\n",
       "    <tr>\n",
       "      <th>2</th>\n",
       "      <td>0.071985</td>\n",
       "      <td>0.969800</td>\n",
       "    </tr>\n",
       "    <tr>\n",
       "      <th>3</th>\n",
       "      <td>0.341376</td>\n",
       "      <td>0.654191</td>\n",
       "    </tr>\n",
       "    <tr>\n",
       "      <th>4</th>\n",
       "      <td>0.609761</td>\n",
       "      <td>0.777708</td>\n",
       "    </tr>\n",
       "    <tr>\n",
       "      <th>5</th>\n",
       "      <td>0.476334</td>\n",
       "      <td>0.851669</td>\n",
       "    </tr>\n",
       "  </tbody>\n",
       "</table>\n",
       "</div>"
      ],
      "text/plain": [
       "          C         D\n",
       "0  0.641638  0.590761\n",
       "1  0.315153  0.537852\n",
       "2  0.071985  0.969800\n",
       "3  0.341376  0.654191\n",
       "4  0.609761  0.777708\n",
       "5  0.476334  0.851669"
      ]
     },
     "execution_count": 120,
     "metadata": {},
     "output_type": "execute_result"
    }
   ],
   "source": [
    "newDf.loc[:5,[\"C\",\"D\"]]"
   ]
  },
  {
   "cell_type": "code",
   "execution_count": 121,
   "id": "d9d9ff21",
   "metadata": {},
   "outputs": [
    {
     "data": {
      "text/html": [
       "<div>\n",
       "<style scoped>\n",
       "    .dataframe tbody tr th:only-of-type {\n",
       "        vertical-align: middle;\n",
       "    }\n",
       "\n",
       "    .dataframe tbody tr th {\n",
       "        vertical-align: top;\n",
       "    }\n",
       "\n",
       "    .dataframe thead th {\n",
       "        text-align: right;\n",
       "    }\n",
       "</style>\n",
       "<table border=\"1\" class=\"dataframe\">\n",
       "  <thead>\n",
       "    <tr style=\"text-align: right;\">\n",
       "      <th></th>\n",
       "      <th>B</th>\n",
       "      <th>C</th>\n",
       "      <th>D</th>\n",
       "    </tr>\n",
       "  </thead>\n",
       "  <tbody>\n",
       "    <tr>\n",
       "      <th>1</th>\n",
       "      <td>0.279671</td>\n",
       "      <td>0.315153</td>\n",
       "      <td>0.537852</td>\n",
       "    </tr>\n",
       "    <tr>\n",
       "      <th>2</th>\n",
       "      <td>0.600151</td>\n",
       "      <td>0.071985</td>\n",
       "      <td>0.969800</td>\n",
       "    </tr>\n",
       "  </tbody>\n",
       "</table>\n",
       "</div>"
      ],
      "text/plain": [
       "          B         C         D\n",
       "1  0.279671  0.315153  0.537852\n",
       "2  0.600151  0.071985  0.969800"
      ]
     },
     "execution_count": 121,
     "metadata": {},
     "output_type": "execute_result"
    }
   ],
   "source": [
    "newDf.loc[[1,2],:\"D\"]"
   ]
  },
  {
   "cell_type": "code",
   "execution_count": 122,
   "id": "54ca80c5",
   "metadata": {},
   "outputs": [
    {
     "data": {
      "text/html": [
       "<div>\n",
       "<style scoped>\n",
       "    .dataframe tbody tr th:only-of-type {\n",
       "        vertical-align: middle;\n",
       "    }\n",
       "\n",
       "    .dataframe tbody tr th {\n",
       "        vertical-align: top;\n",
       "    }\n",
       "\n",
       "    .dataframe thead th {\n",
       "        text-align: right;\n",
       "    }\n",
       "</style>\n",
       "<table border=\"1\" class=\"dataframe\">\n",
       "  <thead>\n",
       "    <tr style=\"text-align: right;\">\n",
       "      <th></th>\n",
       "      <th>B</th>\n",
       "      <th>C</th>\n",
       "      <th>D</th>\n",
       "      <th>E</th>\n",
       "    </tr>\n",
       "  </thead>\n",
       "  <tbody>\n",
       "    <tr>\n",
       "      <th>1</th>\n",
       "      <td>0.279671</td>\n",
       "      <td>0.315153</td>\n",
       "      <td>0.537852</td>\n",
       "      <td>0.522993</td>\n",
       "    </tr>\n",
       "    <tr>\n",
       "      <th>12</th>\n",
       "      <td>0.042747</td>\n",
       "      <td>0.763475</td>\n",
       "      <td>0.586176</td>\n",
       "      <td>0.435506</td>\n",
       "    </tr>\n",
       "    <tr>\n",
       "      <th>13</th>\n",
       "      <td>0.257240</td>\n",
       "      <td>0.988563</td>\n",
       "      <td>0.785409</td>\n",
       "      <td>0.170638</td>\n",
       "    </tr>\n",
       "    <tr>\n",
       "      <th>17</th>\n",
       "      <td>0.249168</td>\n",
       "      <td>0.141137</td>\n",
       "      <td>0.782501</td>\n",
       "      <td>0.047726</td>\n",
       "    </tr>\n",
       "    <tr>\n",
       "      <th>24</th>\n",
       "      <td>0.092861</td>\n",
       "      <td>0.056766</td>\n",
       "      <td>0.069848</td>\n",
       "      <td>0.395166</td>\n",
       "    </tr>\n",
       "    <tr>\n",
       "      <th>...</th>\n",
       "      <td>...</td>\n",
       "      <td>...</td>\n",
       "      <td>...</td>\n",
       "      <td>...</td>\n",
       "    </tr>\n",
       "    <tr>\n",
       "      <th>312</th>\n",
       "      <td>0.025225</td>\n",
       "      <td>0.756786</td>\n",
       "      <td>0.904126</td>\n",
       "      <td>0.244455</td>\n",
       "    </tr>\n",
       "    <tr>\n",
       "      <th>313</th>\n",
       "      <td>0.171005</td>\n",
       "      <td>0.508942</td>\n",
       "      <td>0.968892</td>\n",
       "      <td>0.991539</td>\n",
       "    </tr>\n",
       "    <tr>\n",
       "      <th>318</th>\n",
       "      <td>0.163847</td>\n",
       "      <td>0.091555</td>\n",
       "      <td>0.846440</td>\n",
       "      <td>0.170687</td>\n",
       "    </tr>\n",
       "    <tr>\n",
       "      <th>325</th>\n",
       "      <td>0.045743</td>\n",
       "      <td>0.601999</td>\n",
       "      <td>0.280884</td>\n",
       "      <td>0.807816</td>\n",
       "    </tr>\n",
       "    <tr>\n",
       "      <th>326</th>\n",
       "      <td>0.159610</td>\n",
       "      <td>0.837567</td>\n",
       "      <td>0.396409</td>\n",
       "      <td>0.314547</td>\n",
       "    </tr>\n",
       "  </tbody>\n",
       "</table>\n",
       "<p>92 rows × 4 columns</p>\n",
       "</div>"
      ],
      "text/plain": [
       "            B         C         D         E\n",
       "1    0.279671  0.315153  0.537852  0.522993\n",
       "12   0.042747  0.763475  0.586176  0.435506\n",
       "13   0.257240  0.988563  0.785409  0.170638\n",
       "17   0.249168  0.141137  0.782501  0.047726\n",
       "24   0.092861  0.056766  0.069848  0.395166\n",
       "..        ...       ...       ...       ...\n",
       "312  0.025225  0.756786  0.904126  0.244455\n",
       "313  0.171005  0.508942  0.968892  0.991539\n",
       "318  0.163847  0.091555  0.846440  0.170687\n",
       "325  0.045743  0.601999  0.280884  0.807816\n",
       "326  0.159610  0.837567  0.396409  0.314547\n",
       "\n",
       "[92 rows x 4 columns]"
      ]
     },
     "execution_count": 122,
     "metadata": {},
     "output_type": "execute_result"
    }
   ],
   "source": [
    "newDf.loc[(newDf[\"B\"]<0.3)]"
   ]
  },
  {
   "cell_type": "code",
   "execution_count": 123,
   "id": "df74d10b",
   "metadata": {},
   "outputs": [
    {
     "data": {
      "text/html": [
       "<div>\n",
       "<style scoped>\n",
       "    .dataframe tbody tr th:only-of-type {\n",
       "        vertical-align: middle;\n",
       "    }\n",
       "\n",
       "    .dataframe tbody tr th {\n",
       "        vertical-align: top;\n",
       "    }\n",
       "\n",
       "    .dataframe thead th {\n",
       "        text-align: right;\n",
       "    }\n",
       "</style>\n",
       "<table border=\"1\" class=\"dataframe\">\n",
       "  <thead>\n",
       "    <tr style=\"text-align: right;\">\n",
       "      <th></th>\n",
       "      <th>B</th>\n",
       "      <th>C</th>\n",
       "      <th>D</th>\n",
       "      <th>E</th>\n",
       "    </tr>\n",
       "  </thead>\n",
       "  <tbody>\n",
       "    <tr>\n",
       "      <th>1</th>\n",
       "      <td>0.279671</td>\n",
       "      <td>0.315153</td>\n",
       "      <td>0.537852</td>\n",
       "      <td>0.522993</td>\n",
       "    </tr>\n",
       "    <tr>\n",
       "      <th>12</th>\n",
       "      <td>0.042747</td>\n",
       "      <td>0.763475</td>\n",
       "      <td>0.586176</td>\n",
       "      <td>0.435506</td>\n",
       "    </tr>\n",
       "    <tr>\n",
       "      <th>13</th>\n",
       "      <td>0.257240</td>\n",
       "      <td>0.988563</td>\n",
       "      <td>0.785409</td>\n",
       "      <td>0.170638</td>\n",
       "    </tr>\n",
       "    <tr>\n",
       "      <th>17</th>\n",
       "      <td>0.249168</td>\n",
       "      <td>0.141137</td>\n",
       "      <td>0.782501</td>\n",
       "      <td>0.047726</td>\n",
       "    </tr>\n",
       "    <tr>\n",
       "      <th>25</th>\n",
       "      <td>0.178058</td>\n",
       "      <td>0.233705</td>\n",
       "      <td>0.317195</td>\n",
       "      <td>0.466098</td>\n",
       "    </tr>\n",
       "    <tr>\n",
       "      <th>...</th>\n",
       "      <td>...</td>\n",
       "      <td>...</td>\n",
       "      <td>...</td>\n",
       "      <td>...</td>\n",
       "    </tr>\n",
       "    <tr>\n",
       "      <th>312</th>\n",
       "      <td>0.025225</td>\n",
       "      <td>0.756786</td>\n",
       "      <td>0.904126</td>\n",
       "      <td>0.244455</td>\n",
       "    </tr>\n",
       "    <tr>\n",
       "      <th>313</th>\n",
       "      <td>0.171005</td>\n",
       "      <td>0.508942</td>\n",
       "      <td>0.968892</td>\n",
       "      <td>0.991539</td>\n",
       "    </tr>\n",
       "    <tr>\n",
       "      <th>318</th>\n",
       "      <td>0.163847</td>\n",
       "      <td>0.091555</td>\n",
       "      <td>0.846440</td>\n",
       "      <td>0.170687</td>\n",
       "    </tr>\n",
       "    <tr>\n",
       "      <th>325</th>\n",
       "      <td>0.045743</td>\n",
       "      <td>0.601999</td>\n",
       "      <td>0.280884</td>\n",
       "      <td>0.807816</td>\n",
       "    </tr>\n",
       "    <tr>\n",
       "      <th>326</th>\n",
       "      <td>0.159610</td>\n",
       "      <td>0.837567</td>\n",
       "      <td>0.396409</td>\n",
       "      <td>0.314547</td>\n",
       "    </tr>\n",
       "  </tbody>\n",
       "</table>\n",
       "<p>75 rows × 4 columns</p>\n",
       "</div>"
      ],
      "text/plain": [
       "            B         C         D         E\n",
       "1    0.279671  0.315153  0.537852  0.522993\n",
       "12   0.042747  0.763475  0.586176  0.435506\n",
       "13   0.257240  0.988563  0.785409  0.170638\n",
       "17   0.249168  0.141137  0.782501  0.047726\n",
       "25   0.178058  0.233705  0.317195  0.466098\n",
       "..        ...       ...       ...       ...\n",
       "312  0.025225  0.756786  0.904126  0.244455\n",
       "313  0.171005  0.508942  0.968892  0.991539\n",
       "318  0.163847  0.091555  0.846440  0.170687\n",
       "325  0.045743  0.601999  0.280884  0.807816\n",
       "326  0.159610  0.837567  0.396409  0.314547\n",
       "\n",
       "[75 rows x 4 columns]"
      ]
     },
     "execution_count": 123,
     "metadata": {},
     "output_type": "execute_result"
    }
   ],
   "source": [
    "newDf.loc[(newDf[\"B\"]<0.3) & (newDf[\"D\"]>0.2)]"
   ]
  },
  {
   "cell_type": "code",
   "execution_count": 124,
   "id": "641f8296",
   "metadata": {},
   "outputs": [
    {
     "data": {
      "text/html": [
       "<div>\n",
       "<style scoped>\n",
       "    .dataframe tbody tr th:only-of-type {\n",
       "        vertical-align: middle;\n",
       "    }\n",
       "\n",
       "    .dataframe tbody tr th {\n",
       "        vertical-align: top;\n",
       "    }\n",
       "\n",
       "    .dataframe thead th {\n",
       "        text-align: right;\n",
       "    }\n",
       "</style>\n",
       "<table border=\"1\" class=\"dataframe\">\n",
       "  <thead>\n",
       "    <tr style=\"text-align: right;\">\n",
       "      <th></th>\n",
       "      <th>B</th>\n",
       "      <th>C</th>\n",
       "      <th>D</th>\n",
       "      <th>E</th>\n",
       "    </tr>\n",
       "  </thead>\n",
       "  <tbody>\n",
       "    <tr>\n",
       "      <th>0</th>\n",
       "      <td>0.584004</td>\n",
       "      <td>0.641638</td>\n",
       "      <td>0.590761</td>\n",
       "      <td>0.827202</td>\n",
       "    </tr>\n",
       "    <tr>\n",
       "      <th>1</th>\n",
       "      <td>0.279671</td>\n",
       "      <td>0.315153</td>\n",
       "      <td>0.537852</td>\n",
       "      <td>0.522993</td>\n",
       "    </tr>\n",
       "    <tr>\n",
       "      <th>2</th>\n",
       "      <td>0.600151</td>\n",
       "      <td>0.071985</td>\n",
       "      <td>0.969800</td>\n",
       "      <td>0.648097</td>\n",
       "    </tr>\n",
       "  </tbody>\n",
       "</table>\n",
       "</div>"
      ],
      "text/plain": [
       "          B         C         D         E\n",
       "0  0.584004  0.641638  0.590761  0.827202\n",
       "1  0.279671  0.315153  0.537852  0.522993\n",
       "2  0.600151  0.071985  0.969800  0.648097"
      ]
     },
     "execution_count": 124,
     "metadata": {},
     "output_type": "execute_result"
    }
   ],
   "source": [
    "newDf.head(3)"
   ]
  },
  {
   "cell_type": "markdown",
   "id": "ff624342",
   "metadata": {},
   "source": [
    "## iloc"
   ]
  },
  {
   "cell_type": "code",
   "execution_count": 125,
   "id": "7576255c",
   "metadata": {},
   "outputs": [
    {
     "data": {
      "text/plain": [
       "0.5840042692072244"
      ]
     },
     "execution_count": 125,
     "metadata": {},
     "output_type": "execute_result"
    }
   ],
   "source": [
    "newDf.iloc[0,0]"
   ]
  },
  {
   "cell_type": "code",
   "execution_count": 126,
   "id": "7480b0eb",
   "metadata": {},
   "outputs": [],
   "source": [
    "newDf.iloc[0,0]=555"
   ]
  },
  {
   "cell_type": "code",
   "execution_count": 127,
   "id": "88f438c5",
   "metadata": {},
   "outputs": [
    {
     "data": {
      "text/html": [
       "<div>\n",
       "<style scoped>\n",
       "    .dataframe tbody tr th:only-of-type {\n",
       "        vertical-align: middle;\n",
       "    }\n",
       "\n",
       "    .dataframe tbody tr th {\n",
       "        vertical-align: top;\n",
       "    }\n",
       "\n",
       "    .dataframe thead th {\n",
       "        text-align: right;\n",
       "    }\n",
       "</style>\n",
       "<table border=\"1\" class=\"dataframe\">\n",
       "  <thead>\n",
       "    <tr style=\"text-align: right;\">\n",
       "      <th></th>\n",
       "      <th>B</th>\n",
       "      <th>C</th>\n",
       "      <th>D</th>\n",
       "      <th>E</th>\n",
       "    </tr>\n",
       "  </thead>\n",
       "  <tbody>\n",
       "    <tr>\n",
       "      <th>0</th>\n",
       "      <td>555.000000</td>\n",
       "      <td>0.641638</td>\n",
       "      <td>0.590761</td>\n",
       "      <td>0.827202</td>\n",
       "    </tr>\n",
       "    <tr>\n",
       "      <th>1</th>\n",
       "      <td>0.279671</td>\n",
       "      <td>0.315153</td>\n",
       "      <td>0.537852</td>\n",
       "      <td>0.522993</td>\n",
       "    </tr>\n",
       "    <tr>\n",
       "      <th>2</th>\n",
       "      <td>0.600151</td>\n",
       "      <td>0.071985</td>\n",
       "      <td>0.969800</td>\n",
       "      <td>0.648097</td>\n",
       "    </tr>\n",
       "    <tr>\n",
       "      <th>3</th>\n",
       "      <td>0.516788</td>\n",
       "      <td>0.341376</td>\n",
       "      <td>0.654191</td>\n",
       "      <td>0.171033</td>\n",
       "    </tr>\n",
       "    <tr>\n",
       "      <th>4</th>\n",
       "      <td>0.465228</td>\n",
       "      <td>0.609761</td>\n",
       "      <td>0.777708</td>\n",
       "      <td>0.218406</td>\n",
       "    </tr>\n",
       "  </tbody>\n",
       "</table>\n",
       "</div>"
      ],
      "text/plain": [
       "            B         C         D         E\n",
       "0  555.000000  0.641638  0.590761  0.827202\n",
       "1    0.279671  0.315153  0.537852  0.522993\n",
       "2    0.600151  0.071985  0.969800  0.648097\n",
       "3    0.516788  0.341376  0.654191  0.171033\n",
       "4    0.465228  0.609761  0.777708  0.218406"
      ]
     },
     "execution_count": 127,
     "metadata": {},
     "output_type": "execute_result"
    }
   ],
   "source": [
    "newDf.head()"
   ]
  },
  {
   "cell_type": "code",
   "execution_count": 128,
   "id": "eb0e9ae2",
   "metadata": {},
   "outputs": [
    {
     "data": {
      "text/html": [
       "<div>\n",
       "<style scoped>\n",
       "    .dataframe tbody tr th:only-of-type {\n",
       "        vertical-align: middle;\n",
       "    }\n",
       "\n",
       "    .dataframe tbody tr th {\n",
       "        vertical-align: top;\n",
       "    }\n",
       "\n",
       "    .dataframe thead th {\n",
       "        text-align: right;\n",
       "    }\n",
       "</style>\n",
       "<table border=\"1\" class=\"dataframe\">\n",
       "  <thead>\n",
       "    <tr style=\"text-align: right;\">\n",
       "      <th></th>\n",
       "      <th>C</th>\n",
       "      <th>E</th>\n",
       "    </tr>\n",
       "  </thead>\n",
       "  <tbody>\n",
       "    <tr>\n",
       "      <th>0</th>\n",
       "      <td>0.641638</td>\n",
       "      <td>0.827202</td>\n",
       "    </tr>\n",
       "    <tr>\n",
       "      <th>4</th>\n",
       "      <td>0.609761</td>\n",
       "      <td>0.218406</td>\n",
       "    </tr>\n",
       "  </tbody>\n",
       "</table>\n",
       "</div>"
      ],
      "text/plain": [
       "          C         E\n",
       "0  0.641638  0.827202\n",
       "4  0.609761  0.218406"
      ]
     },
     "execution_count": 128,
     "metadata": {},
     "output_type": "execute_result"
    }
   ],
   "source": [
    "newDf.iloc[[0,4],[1,3]]"
   ]
  },
  {
   "cell_type": "code",
   "execution_count": 129,
   "id": "118e433d",
   "metadata": {},
   "outputs": [
    {
     "data": {
      "text/html": [
       "<div>\n",
       "<style scoped>\n",
       "    .dataframe tbody tr th:only-of-type {\n",
       "        vertical-align: middle;\n",
       "    }\n",
       "\n",
       "    .dataframe tbody tr th {\n",
       "        vertical-align: top;\n",
       "    }\n",
       "\n",
       "    .dataframe thead th {\n",
       "        text-align: right;\n",
       "    }\n",
       "</style>\n",
       "<table border=\"1\" class=\"dataframe\">\n",
       "  <thead>\n",
       "    <tr style=\"text-align: right;\">\n",
       "      <th></th>\n",
       "      <th>B</th>\n",
       "      <th>C</th>\n",
       "      <th>D</th>\n",
       "      <th>E</th>\n",
       "    </tr>\n",
       "  </thead>\n",
       "  <tbody>\n",
       "    <tr>\n",
       "      <th>0</th>\n",
       "      <td>555.000000</td>\n",
       "      <td>0.641638</td>\n",
       "      <td>0.590761</td>\n",
       "      <td>0.827202</td>\n",
       "    </tr>\n",
       "    <tr>\n",
       "      <th>1</th>\n",
       "      <td>0.279671</td>\n",
       "      <td>0.315153</td>\n",
       "      <td>0.537852</td>\n",
       "      <td>0.522993</td>\n",
       "    </tr>\n",
       "    <tr>\n",
       "      <th>2</th>\n",
       "      <td>0.600151</td>\n",
       "      <td>0.071985</td>\n",
       "      <td>0.969800</td>\n",
       "      <td>0.648097</td>\n",
       "    </tr>\n",
       "    <tr>\n",
       "      <th>3</th>\n",
       "      <td>0.516788</td>\n",
       "      <td>0.341376</td>\n",
       "      <td>0.654191</td>\n",
       "      <td>0.171033</td>\n",
       "    </tr>\n",
       "  </tbody>\n",
       "</table>\n",
       "</div>"
      ],
      "text/plain": [
       "            B         C         D         E\n",
       "0  555.000000  0.641638  0.590761  0.827202\n",
       "1    0.279671  0.315153  0.537852  0.522993\n",
       "2    0.600151  0.071985  0.969800  0.648097\n",
       "3    0.516788  0.341376  0.654191  0.171033"
      ]
     },
     "execution_count": 129,
     "metadata": {},
     "output_type": "execute_result"
    }
   ],
   "source": [
    "newDf.head(4)"
   ]
  },
  {
   "cell_type": "code",
   "execution_count": 130,
   "id": "71ed9437",
   "metadata": {},
   "outputs": [
    {
     "data": {
      "text/html": [
       "<div>\n",
       "<style scoped>\n",
       "    .dataframe tbody tr th:only-of-type {\n",
       "        vertical-align: middle;\n",
       "    }\n",
       "\n",
       "    .dataframe tbody tr th {\n",
       "        vertical-align: top;\n",
       "    }\n",
       "\n",
       "    .dataframe thead th {\n",
       "        text-align: right;\n",
       "    }\n",
       "</style>\n",
       "<table border=\"1\" class=\"dataframe\">\n",
       "  <thead>\n",
       "    <tr style=\"text-align: right;\">\n",
       "      <th></th>\n",
       "      <th>B</th>\n",
       "      <th>C</th>\n",
       "      <th>D</th>\n",
       "      <th>E</th>\n",
       "    </tr>\n",
       "  </thead>\n",
       "  <tbody>\n",
       "    <tr>\n",
       "      <th>1</th>\n",
       "      <td>0.279671</td>\n",
       "      <td>0.315153</td>\n",
       "      <td>0.537852</td>\n",
       "      <td>0.522993</td>\n",
       "    </tr>\n",
       "    <tr>\n",
       "      <th>2</th>\n",
       "      <td>0.600151</td>\n",
       "      <td>0.071985</td>\n",
       "      <td>0.969800</td>\n",
       "      <td>0.648097</td>\n",
       "    </tr>\n",
       "    <tr>\n",
       "      <th>3</th>\n",
       "      <td>0.516788</td>\n",
       "      <td>0.341376</td>\n",
       "      <td>0.654191</td>\n",
       "      <td>0.171033</td>\n",
       "    </tr>\n",
       "    <tr>\n",
       "      <th>4</th>\n",
       "      <td>0.465228</td>\n",
       "      <td>0.609761</td>\n",
       "      <td>0.777708</td>\n",
       "      <td>0.218406</td>\n",
       "    </tr>\n",
       "    <tr>\n",
       "      <th>5</th>\n",
       "      <td>0.824672</td>\n",
       "      <td>0.476334</td>\n",
       "      <td>0.851669</td>\n",
       "      <td>0.474287</td>\n",
       "    </tr>\n",
       "  </tbody>\n",
       "</table>\n",
       "</div>"
      ],
      "text/plain": [
       "          B         C         D         E\n",
       "1  0.279671  0.315153  0.537852  0.522993\n",
       "2  0.600151  0.071985  0.969800  0.648097\n",
       "3  0.516788  0.341376  0.654191  0.171033\n",
       "4  0.465228  0.609761  0.777708  0.218406\n",
       "5  0.824672  0.476334  0.851669  0.474287"
      ]
     },
     "execution_count": 130,
     "metadata": {},
     "output_type": "execute_result"
    }
   ],
   "source": [
    "newDf.drop(0).head()"
   ]
  },
  {
   "cell_type": "code",
   "execution_count": 131,
   "id": "005bba18",
   "metadata": {},
   "outputs": [],
   "source": [
    "# newDf.drop(0, axis=1)"
   ]
  },
  {
   "cell_type": "code",
   "execution_count": 132,
   "id": "01ee438f",
   "metadata": {},
   "outputs": [],
   "source": [
    "# newDf.drop(\"B\", axis=1).head()"
   ]
  },
  {
   "cell_type": "code",
   "execution_count": 133,
   "id": "8970efaf",
   "metadata": {},
   "outputs": [
    {
     "data": {
      "text/html": [
       "<div>\n",
       "<style scoped>\n",
       "    .dataframe tbody tr th:only-of-type {\n",
       "        vertical-align: middle;\n",
       "    }\n",
       "\n",
       "    .dataframe tbody tr th {\n",
       "        vertical-align: top;\n",
       "    }\n",
       "\n",
       "    .dataframe thead th {\n",
       "        text-align: right;\n",
       "    }\n",
       "</style>\n",
       "<table border=\"1\" class=\"dataframe\">\n",
       "  <thead>\n",
       "    <tr style=\"text-align: right;\">\n",
       "      <th></th>\n",
       "      <th>B</th>\n",
       "      <th>E</th>\n",
       "    </tr>\n",
       "  </thead>\n",
       "  <tbody>\n",
       "    <tr>\n",
       "      <th>0</th>\n",
       "      <td>555.000000</td>\n",
       "      <td>0.827202</td>\n",
       "    </tr>\n",
       "    <tr>\n",
       "      <th>1</th>\n",
       "      <td>0.279671</td>\n",
       "      <td>0.522993</td>\n",
       "    </tr>\n",
       "    <tr>\n",
       "      <th>2</th>\n",
       "      <td>0.600151</td>\n",
       "      <td>0.648097</td>\n",
       "    </tr>\n",
       "    <tr>\n",
       "      <th>3</th>\n",
       "      <td>0.516788</td>\n",
       "      <td>0.171033</td>\n",
       "    </tr>\n",
       "    <tr>\n",
       "      <th>4</th>\n",
       "      <td>0.465228</td>\n",
       "      <td>0.218406</td>\n",
       "    </tr>\n",
       "  </tbody>\n",
       "</table>\n",
       "</div>"
      ],
      "text/plain": [
       "            B         E\n",
       "0  555.000000  0.827202\n",
       "1    0.279671  0.522993\n",
       "2    0.600151  0.648097\n",
       "3    0.516788  0.171033\n",
       "4    0.465228  0.218406"
      ]
     },
     "execution_count": 133,
     "metadata": {},
     "output_type": "execute_result"
    }
   ],
   "source": [
    "newDf.drop([\"C\", \"D\"], axis=1).head()"
   ]
  },
  {
   "cell_type": "code",
   "execution_count": 134,
   "id": "6f8ebaec",
   "metadata": {},
   "outputs": [
    {
     "data": {
      "text/html": [
       "<div>\n",
       "<style scoped>\n",
       "    .dataframe tbody tr th:only-of-type {\n",
       "        vertical-align: middle;\n",
       "    }\n",
       "\n",
       "    .dataframe tbody tr th {\n",
       "        vertical-align: top;\n",
       "    }\n",
       "\n",
       "    .dataframe thead th {\n",
       "        text-align: right;\n",
       "    }\n",
       "</style>\n",
       "<table border=\"1\" class=\"dataframe\">\n",
       "  <thead>\n",
       "    <tr style=\"text-align: right;\">\n",
       "      <th></th>\n",
       "      <th>B</th>\n",
       "      <th>C</th>\n",
       "      <th>D</th>\n",
       "      <th>E</th>\n",
       "    </tr>\n",
       "  </thead>\n",
       "  <tbody>\n",
       "    <tr>\n",
       "      <th>0</th>\n",
       "      <td>555.000000</td>\n",
       "      <td>0.641638</td>\n",
       "      <td>0.590761</td>\n",
       "      <td>0.827202</td>\n",
       "    </tr>\n",
       "    <tr>\n",
       "      <th>1</th>\n",
       "      <td>0.279671</td>\n",
       "      <td>0.315153</td>\n",
       "      <td>0.537852</td>\n",
       "      <td>0.522993</td>\n",
       "    </tr>\n",
       "    <tr>\n",
       "      <th>2</th>\n",
       "      <td>0.600151</td>\n",
       "      <td>0.071985</td>\n",
       "      <td>0.969800</td>\n",
       "      <td>0.648097</td>\n",
       "    </tr>\n",
       "    <tr>\n",
       "      <th>3</th>\n",
       "      <td>0.516788</td>\n",
       "      <td>0.341376</td>\n",
       "      <td>0.654191</td>\n",
       "      <td>0.171033</td>\n",
       "    </tr>\n",
       "    <tr>\n",
       "      <th>4</th>\n",
       "      <td>0.465228</td>\n",
       "      <td>0.609761</td>\n",
       "      <td>0.777708</td>\n",
       "      <td>0.218406</td>\n",
       "    </tr>\n",
       "  </tbody>\n",
       "</table>\n",
       "</div>"
      ],
      "text/plain": [
       "            B         C         D         E\n",
       "0  555.000000  0.641638  0.590761  0.827202\n",
       "1    0.279671  0.315153  0.537852  0.522993\n",
       "2    0.600151  0.071985  0.969800  0.648097\n",
       "3    0.516788  0.341376  0.654191  0.171033\n",
       "4    0.465228  0.609761  0.777708  0.218406"
      ]
     },
     "execution_count": 134,
     "metadata": {},
     "output_type": "execute_result"
    }
   ],
   "source": [
    "newDf.head()"
   ]
  },
  {
   "cell_type": "code",
   "execution_count": 135,
   "id": "499f3c14",
   "metadata": {},
   "outputs": [],
   "source": [
    "newDf.drop(['B', 'D'], axis=1, inplace=True)"
   ]
  },
  {
   "cell_type": "code",
   "execution_count": 136,
   "id": "d244b30c",
   "metadata": {},
   "outputs": [
    {
     "data": {
      "text/html": [
       "<div>\n",
       "<style scoped>\n",
       "    .dataframe tbody tr th:only-of-type {\n",
       "        vertical-align: middle;\n",
       "    }\n",
       "\n",
       "    .dataframe tbody tr th {\n",
       "        vertical-align: top;\n",
       "    }\n",
       "\n",
       "    .dataframe thead th {\n",
       "        text-align: right;\n",
       "    }\n",
       "</style>\n",
       "<table border=\"1\" class=\"dataframe\">\n",
       "  <thead>\n",
       "    <tr style=\"text-align: right;\">\n",
       "      <th></th>\n",
       "      <th>C</th>\n",
       "      <th>E</th>\n",
       "    </tr>\n",
       "  </thead>\n",
       "  <tbody>\n",
       "    <tr>\n",
       "      <th>0</th>\n",
       "      <td>0.641638</td>\n",
       "      <td>0.827202</td>\n",
       "    </tr>\n",
       "    <tr>\n",
       "      <th>1</th>\n",
       "      <td>0.315153</td>\n",
       "      <td>0.522993</td>\n",
       "    </tr>\n",
       "    <tr>\n",
       "      <th>2</th>\n",
       "      <td>0.071985</td>\n",
       "      <td>0.648097</td>\n",
       "    </tr>\n",
       "    <tr>\n",
       "      <th>3</th>\n",
       "      <td>0.341376</td>\n",
       "      <td>0.171033</td>\n",
       "    </tr>\n",
       "    <tr>\n",
       "      <th>4</th>\n",
       "      <td>0.609761</td>\n",
       "      <td>0.218406</td>\n",
       "    </tr>\n",
       "  </tbody>\n",
       "</table>\n",
       "</div>"
      ],
      "text/plain": [
       "          C         E\n",
       "0  0.641638  0.827202\n",
       "1  0.315153  0.522993\n",
       "2  0.071985  0.648097\n",
       "3  0.341376  0.171033\n",
       "4  0.609761  0.218406"
      ]
     },
     "execution_count": 136,
     "metadata": {},
     "output_type": "execute_result"
    }
   ],
   "source": [
    "newDf.head()"
   ]
  },
  {
   "cell_type": "code",
   "execution_count": 137,
   "id": "19724ab8",
   "metadata": {},
   "outputs": [
    {
     "data": {
      "text/html": [
       "<div>\n",
       "<style scoped>\n",
       "    .dataframe tbody tr th:only-of-type {\n",
       "        vertical-align: middle;\n",
       "    }\n",
       "\n",
       "    .dataframe tbody tr th {\n",
       "        vertical-align: top;\n",
       "    }\n",
       "\n",
       "    .dataframe thead th {\n",
       "        text-align: right;\n",
       "    }\n",
       "</style>\n",
       "<table border=\"1\" class=\"dataframe\">\n",
       "  <thead>\n",
       "    <tr style=\"text-align: right;\">\n",
       "      <th></th>\n",
       "      <th>index</th>\n",
       "      <th>C</th>\n",
       "      <th>E</th>\n",
       "    </tr>\n",
       "  </thead>\n",
       "  <tbody>\n",
       "    <tr>\n",
       "      <th>0</th>\n",
       "      <td>0</td>\n",
       "      <td>0.641638</td>\n",
       "      <td>0.827202</td>\n",
       "    </tr>\n",
       "    <tr>\n",
       "      <th>1</th>\n",
       "      <td>1</td>\n",
       "      <td>0.315153</td>\n",
       "      <td>0.522993</td>\n",
       "    </tr>\n",
       "    <tr>\n",
       "      <th>2</th>\n",
       "      <td>2</td>\n",
       "      <td>0.071985</td>\n",
       "      <td>0.648097</td>\n",
       "    </tr>\n",
       "    <tr>\n",
       "      <th>3</th>\n",
       "      <td>3</td>\n",
       "      <td>0.341376</td>\n",
       "      <td>0.171033</td>\n",
       "    </tr>\n",
       "    <tr>\n",
       "      <th>4</th>\n",
       "      <td>4</td>\n",
       "      <td>0.609761</td>\n",
       "      <td>0.218406</td>\n",
       "    </tr>\n",
       "  </tbody>\n",
       "</table>\n",
       "</div>"
      ],
      "text/plain": [
       "   index         C         E\n",
       "0      0  0.641638  0.827202\n",
       "1      1  0.315153  0.522993\n",
       "2      2  0.071985  0.648097\n",
       "3      3  0.341376  0.171033\n",
       "4      4  0.609761  0.218406"
      ]
     },
     "execution_count": 137,
     "metadata": {},
     "output_type": "execute_result"
    }
   ],
   "source": [
    "newDf.reset_index().head()"
   ]
  },
  {
   "cell_type": "code",
   "execution_count": 138,
   "id": "d3f8806e",
   "metadata": {},
   "outputs": [
    {
     "data": {
      "text/html": [
       "<div>\n",
       "<style scoped>\n",
       "    .dataframe tbody tr th:only-of-type {\n",
       "        vertical-align: middle;\n",
       "    }\n",
       "\n",
       "    .dataframe tbody tr th {\n",
       "        vertical-align: top;\n",
       "    }\n",
       "\n",
       "    .dataframe thead th {\n",
       "        text-align: right;\n",
       "    }\n",
       "</style>\n",
       "<table border=\"1\" class=\"dataframe\">\n",
       "  <thead>\n",
       "    <tr style=\"text-align: right;\">\n",
       "      <th></th>\n",
       "      <th>C</th>\n",
       "      <th>E</th>\n",
       "    </tr>\n",
       "  </thead>\n",
       "  <tbody>\n",
       "    <tr>\n",
       "      <th>0</th>\n",
       "      <td>0.641638</td>\n",
       "      <td>0.827202</td>\n",
       "    </tr>\n",
       "    <tr>\n",
       "      <th>1</th>\n",
       "      <td>0.315153</td>\n",
       "      <td>0.522993</td>\n",
       "    </tr>\n",
       "    <tr>\n",
       "      <th>2</th>\n",
       "      <td>0.071985</td>\n",
       "      <td>0.648097</td>\n",
       "    </tr>\n",
       "    <tr>\n",
       "      <th>3</th>\n",
       "      <td>0.341376</td>\n",
       "      <td>0.171033</td>\n",
       "    </tr>\n",
       "    <tr>\n",
       "      <th>4</th>\n",
       "      <td>0.609761</td>\n",
       "      <td>0.218406</td>\n",
       "    </tr>\n",
       "  </tbody>\n",
       "</table>\n",
       "</div>"
      ],
      "text/plain": [
       "          C         E\n",
       "0  0.641638  0.827202\n",
       "1  0.315153  0.522993\n",
       "2  0.071985  0.648097\n",
       "3  0.341376  0.171033\n",
       "4  0.609761  0.218406"
      ]
     },
     "execution_count": 138,
     "metadata": {},
     "output_type": "execute_result"
    }
   ],
   "source": [
    "newDf.reset_index(drop=True).head()"
   ]
  },
  {
   "cell_type": "code",
   "execution_count": 139,
   "id": "1eb2fb2c",
   "metadata": {},
   "outputs": [
    {
     "data": {
      "text/html": [
       "<div>\n",
       "<style scoped>\n",
       "    .dataframe tbody tr th:only-of-type {\n",
       "        vertical-align: middle;\n",
       "    }\n",
       "\n",
       "    .dataframe tbody tr th {\n",
       "        vertical-align: top;\n",
       "    }\n",
       "\n",
       "    .dataframe thead th {\n",
       "        text-align: right;\n",
       "    }\n",
       "</style>\n",
       "<table border=\"1\" class=\"dataframe\">\n",
       "  <thead>\n",
       "    <tr style=\"text-align: right;\">\n",
       "      <th></th>\n",
       "      <th>C</th>\n",
       "      <th>E</th>\n",
       "    </tr>\n",
       "  </thead>\n",
       "  <tbody>\n",
       "    <tr>\n",
       "      <th>0</th>\n",
       "      <td>0.641638</td>\n",
       "      <td>0.827202</td>\n",
       "    </tr>\n",
       "    <tr>\n",
       "      <th>1</th>\n",
       "      <td>0.315153</td>\n",
       "      <td>0.522993</td>\n",
       "    </tr>\n",
       "    <tr>\n",
       "      <th>2</th>\n",
       "      <td>0.071985</td>\n",
       "      <td>0.648097</td>\n",
       "    </tr>\n",
       "    <tr>\n",
       "      <th>3</th>\n",
       "      <td>0.341376</td>\n",
       "      <td>0.171033</td>\n",
       "    </tr>\n",
       "    <tr>\n",
       "      <th>4</th>\n",
       "      <td>0.609761</td>\n",
       "      <td>0.218406</td>\n",
       "    </tr>\n",
       "  </tbody>\n",
       "</table>\n",
       "</div>"
      ],
      "text/plain": [
       "          C         E\n",
       "0  0.641638  0.827202\n",
       "1  0.315153  0.522993\n",
       "2  0.071985  0.648097\n",
       "3  0.341376  0.171033\n",
       "4  0.609761  0.218406"
      ]
     },
     "execution_count": 139,
     "metadata": {},
     "output_type": "execute_result"
    }
   ],
   "source": [
    "newDf.head()"
   ]
  },
  {
   "cell_type": "code",
   "execution_count": 140,
   "id": "426b76d6",
   "metadata": {},
   "outputs": [],
   "source": [
    "newDf.reset_index(drop=True, inplace=True)"
   ]
  },
  {
   "cell_type": "code",
   "execution_count": 141,
   "id": "478ae7d5",
   "metadata": {},
   "outputs": [
    {
     "data": {
      "text/html": [
       "<div>\n",
       "<style scoped>\n",
       "    .dataframe tbody tr th:only-of-type {\n",
       "        vertical-align: middle;\n",
       "    }\n",
       "\n",
       "    .dataframe tbody tr th {\n",
       "        vertical-align: top;\n",
       "    }\n",
       "\n",
       "    .dataframe thead th {\n",
       "        text-align: right;\n",
       "    }\n",
       "</style>\n",
       "<table border=\"1\" class=\"dataframe\">\n",
       "  <thead>\n",
       "    <tr style=\"text-align: right;\">\n",
       "      <th></th>\n",
       "      <th>C</th>\n",
       "      <th>E</th>\n",
       "    </tr>\n",
       "  </thead>\n",
       "  <tbody>\n",
       "    <tr>\n",
       "      <th>0</th>\n",
       "      <td>0.641638</td>\n",
       "      <td>0.827202</td>\n",
       "    </tr>\n",
       "    <tr>\n",
       "      <th>1</th>\n",
       "      <td>0.315153</td>\n",
       "      <td>0.522993</td>\n",
       "    </tr>\n",
       "    <tr>\n",
       "      <th>2</th>\n",
       "      <td>0.071985</td>\n",
       "      <td>0.648097</td>\n",
       "    </tr>\n",
       "    <tr>\n",
       "      <th>3</th>\n",
       "      <td>0.341376</td>\n",
       "      <td>0.171033</td>\n",
       "    </tr>\n",
       "    <tr>\n",
       "      <th>4</th>\n",
       "      <td>0.609761</td>\n",
       "      <td>0.218406</td>\n",
       "    </tr>\n",
       "  </tbody>\n",
       "</table>\n",
       "</div>"
      ],
      "text/plain": [
       "          C         E\n",
       "0  0.641638  0.827202\n",
       "1  0.315153  0.522993\n",
       "2  0.071985  0.648097\n",
       "3  0.341376  0.171033\n",
       "4  0.609761  0.218406"
      ]
     },
     "execution_count": 141,
     "metadata": {},
     "output_type": "execute_result"
    }
   ],
   "source": [
    "newDf.head()"
   ]
  },
  {
   "cell_type": "markdown",
   "id": "45d17cd2-5567-4474-a2ec-ceb2984670ff",
   "metadata": {},
   "source": [
    "# Groupby\n",
    "The groupby method allows you to group rows of data together and call aggregate functions\n",
    "\n",
    "​\n",
    "​"
   ]
  },
  {
   "cell_type": "code",
   "execution_count": 142,
   "id": "321a8e7b",
   "metadata": {},
   "outputs": [],
   "source": [
    "data = {'Company':['GOOG','GOOG','MSFT','MSFT','FB','FB'],\n",
    "       'Person':['Sam','Charlie','Amy','Vanessa','Carl','Sarah'],\n",
    "       'Sales':[200,120,340,124,243,350]}"
   ]
  },
  {
   "cell_type": "code",
   "execution_count": 143,
   "id": "29c08d6a-6192-425e-b9a3-83801a5fa519",
   "metadata": {},
   "outputs": [],
   "source": [
    "df = pd.DataFrame(data)"
   ]
  },
  {
   "cell_type": "code",
   "execution_count": 144,
   "id": "afa78917-5b28-4d6d-b6f7-d782bce047b7",
   "metadata": {},
   "outputs": [
    {
     "data": {
      "text/html": [
       "<div>\n",
       "<style scoped>\n",
       "    .dataframe tbody tr th:only-of-type {\n",
       "        vertical-align: middle;\n",
       "    }\n",
       "\n",
       "    .dataframe tbody tr th {\n",
       "        vertical-align: top;\n",
       "    }\n",
       "\n",
       "    .dataframe thead th {\n",
       "        text-align: right;\n",
       "    }\n",
       "</style>\n",
       "<table border=\"1\" class=\"dataframe\">\n",
       "  <thead>\n",
       "    <tr style=\"text-align: right;\">\n",
       "      <th></th>\n",
       "      <th>Company</th>\n",
       "      <th>Person</th>\n",
       "      <th>Sales</th>\n",
       "    </tr>\n",
       "  </thead>\n",
       "  <tbody>\n",
       "    <tr>\n",
       "      <th>0</th>\n",
       "      <td>GOOG</td>\n",
       "      <td>Sam</td>\n",
       "      <td>200</td>\n",
       "    </tr>\n",
       "    <tr>\n",
       "      <th>1</th>\n",
       "      <td>GOOG</td>\n",
       "      <td>Charlie</td>\n",
       "      <td>120</td>\n",
       "    </tr>\n",
       "    <tr>\n",
       "      <th>2</th>\n",
       "      <td>MSFT</td>\n",
       "      <td>Amy</td>\n",
       "      <td>340</td>\n",
       "    </tr>\n",
       "    <tr>\n",
       "      <th>3</th>\n",
       "      <td>MSFT</td>\n",
       "      <td>Vanessa</td>\n",
       "      <td>124</td>\n",
       "    </tr>\n",
       "    <tr>\n",
       "      <th>4</th>\n",
       "      <td>FB</td>\n",
       "      <td>Carl</td>\n",
       "      <td>243</td>\n",
       "    </tr>\n",
       "    <tr>\n",
       "      <th>5</th>\n",
       "      <td>FB</td>\n",
       "      <td>Sarah</td>\n",
       "      <td>350</td>\n",
       "    </tr>\n",
       "  </tbody>\n",
       "</table>\n",
       "</div>"
      ],
      "text/plain": [
       "  Company   Person  Sales\n",
       "0    GOOG      Sam    200\n",
       "1    GOOG  Charlie    120\n",
       "2    MSFT      Amy    340\n",
       "3    MSFT  Vanessa    124\n",
       "4      FB     Carl    243\n",
       "5      FB    Sarah    350"
      ]
     },
     "execution_count": 144,
     "metadata": {},
     "output_type": "execute_result"
    }
   ],
   "source": [
    "df"
   ]
  },
  {
   "cell_type": "markdown",
   "id": "c9fa6ecd-3687-49c0-92cc-260f6fa64c8b",
   "metadata": {},
   "source": [
    "### Now you can use the .groupby() method to group rows together based off of a column name.\n",
    "For instance let's group based off of Company. This will create a DataFrameGroupBy object:"
   ]
  },
  {
   "cell_type": "code",
   "execution_count": 145,
   "id": "82a87de3-6f8c-4e78-a337-067df0eacadb",
   "metadata": {},
   "outputs": [
    {
     "data": {
      "text/plain": [
       "<pandas.core.groupby.generic.DataFrameGroupBy object at 0x0000026E7E36C588>"
      ]
     },
     "execution_count": 145,
     "metadata": {},
     "output_type": "execute_result"
    }
   ],
   "source": [
    "df.groupby('Company')"
   ]
  },
  {
   "cell_type": "markdown",
   "id": "79e87860-497b-4421-b073-57f8c635f9e2",
   "metadata": {},
   "source": [
    "##### You can save this object as a new variable:"
   ]
  },
  {
   "cell_type": "code",
   "execution_count": 146,
   "id": "bc653e03-6843-40cc-9ef7-ada128e011f2",
   "metadata": {},
   "outputs": [
    {
     "data": {
      "text/plain": [
       "pandas.core.groupby.generic.DataFrameGroupBy"
      ]
     },
     "execution_count": 146,
     "metadata": {},
     "output_type": "execute_result"
    }
   ],
   "source": [
    "by_comp = df.groupby(\"Company\")\n",
    "type(by_comp)"
   ]
  },
  {
   "cell_type": "markdown",
   "id": "6722c7d4-1fcb-47bd-a82d-5f417aa06668",
   "metadata": {},
   "source": [
    "#### And then call aggregate methods of the object:"
   ]
  },
  {
   "cell_type": "code",
   "execution_count": null,
   "id": "f82b5e22-49fb-41ff-a9f9-a47d81490804",
   "metadata": {},
   "outputs": [],
   "source": []
  },
  {
   "cell_type": "code",
   "execution_count": 147,
   "id": "f9542a6e-71fd-458c-8c35-56255b20a4f8",
   "metadata": {},
   "outputs": [
    {
     "data": {
      "text/html": [
       "<div>\n",
       "<style scoped>\n",
       "    .dataframe tbody tr th:only-of-type {\n",
       "        vertical-align: middle;\n",
       "    }\n",
       "\n",
       "    .dataframe tbody tr th {\n",
       "        vertical-align: top;\n",
       "    }\n",
       "\n",
       "    .dataframe thead th {\n",
       "        text-align: right;\n",
       "    }\n",
       "</style>\n",
       "<table border=\"1\" class=\"dataframe\">\n",
       "  <thead>\n",
       "    <tr style=\"text-align: right;\">\n",
       "      <th></th>\n",
       "      <th>Sales</th>\n",
       "    </tr>\n",
       "    <tr>\n",
       "      <th>Company</th>\n",
       "      <th></th>\n",
       "    </tr>\n",
       "  </thead>\n",
       "  <tbody>\n",
       "    <tr>\n",
       "      <th>FB</th>\n",
       "      <td>296.5</td>\n",
       "    </tr>\n",
       "    <tr>\n",
       "      <th>GOOG</th>\n",
       "      <td>160.0</td>\n",
       "    </tr>\n",
       "    <tr>\n",
       "      <th>MSFT</th>\n",
       "      <td>232.0</td>\n",
       "    </tr>\n",
       "  </tbody>\n",
       "</table>\n",
       "</div>"
      ],
      "text/plain": [
       "         Sales\n",
       "Company       \n",
       "FB       296.5\n",
       "GOOG     160.0\n",
       "MSFT     232.0"
      ]
     },
     "execution_count": 147,
     "metadata": {},
     "output_type": "execute_result"
    }
   ],
   "source": [
    "by_comp.mean()"
   ]
  },
  {
   "cell_type": "code",
   "execution_count": 148,
   "id": "43a7e580-2f64-4f58-8dcf-226b9008f9fd",
   "metadata": {},
   "outputs": [
    {
     "data": {
      "text/html": [
       "<div>\n",
       "<style scoped>\n",
       "    .dataframe tbody tr th:only-of-type {\n",
       "        vertical-align: middle;\n",
       "    }\n",
       "\n",
       "    .dataframe tbody tr th {\n",
       "        vertical-align: top;\n",
       "    }\n",
       "\n",
       "    .dataframe thead th {\n",
       "        text-align: right;\n",
       "    }\n",
       "</style>\n",
       "<table border=\"1\" class=\"dataframe\">\n",
       "  <thead>\n",
       "    <tr style=\"text-align: right;\">\n",
       "      <th></th>\n",
       "      <th>Sales</th>\n",
       "    </tr>\n",
       "    <tr>\n",
       "      <th>Company</th>\n",
       "      <th></th>\n",
       "    </tr>\n",
       "  </thead>\n",
       "  <tbody>\n",
       "    <tr>\n",
       "      <th>FB</th>\n",
       "      <td>296.5</td>\n",
       "    </tr>\n",
       "    <tr>\n",
       "      <th>GOOG</th>\n",
       "      <td>160.0</td>\n",
       "    </tr>\n",
       "    <tr>\n",
       "      <th>MSFT</th>\n",
       "      <td>232.0</td>\n",
       "    </tr>\n",
       "  </tbody>\n",
       "</table>\n",
       "</div>"
      ],
      "text/plain": [
       "         Sales\n",
       "Company       \n",
       "FB       296.5\n",
       "GOOG     160.0\n",
       "MSFT     232.0"
      ]
     },
     "execution_count": 148,
     "metadata": {},
     "output_type": "execute_result"
    }
   ],
   "source": [
    "df.groupby('Company').mean()"
   ]
  },
  {
   "cell_type": "code",
   "execution_count": 149,
   "id": "83b303f9-625c-4829-abc8-6e320b414fda",
   "metadata": {},
   "outputs": [
    {
     "data": {
      "text/html": [
       "<div>\n",
       "<style scoped>\n",
       "    .dataframe tbody tr th:only-of-type {\n",
       "        vertical-align: middle;\n",
       "    }\n",
       "\n",
       "    .dataframe tbody tr th {\n",
       "        vertical-align: top;\n",
       "    }\n",
       "\n",
       "    .dataframe thead th {\n",
       "        text-align: right;\n",
       "    }\n",
       "</style>\n",
       "<table border=\"1\" class=\"dataframe\">\n",
       "  <thead>\n",
       "    <tr style=\"text-align: right;\">\n",
       "      <th></th>\n",
       "      <th>Sales</th>\n",
       "    </tr>\n",
       "    <tr>\n",
       "      <th>Company</th>\n",
       "      <th></th>\n",
       "    </tr>\n",
       "  </thead>\n",
       "  <tbody>\n",
       "    <tr>\n",
       "      <th>FB</th>\n",
       "      <td>75.660426</td>\n",
       "    </tr>\n",
       "    <tr>\n",
       "      <th>GOOG</th>\n",
       "      <td>56.568542</td>\n",
       "    </tr>\n",
       "    <tr>\n",
       "      <th>MSFT</th>\n",
       "      <td>152.735065</td>\n",
       "    </tr>\n",
       "  </tbody>\n",
       "</table>\n",
       "</div>"
      ],
      "text/plain": [
       "              Sales\n",
       "Company            \n",
       "FB        75.660426\n",
       "GOOG      56.568542\n",
       "MSFT     152.735065"
      ]
     },
     "execution_count": 149,
     "metadata": {},
     "output_type": "execute_result"
    }
   ],
   "source": [
    "by_comp.std()"
   ]
  },
  {
   "cell_type": "code",
   "execution_count": 150,
   "id": "099a0ec6-2d70-4c7b-b6d3-78408d22b86d",
   "metadata": {},
   "outputs": [
    {
     "data": {
      "text/html": [
       "<div>\n",
       "<style scoped>\n",
       "    .dataframe tbody tr th:only-of-type {\n",
       "        vertical-align: middle;\n",
       "    }\n",
       "\n",
       "    .dataframe tbody tr th {\n",
       "        vertical-align: top;\n",
       "    }\n",
       "\n",
       "    .dataframe thead th {\n",
       "        text-align: right;\n",
       "    }\n",
       "</style>\n",
       "<table border=\"1\" class=\"dataframe\">\n",
       "  <thead>\n",
       "    <tr style=\"text-align: right;\">\n",
       "      <th></th>\n",
       "      <th>Person</th>\n",
       "      <th>Sales</th>\n",
       "    </tr>\n",
       "    <tr>\n",
       "      <th>Company</th>\n",
       "      <th></th>\n",
       "      <th></th>\n",
       "    </tr>\n",
       "  </thead>\n",
       "  <tbody>\n",
       "    <tr>\n",
       "      <th>FB</th>\n",
       "      <td>Carl</td>\n",
       "      <td>243</td>\n",
       "    </tr>\n",
       "    <tr>\n",
       "      <th>GOOG</th>\n",
       "      <td>Charlie</td>\n",
       "      <td>120</td>\n",
       "    </tr>\n",
       "    <tr>\n",
       "      <th>MSFT</th>\n",
       "      <td>Amy</td>\n",
       "      <td>124</td>\n",
       "    </tr>\n",
       "  </tbody>\n",
       "</table>\n",
       "</div>"
      ],
      "text/plain": [
       "          Person  Sales\n",
       "Company                \n",
       "FB          Carl    243\n",
       "GOOG     Charlie    120\n",
       "MSFT         Amy    124"
      ]
     },
     "execution_count": 150,
     "metadata": {},
     "output_type": "execute_result"
    }
   ],
   "source": [
    "by_comp.min()"
   ]
  },
  {
   "cell_type": "code",
   "execution_count": 151,
   "id": "de064240-1551-44b2-a5e2-6aa59b59cfed",
   "metadata": {},
   "outputs": [
    {
     "data": {
      "text/html": [
       "<div>\n",
       "<style scoped>\n",
       "    .dataframe tbody tr th:only-of-type {\n",
       "        vertical-align: middle;\n",
       "    }\n",
       "\n",
       "    .dataframe tbody tr th {\n",
       "        vertical-align: top;\n",
       "    }\n",
       "\n",
       "    .dataframe thead th {\n",
       "        text-align: right;\n",
       "    }\n",
       "</style>\n",
       "<table border=\"1\" class=\"dataframe\">\n",
       "  <thead>\n",
       "    <tr style=\"text-align: right;\">\n",
       "      <th></th>\n",
       "      <th>Person</th>\n",
       "      <th>Sales</th>\n",
       "    </tr>\n",
       "    <tr>\n",
       "      <th>Company</th>\n",
       "      <th></th>\n",
       "      <th></th>\n",
       "    </tr>\n",
       "  </thead>\n",
       "  <tbody>\n",
       "    <tr>\n",
       "      <th>FB</th>\n",
       "      <td>Sarah</td>\n",
       "      <td>350</td>\n",
       "    </tr>\n",
       "    <tr>\n",
       "      <th>GOOG</th>\n",
       "      <td>Sam</td>\n",
       "      <td>200</td>\n",
       "    </tr>\n",
       "    <tr>\n",
       "      <th>MSFT</th>\n",
       "      <td>Vanessa</td>\n",
       "      <td>340</td>\n",
       "    </tr>\n",
       "  </tbody>\n",
       "</table>\n",
       "</div>"
      ],
      "text/plain": [
       "          Person  Sales\n",
       "Company                \n",
       "FB         Sarah    350\n",
       "GOOG         Sam    200\n",
       "MSFT     Vanessa    340"
      ]
     },
     "execution_count": 151,
     "metadata": {},
     "output_type": "execute_result"
    }
   ],
   "source": [
    "by_comp.max()"
   ]
  },
  {
   "cell_type": "code",
   "execution_count": 152,
   "id": "0f2eaad7-ee3b-4664-80cf-3cdbd81a2d94",
   "metadata": {},
   "outputs": [
    {
     "data": {
      "text/html": [
       "<div>\n",
       "<style scoped>\n",
       "    .dataframe tbody tr th:only-of-type {\n",
       "        vertical-align: middle;\n",
       "    }\n",
       "\n",
       "    .dataframe tbody tr th {\n",
       "        vertical-align: top;\n",
       "    }\n",
       "\n",
       "    .dataframe thead th {\n",
       "        text-align: right;\n",
       "    }\n",
       "</style>\n",
       "<table border=\"1\" class=\"dataframe\">\n",
       "  <thead>\n",
       "    <tr style=\"text-align: right;\">\n",
       "      <th></th>\n",
       "      <th>Person</th>\n",
       "      <th>Sales</th>\n",
       "    </tr>\n",
       "    <tr>\n",
       "      <th>Company</th>\n",
       "      <th></th>\n",
       "      <th></th>\n",
       "    </tr>\n",
       "  </thead>\n",
       "  <tbody>\n",
       "    <tr>\n",
       "      <th>FB</th>\n",
       "      <td>2</td>\n",
       "      <td>2</td>\n",
       "    </tr>\n",
       "    <tr>\n",
       "      <th>GOOG</th>\n",
       "      <td>2</td>\n",
       "      <td>2</td>\n",
       "    </tr>\n",
       "    <tr>\n",
       "      <th>MSFT</th>\n",
       "      <td>2</td>\n",
       "      <td>2</td>\n",
       "    </tr>\n",
       "  </tbody>\n",
       "</table>\n",
       "</div>"
      ],
      "text/plain": [
       "         Person  Sales\n",
       "Company               \n",
       "FB            2      2\n",
       "GOOG          2      2\n",
       "MSFT          2      2"
      ]
     },
     "execution_count": 152,
     "metadata": {},
     "output_type": "execute_result"
    }
   ],
   "source": [
    "by_comp.count()"
   ]
  },
  {
   "cell_type": "code",
   "execution_count": 153,
   "id": "67f5bea3-09bd-45d4-8d41-7a5f1a4c18e8",
   "metadata": {},
   "outputs": [
    {
     "data": {
      "text/html": [
       "<div>\n",
       "<style scoped>\n",
       "    .dataframe tbody tr th:only-of-type {\n",
       "        vertical-align: middle;\n",
       "    }\n",
       "\n",
       "    .dataframe tbody tr th {\n",
       "        vertical-align: top;\n",
       "    }\n",
       "\n",
       "    .dataframe thead tr th {\n",
       "        text-align: left;\n",
       "    }\n",
       "\n",
       "    .dataframe thead tr:last-of-type th {\n",
       "        text-align: right;\n",
       "    }\n",
       "</style>\n",
       "<table border=\"1\" class=\"dataframe\">\n",
       "  <thead>\n",
       "    <tr>\n",
       "      <th></th>\n",
       "      <th colspan=\"8\" halign=\"left\">Sales</th>\n",
       "    </tr>\n",
       "    <tr>\n",
       "      <th></th>\n",
       "      <th>count</th>\n",
       "      <th>mean</th>\n",
       "      <th>std</th>\n",
       "      <th>min</th>\n",
       "      <th>25%</th>\n",
       "      <th>50%</th>\n",
       "      <th>75%</th>\n",
       "      <th>max</th>\n",
       "    </tr>\n",
       "    <tr>\n",
       "      <th>Company</th>\n",
       "      <th></th>\n",
       "      <th></th>\n",
       "      <th></th>\n",
       "      <th></th>\n",
       "      <th></th>\n",
       "      <th></th>\n",
       "      <th></th>\n",
       "      <th></th>\n",
       "    </tr>\n",
       "  </thead>\n",
       "  <tbody>\n",
       "    <tr>\n",
       "      <th>FB</th>\n",
       "      <td>2.0</td>\n",
       "      <td>296.5</td>\n",
       "      <td>75.660426</td>\n",
       "      <td>243.0</td>\n",
       "      <td>269.75</td>\n",
       "      <td>296.5</td>\n",
       "      <td>323.25</td>\n",
       "      <td>350.0</td>\n",
       "    </tr>\n",
       "    <tr>\n",
       "      <th>GOOG</th>\n",
       "      <td>2.0</td>\n",
       "      <td>160.0</td>\n",
       "      <td>56.568542</td>\n",
       "      <td>120.0</td>\n",
       "      <td>140.00</td>\n",
       "      <td>160.0</td>\n",
       "      <td>180.00</td>\n",
       "      <td>200.0</td>\n",
       "    </tr>\n",
       "    <tr>\n",
       "      <th>MSFT</th>\n",
       "      <td>2.0</td>\n",
       "      <td>232.0</td>\n",
       "      <td>152.735065</td>\n",
       "      <td>124.0</td>\n",
       "      <td>178.00</td>\n",
       "      <td>232.0</td>\n",
       "      <td>286.00</td>\n",
       "      <td>340.0</td>\n",
       "    </tr>\n",
       "  </tbody>\n",
       "</table>\n",
       "</div>"
      ],
      "text/plain": [
       "        Sales                                                        \n",
       "        count   mean         std    min     25%    50%     75%    max\n",
       "Company                                                              \n",
       "FB        2.0  296.5   75.660426  243.0  269.75  296.5  323.25  350.0\n",
       "GOOG      2.0  160.0   56.568542  120.0  140.00  160.0  180.00  200.0\n",
       "MSFT      2.0  232.0  152.735065  124.0  178.00  232.0  286.00  340.0"
      ]
     },
     "execution_count": 153,
     "metadata": {},
     "output_type": "execute_result"
    }
   ],
   "source": [
    "by_comp.describe()"
   ]
  },
  {
   "cell_type": "code",
   "execution_count": null,
   "id": "a0b84fbe-c58a-48e5-a8fd-833a4c7695e4",
   "metadata": {},
   "outputs": [],
   "source": []
  }
 ],
 "metadata": {
  "kernelspec": {
   "display_name": "Python 3 (ipykernel)",
   "language": "python",
   "name": "python3"
  },
  "language_info": {
   "codemirror_mode": {
    "name": "ipython",
    "version": 3
   },
   "file_extension": ".py",
   "mimetype": "text/x-python",
   "name": "python",
   "nbconvert_exporter": "python",
   "pygments_lexer": "ipython3",
   "version": "3.7.0"
  }
 },
 "nbformat": 4,
 "nbformat_minor": 5
}
